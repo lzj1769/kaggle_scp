{
 "cells": [
  {
   "cell_type": "code",
   "execution_count": 1,
   "id": "6b2bb52a-3a3e-4d7d-91b1-c7fb3141be44",
   "metadata": {},
   "outputs": [],
   "source": [
    "import numpy as np\n",
    "import pandas as pd\n",
    "import torch\n",
    "from tqdm import tqdm"
   ]
  },
  {
   "cell_type": "code",
   "execution_count": 2,
   "id": "211fc7d7-e701-4bc0-b3af-adbae5fbd067",
   "metadata": {},
   "outputs": [
    {
     "data": {
      "text/html": [
       "<div>\n",
       "<style scoped>\n",
       "    .dataframe tbody tr th:only-of-type {\n",
       "        vertical-align: middle;\n",
       "    }\n",
       "\n",
       "    .dataframe tbody tr th {\n",
       "        vertical-align: top;\n",
       "    }\n",
       "\n",
       "    .dataframe thead th {\n",
       "        text-align: right;\n",
       "    }\n",
       "</style>\n",
       "<table border=\"1\" class=\"dataframe\">\n",
       "  <thead>\n",
       "    <tr style=\"text-align: right;\">\n",
       "      <th></th>\n",
       "      <th>UMAP_0</th>\n",
       "      <th>UMAP_1</th>\n",
       "      <th>cell_type</th>\n",
       "    </tr>\n",
       "  </thead>\n",
       "  <tbody>\n",
       "    <tr>\n",
       "      <th>0</th>\n",
       "      <td>0.797641</td>\n",
       "      <td>-2.636483</td>\n",
       "      <td>B cells</td>\n",
       "    </tr>\n",
       "    <tr>\n",
       "      <th>1</th>\n",
       "      <td>11.063936</td>\n",
       "      <td>3.683218</td>\n",
       "      <td>Myeloid cells</td>\n",
       "    </tr>\n",
       "    <tr>\n",
       "      <th>2</th>\n",
       "      <td>2.168805</td>\n",
       "      <td>15.140528</td>\n",
       "      <td>NK cells</td>\n",
       "    </tr>\n",
       "    <tr>\n",
       "      <th>3</th>\n",
       "      <td>-0.163617</td>\n",
       "      <td>9.087748</td>\n",
       "      <td>T cells CD4+</td>\n",
       "    </tr>\n",
       "    <tr>\n",
       "      <th>4</th>\n",
       "      <td>-0.864449</td>\n",
       "      <td>6.846355</td>\n",
       "      <td>T cells CD8+</td>\n",
       "    </tr>\n",
       "  </tbody>\n",
       "</table>\n",
       "</div>"
      ],
      "text/plain": [
       "      UMAP_0     UMAP_1      cell_type\n",
       "0   0.797641  -2.636483        B cells\n",
       "1  11.063936   3.683218  Myeloid cells\n",
       "2   2.168805  15.140528       NK cells\n",
       "3  -0.163617   9.087748   T cells CD4+\n",
       "4  -0.864449   6.846355   T cells CD8+"
      ]
     },
     "execution_count": 2,
     "metadata": {},
     "output_type": "execute_result"
    }
   ],
   "source": [
    "df_embedding = pd.read_csv('../../results/cell_type_embedding/cell_type_umap.csv', index_col=0)\n",
    "df_embedding['cell_type'] = df_embedding.index\n",
    "df_embedding.reset_index(drop=True, inplace=True)\n",
    "df_embedding.head()"
   ]
  },
  {
   "cell_type": "code",
   "execution_count": 3,
   "id": "01cf7f58-4714-4b5a-8c13-8848dccc7db5",
   "metadata": {},
   "outputs": [
    {
     "name": "stdout",
     "output_type": "stream",
     "text": [
      "nk\n",
      "t_cd4\n",
      "t_cd8\n",
      "t_reg\n"
     ]
    }
   ],
   "source": [
    "for cell_type in ['nk', 't_cd4', 't_cd8', 't_reg']:\n",
    "    print(cell_type)\n",
    "    \n",
    "    df_train = pd.read_csv(f'../../results/PerturbNet/splited_data/train_{cell_type}.csv')\n",
    "    df_valid = pd.read_csv(f'../../results/PerturbNet/splited_data/valid_{cell_type}.csv')\n",
    "    \n",
    "    df = pd.merge(df_train, df_embedding, on='cell_type', how='left')\n",
    "    \n",
    "    train_x = df[['UMAP_' + str(i) for i in range(2)]].values\n",
    "    \n",
    "    df = pd.merge(df_valid, df_embedding, on='cell_type', how='left')\n",
    "    valid_x = df[['UMAP_' + str(i) for i in range(2)]].values\n",
    "    \n",
    "    np.savez(f'../../results/PerturbNet/cell_type_umap/train_{cell_type}.npz', x=train_x)\n",
    "    np.savez(f'../../results/PerturbNet/cell_type_umap/valid_{cell_type}.npz', x=valid_x)"
   ]
  },
  {
   "cell_type": "code",
   "execution_count": 4,
   "id": "7f3e0506-0f5e-4f20-91d4-f84299e79649",
   "metadata": {},
   "outputs": [],
   "source": [
    "df_test = pd.read_csv(f'../../results/PerturbNet/splited_data/test.csv')\n",
    "df = pd.merge(df_test, df_embedding, on='cell_type', how='left')\n",
    "test_x = df[['UMAP_' + str(i) for i in range(2)]].values\n",
    "np.savez(f'../../results/PerturbNet/cell_type_umap/test.npz', x=test_x)"
   ]
  }
 ],
 "metadata": {
  "kernelspec": {
   "display_name": "Python [conda env:zl_scp]",
   "language": "python",
   "name": "conda-env-zl_scp-py"
  },
  "language_info": {
   "codemirror_mode": {
    "name": "ipython",
    "version": 3
   },
   "file_extension": ".py",
   "mimetype": "text/x-python",
   "name": "python",
   "nbconvert_exporter": "python",
   "pygments_lexer": "ipython3",
   "version": "3.10.12"
  }
 },
 "nbformat": 4,
 "nbformat_minor": 5
}
