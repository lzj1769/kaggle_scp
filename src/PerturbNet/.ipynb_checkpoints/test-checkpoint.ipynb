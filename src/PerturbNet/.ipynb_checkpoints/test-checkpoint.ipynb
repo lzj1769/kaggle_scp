{
 "cells": [
  {
   "cell_type": "code",
   "execution_count": 27,
   "id": "2cbc77ca-3035-4749-a366-67cd3eabc8a5",
   "metadata": {},
   "outputs": [],
   "source": [
    "import pandas as pd\n",
    "import numpy as np"
   ]
  },
  {
   "cell_type": "code",
   "execution_count": 15,
   "id": "19476820-59ae-4596-86f2-aed2a522768f",
   "metadata": {},
   "outputs": [],
   "source": [
    "df = pd.read_csv('../../results/deep_tensor_factorization/df_train_nk.csv', index_col=0)\n",
    "df.sort_values(['cell_type', 'sm_name'], inplace=True)"
   ]
  },
  {
   "cell_type": "code",
   "execution_count": 16,
   "id": "fdd8e3ff-ba97-49c9-ae37-29b1a6abc856",
   "metadata": {},
   "outputs": [
    {
     "data": {
      "text/html": [
       "<div>\n",
       "<style scoped>\n",
       "    .dataframe tbody tr th:only-of-type {\n",
       "        vertical-align: middle;\n",
       "    }\n",
       "\n",
       "    .dataframe tbody tr th {\n",
       "        vertical-align: top;\n",
       "    }\n",
       "\n",
       "    .dataframe thead th {\n",
       "        text-align: right;\n",
       "    }\n",
       "</style>\n",
       "<table border=\"1\" class=\"dataframe\">\n",
       "  <thead>\n",
       "    <tr style=\"text-align: right;\">\n",
       "      <th></th>\n",
       "      <th>cell_type</th>\n",
       "      <th>sm_name</th>\n",
       "      <th>gene</th>\n",
       "      <th>p_value</th>\n",
       "    </tr>\n",
       "  </thead>\n",
       "  <tbody>\n",
       "    <tr>\n",
       "      <th>0</th>\n",
       "      <td>B cells</td>\n",
       "      <td>Alvocidib</td>\n",
       "      <td>A1BG</td>\n",
       "      <td>5.973634</td>\n",
       "    </tr>\n",
       "    <tr>\n",
       "      <th>485</th>\n",
       "      <td>B cells</td>\n",
       "      <td>Alvocidib</td>\n",
       "      <td>A1BG-AS1</td>\n",
       "      <td>1.339989</td>\n",
       "    </tr>\n",
       "    <tr>\n",
       "      <th>970</th>\n",
       "      <td>B cells</td>\n",
       "      <td>Alvocidib</td>\n",
       "      <td>A2M</td>\n",
       "      <td>7.261231</td>\n",
       "    </tr>\n",
       "    <tr>\n",
       "      <th>1455</th>\n",
       "      <td>B cells</td>\n",
       "      <td>Alvocidib</td>\n",
       "      <td>A2M-AS1</td>\n",
       "      <td>8.021802</td>\n",
       "    </tr>\n",
       "    <tr>\n",
       "      <th>1940</th>\n",
       "      <td>B cells</td>\n",
       "      <td>Alvocidib</td>\n",
       "      <td>A2MP1</td>\n",
       "      <td>24.671829</td>\n",
       "    </tr>\n",
       "  </tbody>\n",
       "</table>\n",
       "</div>"
      ],
      "text/plain": [
       "     cell_type    sm_name      gene    p_value\n",
       "0      B cells  Alvocidib      A1BG   5.973634\n",
       "485    B cells  Alvocidib  A1BG-AS1   1.339989\n",
       "970    B cells  Alvocidib       A2M   7.261231\n",
       "1455   B cells  Alvocidib   A2M-AS1   8.021802\n",
       "1940   B cells  Alvocidib     A2MP1  24.671829"
      ]
     },
     "execution_count": 16,
     "metadata": {},
     "output_type": "execute_result"
    }
   ],
   "source": [
    "df.head()"
   ]
  },
  {
   "cell_type": "code",
   "execution_count": 17,
   "id": "15d4d63e-b423-4c0a-860e-80810cb71498",
   "metadata": {},
   "outputs": [],
   "source": [
    "df['predict'] = 0"
   ]
  },
  {
   "cell_type": "code",
   "execution_count": 18,
   "id": "e65741d4-36ef-46e9-aa68-a1e8ae01f61d",
   "metadata": {},
   "outputs": [
    {
     "data": {
      "text/html": [
       "<div>\n",
       "<style scoped>\n",
       "    .dataframe tbody tr th:only-of-type {\n",
       "        vertical-align: middle;\n",
       "    }\n",
       "\n",
       "    .dataframe tbody tr th {\n",
       "        vertical-align: top;\n",
       "    }\n",
       "\n",
       "    .dataframe thead th {\n",
       "        text-align: right;\n",
       "    }\n",
       "</style>\n",
       "<table border=\"1\" class=\"dataframe\">\n",
       "  <thead>\n",
       "    <tr style=\"text-align: right;\">\n",
       "      <th></th>\n",
       "      <th>cell_type</th>\n",
       "      <th>sm_name</th>\n",
       "      <th>gene</th>\n",
       "      <th>p_value</th>\n",
       "      <th>predict</th>\n",
       "    </tr>\n",
       "  </thead>\n",
       "  <tbody>\n",
       "    <tr>\n",
       "      <th>0</th>\n",
       "      <td>B cells</td>\n",
       "      <td>Alvocidib</td>\n",
       "      <td>A1BG</td>\n",
       "      <td>5.973634</td>\n",
       "      <td>0</td>\n",
       "    </tr>\n",
       "    <tr>\n",
       "      <th>485</th>\n",
       "      <td>B cells</td>\n",
       "      <td>Alvocidib</td>\n",
       "      <td>A1BG-AS1</td>\n",
       "      <td>1.339989</td>\n",
       "      <td>0</td>\n",
       "    </tr>\n",
       "    <tr>\n",
       "      <th>970</th>\n",
       "      <td>B cells</td>\n",
       "      <td>Alvocidib</td>\n",
       "      <td>A2M</td>\n",
       "      <td>7.261231</td>\n",
       "      <td>0</td>\n",
       "    </tr>\n",
       "    <tr>\n",
       "      <th>1455</th>\n",
       "      <td>B cells</td>\n",
       "      <td>Alvocidib</td>\n",
       "      <td>A2M-AS1</td>\n",
       "      <td>8.021802</td>\n",
       "      <td>0</td>\n",
       "    </tr>\n",
       "    <tr>\n",
       "      <th>1940</th>\n",
       "      <td>B cells</td>\n",
       "      <td>Alvocidib</td>\n",
       "      <td>A2MP1</td>\n",
       "      <td>24.671829</td>\n",
       "      <td>0</td>\n",
       "    </tr>\n",
       "  </tbody>\n",
       "</table>\n",
       "</div>"
      ],
      "text/plain": [
       "     cell_type    sm_name      gene    p_value  predict\n",
       "0      B cells  Alvocidib      A1BG   5.973634        0\n",
       "485    B cells  Alvocidib  A1BG-AS1   1.339989        0\n",
       "970    B cells  Alvocidib       A2M   7.261231        0\n",
       "1455   B cells  Alvocidib   A2M-AS1   8.021802        0\n",
       "1940   B cells  Alvocidib     A2MP1  24.671829        0"
      ]
     },
     "execution_count": 18,
     "metadata": {},
     "output_type": "execute_result"
    }
   ],
   "source": [
    "df.head()"
   ]
  },
  {
   "cell_type": "code",
   "execution_count": 19,
   "id": "77ce04e7-ef2a-4c26-9081-5382964dc26f",
   "metadata": {},
   "outputs": [],
   "source": [
    "df['diff'] = (df['p_value'] - df['predict']) ** 2"
   ]
  },
  {
   "cell_type": "code",
   "execution_count": 20,
   "id": "6d2b0464-8d57-4028-9c7c-c60054d652df",
   "metadata": {},
   "outputs": [
    {
     "data": {
      "text/html": [
       "<div>\n",
       "<style scoped>\n",
       "    .dataframe tbody tr th:only-of-type {\n",
       "        vertical-align: middle;\n",
       "    }\n",
       "\n",
       "    .dataframe tbody tr th {\n",
       "        vertical-align: top;\n",
       "    }\n",
       "\n",
       "    .dataframe thead th {\n",
       "        text-align: right;\n",
       "    }\n",
       "</style>\n",
       "<table border=\"1\" class=\"dataframe\">\n",
       "  <thead>\n",
       "    <tr style=\"text-align: right;\">\n",
       "      <th></th>\n",
       "      <th>cell_type</th>\n",
       "      <th>sm_name</th>\n",
       "      <th>gene</th>\n",
       "      <th>p_value</th>\n",
       "      <th>predict</th>\n",
       "      <th>diff</th>\n",
       "    </tr>\n",
       "  </thead>\n",
       "  <tbody>\n",
       "    <tr>\n",
       "      <th>0</th>\n",
       "      <td>B cells</td>\n",
       "      <td>Alvocidib</td>\n",
       "      <td>A1BG</td>\n",
       "      <td>5.973634</td>\n",
       "      <td>0</td>\n",
       "      <td>35.684299</td>\n",
       "    </tr>\n",
       "    <tr>\n",
       "      <th>485</th>\n",
       "      <td>B cells</td>\n",
       "      <td>Alvocidib</td>\n",
       "      <td>A1BG-AS1</td>\n",
       "      <td>1.339989</td>\n",
       "      <td>0</td>\n",
       "      <td>1.795570</td>\n",
       "    </tr>\n",
       "    <tr>\n",
       "      <th>970</th>\n",
       "      <td>B cells</td>\n",
       "      <td>Alvocidib</td>\n",
       "      <td>A2M</td>\n",
       "      <td>7.261231</td>\n",
       "      <td>0</td>\n",
       "      <td>52.725471</td>\n",
       "    </tr>\n",
       "    <tr>\n",
       "      <th>1455</th>\n",
       "      <td>B cells</td>\n",
       "      <td>Alvocidib</td>\n",
       "      <td>A2M-AS1</td>\n",
       "      <td>8.021802</td>\n",
       "      <td>0</td>\n",
       "      <td>64.349307</td>\n",
       "    </tr>\n",
       "    <tr>\n",
       "      <th>1940</th>\n",
       "      <td>B cells</td>\n",
       "      <td>Alvocidib</td>\n",
       "      <td>A2MP1</td>\n",
       "      <td>24.671829</td>\n",
       "      <td>0</td>\n",
       "      <td>608.699135</td>\n",
       "    </tr>\n",
       "  </tbody>\n",
       "</table>\n",
       "</div>"
      ],
      "text/plain": [
       "     cell_type    sm_name      gene    p_value  predict        diff\n",
       "0      B cells  Alvocidib      A1BG   5.973634        0   35.684299\n",
       "485    B cells  Alvocidib  A1BG-AS1   1.339989        0    1.795570\n",
       "970    B cells  Alvocidib       A2M   7.261231        0   52.725471\n",
       "1455   B cells  Alvocidib   A2M-AS1   8.021802        0   64.349307\n",
       "1940   B cells  Alvocidib     A2MP1  24.671829        0  608.699135"
      ]
     },
     "execution_count": 20,
     "metadata": {},
     "output_type": "execute_result"
    }
   ],
   "source": [
    "df.head()"
   ]
  },
  {
   "cell_type": "code",
   "execution_count": 21,
   "id": "caa1ecb1-6249-4233-8605-75c43602428f",
   "metadata": {},
   "outputs": [],
   "source": [
    "df = df.drop(['gene', 'p_value', 'predict'], axis=1)"
   ]
  },
  {
   "cell_type": "code",
   "execution_count": 22,
   "id": "7d4ed629-8d7c-4b3e-acf0-df68ecd770f3",
   "metadata": {},
   "outputs": [
    {
     "data": {
      "text/html": [
       "<div>\n",
       "<style scoped>\n",
       "    .dataframe tbody tr th:only-of-type {\n",
       "        vertical-align: middle;\n",
       "    }\n",
       "\n",
       "    .dataframe tbody tr th {\n",
       "        vertical-align: top;\n",
       "    }\n",
       "\n",
       "    .dataframe thead th {\n",
       "        text-align: right;\n",
       "    }\n",
       "</style>\n",
       "<table border=\"1\" class=\"dataframe\">\n",
       "  <thead>\n",
       "    <tr style=\"text-align: right;\">\n",
       "      <th></th>\n",
       "      <th>cell_type</th>\n",
       "      <th>sm_name</th>\n",
       "      <th>diff</th>\n",
       "    </tr>\n",
       "  </thead>\n",
       "  <tbody>\n",
       "    <tr>\n",
       "      <th>0</th>\n",
       "      <td>B cells</td>\n",
       "      <td>Alvocidib</td>\n",
       "      <td>35.684299</td>\n",
       "    </tr>\n",
       "    <tr>\n",
       "      <th>485</th>\n",
       "      <td>B cells</td>\n",
       "      <td>Alvocidib</td>\n",
       "      <td>1.795570</td>\n",
       "    </tr>\n",
       "    <tr>\n",
       "      <th>970</th>\n",
       "      <td>B cells</td>\n",
       "      <td>Alvocidib</td>\n",
       "      <td>52.725471</td>\n",
       "    </tr>\n",
       "    <tr>\n",
       "      <th>1455</th>\n",
       "      <td>B cells</td>\n",
       "      <td>Alvocidib</td>\n",
       "      <td>64.349307</td>\n",
       "    </tr>\n",
       "    <tr>\n",
       "      <th>1940</th>\n",
       "      <td>B cells</td>\n",
       "      <td>Alvocidib</td>\n",
       "      <td>608.699135</td>\n",
       "    </tr>\n",
       "  </tbody>\n",
       "</table>\n",
       "</div>"
      ],
      "text/plain": [
       "     cell_type    sm_name        diff\n",
       "0      B cells  Alvocidib   35.684299\n",
       "485    B cells  Alvocidib    1.795570\n",
       "970    B cells  Alvocidib   52.725471\n",
       "1455   B cells  Alvocidib   64.349307\n",
       "1940   B cells  Alvocidib  608.699135"
      ]
     },
     "execution_count": 22,
     "metadata": {},
     "output_type": "execute_result"
    }
   ],
   "source": [
    "df.head()"
   ]
  },
  {
   "cell_type": "code",
   "execution_count": 23,
   "id": "2752be9f-86c1-4400-9453-6e6c52c6d43e",
   "metadata": {},
   "outputs": [],
   "source": [
    "grouped = df.groupby(['cell_type', 'sm_name'])"
   ]
  },
  {
   "cell_type": "code",
   "execution_count": 25,
   "id": "a50b7e9d-7920-4e0a-a83c-07d13f86e206",
   "metadata": {},
   "outputs": [],
   "source": [
    "df= grouped.mean()"
   ]
  },
  {
   "cell_type": "code",
   "execution_count": 29,
   "id": "6c91a500-5684-41c6-81e2-dd0d1848c2ce",
   "metadata": {},
   "outputs": [
    {
     "data": {
      "text/plain": [
       "1.314996806061046"
      ]
     },
     "execution_count": 29,
     "metadata": {},
     "output_type": "execute_result"
    }
   ],
   "source": [
    "np.mean(np.sqrt(df['diff']))"
   ]
  },
  {
   "cell_type": "code",
   "execution_count": null,
   "id": "fd0605d6-40b6-4511-b796-a4ab8835bf2a",
   "metadata": {},
   "outputs": [],
   "source": []
  }
 ],
 "metadata": {
  "kernelspec": {
   "display_name": "Python [conda env:zl_scp]",
   "language": "python",
   "name": "conda-env-zl_scp-py"
  },
  "language_info": {
   "codemirror_mode": {
    "name": "ipython",
    "version": 3
   },
   "file_extension": ".py",
   "mimetype": "text/x-python",
   "name": "python",
   "nbconvert_exporter": "python",
   "pygments_lexer": "ipython3",
   "version": "3.10.12"
  }
 },
 "nbformat": 4,
 "nbformat_minor": 5
}
