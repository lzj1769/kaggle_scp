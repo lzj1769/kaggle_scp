{
 "cells": [
  {
   "cell_type": "code",
   "execution_count": 1,
   "id": "6b2bb52a-3a3e-4d7d-91b1-c7fb3141be44",
   "metadata": {},
   "outputs": [],
   "source": [
    "import os\n",
    "import numpy as np\n",
    "import pandas as pd\n",
    "import torch\n",
    "from tqdm import tqdm\n",
    "from utils import get_cell_type_compound_gene"
   ]
  },
  {
   "cell_type": "code",
   "execution_count": 2,
   "id": "2429d14a-3848-4676-8d36-ee097edb45eb",
   "metadata": {},
   "outputs": [],
   "source": [
    "# https://www.kaggle.com/code/awater1223/op2-00-basic-metadata-eda#Data-split\n",
    "\n",
    "control_ids = [\n",
    "#     'LSM-36361'  # DMSO\n",
    "    'LSM-43181',  # Belinostat\n",
    "    'LSM-6303',  # Dabrafenib\n",
    "]\n",
    "\n",
    "privte_ids = [\n",
    "    'LSM-45710', 'LSM-4062', \n",
    "    'LSM-2193',  #  'forskolin' -> 'Colforsin'\n",
    "    'LSM-4105', 'LSM-4031', 'LSM-1099', 'LSM-45153', 'LSM-3822', 'LSM-4933', \n",
    "    'LSM-45630',  # 'KD-025' -> 'SLx-2119'\n",
    "    'LSM-6258', 'LSM-1023', 'LSM-2655', 'LSM-47602', 'LSM-3349', 'LSM-1020', 'LSM-1143',\n",
    "    'LSM-3828', 'LSM-1051', 'LSM-1120', 'LSM-5467', 'LSM-2292', 'LSM-43293', 'LSM-45437',\n",
    "    'LSM-2703', 'LSM-45831', 'LSM-1179', 'LSM-1199', 'LSM-1190', 'LSM-36374', 'LSM-5215',\n",
    "    'LSM-1195', 'LSM-45468', 'LSM-45410', 'LSM-47459', 'LSM-45663', 'LSM-45518', 'LSM-1062',\n",
    "    'LSM-3667',  # 'BRD-K74305673' -> 'IMD-0354',\n",
    "    'LSM-1032', 'LSM-5855', 'LSM-45988',\n",
    "    'LSM-24954',  # 'BRD-K98039984' -> 'Prednisolone'\n",
    "    'LSM-6286', 'LSM-45984', 'LSM-1124', 'LSM-1165', 'LSM-42802', 'LSM-1121', 'LSM-6308',\n",
    "    'LSM-1136', 'LSM-1186', 'LSM-45915', 'LSM-2621', 'LSM-5341', 'LSM-45724', 'LSM-2219',\n",
    "    'LSM-2936', 'LSM-3171', 'LSM-46889', 'LSM-2379', 'LSM-47132', 'LSM-47120', 'LSM-47437',\n",
    "    'LSM-1139', 'LSM-1144', 'LSM-4353', 'LSM-1210', 'LSM-5887', 'LSM-1025', 'LSM-5771', 'LSM-1132',\n",
    "    'LSM-1263',  # 'BRD-A04553218' -> 'Chlorpheniramine'\n",
    "    'LSM-1167',\n",
    "    'LSM-1194',  # 'BRD-A92800748' -> 'TIE2 Kinase Inhibitor'\n",
    "    'LSM-45948', 'LSM-45514', 'LSM-5430', 'LSM-2309', \n",
    "]\n",
    "\n",
    "public_ids = [\n",
    "    'LSM-43216', 'LSM-1050', 'LSM-45849', 'LSM-42800', 'LSM-1131', 'LSM-6335', 'LSM-1211',\n",
    "    'LSM-45239', 'LSM-1130', 'LSM-45786', 'LSM-5199', 'LSM-45281',\n",
    "    'LSM-6324', # 'ACY-1215' -> 'Ricolinostat'\n",
    "    'LSM-3309', 'LSM-1056', 'LSM-45591', 'LSM-46203', 'LSM-5662',\n",
    "    'LSM-47134',  # 'SB-2342' -> '5-(9-Isopropyl-8-methyl-2-morpholino-9H-purin-6-yl)pyrimidin-2-amine\t'\n",
    "    'LSM-45637', 'LSM-1127', 'LSM-46971', 'LSM-1172', 'LSM-46042', 'LSM-1101', 'LSM-45758',\n",
    "    'LSM-5218', 'LSM-2287', 'LSM-1014',\n",
    "    'LSM-1040', #  'fostamatinib' -> 'Tamatinib'\n",
    "    'LSM-1476;LSM-5290',\n",
    "    'LSM-45680',  # 'basimglurant' -> 'RG7090'\n",
    "    'LSM-4349',  # '5-iodotubercidin' -> 'IN1451'\n",
    "    'LSM-3425', 'LSM-45806',\n",
    "    'LSM-45616',  # 'SB-683698' -> 'TR-14035'\n",
    "    'LSM-1055',\n",
    "    'LSM-43281',  # 'C-646' -> 'STK219801'\n",
    "    'LSM-5690', 'LSM-1155', 'LSM-2499',\n",
    "    'LSM-2382',  # 'JTC-801' -> 'UNII-BXU45ZH6LI'\n",
    "    'LSM-45220', 'LSM-1037', 'LSM-1005', 'LSM-1180', 'LSM-36812',\n",
    "    'LSM-45924',  # 'filgotinib' -> 'GLPG0634'\n",
    "    'LSM-2013',  # 'TL-HRAS-61' -> TL_HRAS26'\n",
    "    'LSM-4738',\n",
    "]"
   ]
  },
  {
   "cell_type": "code",
   "execution_count": 3,
   "id": "8292b1b7-3d99-4b12-a33a-2d1ee33894e4",
   "metadata": {},
   "outputs": [],
   "source": [
    "def convert_to_long_df(df):\n",
    "    df = df.drop(['sm_lincs_id', 'SMILES', 'control'], axis=1)\n",
    "    df = pd.melt(df, id_vars=['cell_type', 'sm_name'], var_name='gene', value_name='target')\n",
    "    \n",
    "    return df"
   ]
  },
  {
   "cell_type": "code",
   "execution_count": 4,
   "id": "f1b93460-d06c-45db-b598-64fa568df12f",
   "metadata": {},
   "outputs": [],
   "source": [
    "cell_types, compounds, genes = get_cell_type_compound_gene()\n",
    "\n",
    "cell_type_names = {'NK cells': 'nk',\n",
    "                   'T cells CD4+': 't_cd4',\n",
    "                   'T cells CD8+': 't_cd8',\n",
    "                   'T regulatory cells': 't_reg'}"
   ]
  },
  {
   "cell_type": "code",
   "execution_count": 5,
   "id": "515261ed-ca4c-4e0c-b124-6590d439700f",
   "metadata": {},
   "outputs": [],
   "source": [
    "df = pd.read_parquet('/data/pinello/PROJECTS/2023_08_ZL/kaggle_scp/data/de_train.parquet')"
   ]
  },
  {
   "cell_type": "code",
   "execution_count": 6,
   "id": "01cf7f58-4714-4b5a-8c13-8848dccc7db5",
   "metadata": {},
   "outputs": [
    {
     "name": "stdout",
     "output_type": "stream",
     "text": [
      "nk\n",
      "t_cd4\n",
      "t_cd8\n",
      "t_reg\n"
     ]
    }
   ],
   "source": [
    "for key, cell_type in cell_type_names.items():\n",
    "    print(cell_type)\n",
    "    \n",
    "    # split data for training and validation, here we used the private test compounds for validation\n",
    "    df_train = df[(df['cell_type'] != key) | ~df['sm_lincs_id'].isin(privte_ids)]\n",
    "    df_valid = df[(df['cell_type'] == key) & df['sm_lincs_id'].isin(privte_ids)]\n",
    "    \n",
    "    df_train = df_train.sort_values(['cell_type', 'sm_name'])\n",
    "    df_valid = df_valid.sort_values('sm_name')\n",
    "    \n",
    "    df_train = convert_to_long_df(df_train)\n",
    "    df_valid = convert_to_long_df(df_valid)\n",
    "    \n",
    "    df_train.to_csv(f'../../results/PerturbNet/splited_data/train_{cell_type}.csv')\n",
    "    df_valid.to_csv(f'../../results/PerturbNet/splited_data/valid_{cell_type}.csv')"
   ]
  },
  {
   "cell_type": "code",
   "execution_count": 7,
   "id": "cdc2ad33-c2bd-4253-aa13-a02d5dd94d62",
   "metadata": {},
   "outputs": [],
   "source": [
    "# prepare test dataset\n",
    "df_sample = pd.read_csv('/data/pinello/PROJECTS/2023_08_ZL/kaggle_scp/data/sample_submission.csv', index_col=0)\n",
    "df_test = pd.read_csv('/data/pinello/PROJECTS/2023_08_ZL/kaggle_scp/data/id_map.csv', index_col=0)\n",
    "\n",
    "df_sample['cell_type'] = df_test['cell_type']\n",
    "df_sample['sm_name'] = df_test['sm_name']\n",
    "\n",
    "df_test = pd.melt(df_sample, id_vars=['cell_type', 'sm_name'], var_name='gene', value_name='predict')\n",
    "\n",
    "df_test.to_csv('../../results/PerturbNet/splited_data/test.csv')"
   ]
  },
  {
   "cell_type": "code",
   "execution_count": null,
   "id": "4c6d10a7-b27b-432f-a817-ef55989df6a7",
   "metadata": {},
   "outputs": [],
   "source": []
  }
 ],
 "metadata": {
  "kernelspec": {
   "display_name": "Python [conda env:zl_scp]",
   "language": "python",
   "name": "conda-env-zl_scp-py"
  },
  "language_info": {
   "codemirror_mode": {
    "name": "ipython",
    "version": 3
   },
   "file_extension": ".py",
   "mimetype": "text/x-python",
   "name": "python",
   "nbconvert_exporter": "python",
   "pygments_lexer": "ipython3",
   "version": "3.10.12"
  }
 },
 "nbformat": 4,
 "nbformat_minor": 5
}
