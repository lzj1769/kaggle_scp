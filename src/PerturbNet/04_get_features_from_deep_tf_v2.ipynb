{
 "cells": [
  {
   "cell_type": "code",
   "execution_count": 1,
   "id": "6b2bb52a-3a3e-4d7d-91b1-c7fb3141be44",
   "metadata": {},
   "outputs": [],
   "source": [
    "import os\n",
    "import numpy as np\n",
    "import pandas as pd\n",
    "import torch\n",
    "from tqdm import tqdm\n",
    "from utils import get_cell_type_compound_gene\n",
    "\n",
    "os.environ['CUDA_VISIBLE_DEVICES'] = \"1\""
   ]
  },
  {
   "cell_type": "code",
   "execution_count": 2,
   "id": "9f03e234-f09a-43b1-9c08-b0d910156e03",
   "metadata": {},
   "outputs": [],
   "source": [
    "def get_data(df, cell_type_embedding, compound_embedding, gene_embedding, cell_types, compounds, genes, get_target=True):\n",
    "    n_samples = len(df)\n",
    "    n_features = cell_type_embedding.shape[1] + compound_embedding.shape[1] + gene_embedding.shape[1]\n",
    "    \n",
    "    # get features\n",
    "    x = np.zeros((n_samples, n_features))\n",
    "    cell_type_idxs = np.zeros(n_samples)\n",
    "    compound_idxs = np.zeros(n_samples)\n",
    "    gene_idxs = np.zeros(n_samples)\n",
    "    for i in tqdm(range(n_samples)):\n",
    "        cell_type_idx = cell_types.index(df['cell_type'][i])\n",
    "        compound_idx = compounds.index(df['sm_name'][i])\n",
    "        gene_idx = genes.index(df['gene'][i])\n",
    "\n",
    "        cell_type_vec = cell_type_embedding[cell_type_idx]\n",
    "        compound_vec = compound_embedding[compound_idx]\n",
    "        gene_vec = gene_embedding[gene_idx]\n",
    "\n",
    "        x[i] = torch.concat([cell_type_vec, compound_vec, gene_vec])\n",
    "        cell_type_idxs[i] = cell_type_idx\n",
    "        compound_idxs[i] = compound_idx\n",
    "        gene_idxs[i] = gene_idx\n",
    "        \n",
    "            \n",
    "    if get_target:\n",
    "        y = np.zeros(n_samples)\n",
    "        for i in range(n_samples):\n",
    "            y[i] = df['target'][i]\n",
    "            \n",
    "        return x, y, cell_type_idxs, compound_idxs, gene_idxs\n",
    "    else:\n",
    "        return x, cell_type_idxs, compound_idxs, gene_idxs"
   ]
  },
  {
   "cell_type": "code",
   "execution_count": 3,
   "id": "f1b93460-d06c-45db-b598-64fa568df12f",
   "metadata": {},
   "outputs": [],
   "source": [
    "cell_types, compounds, genes = get_cell_type_compound_gene()\n",
    "\n",
    "cell_type_names = {'NK cells': 'nk',\n",
    "                   'T cells CD4+': 't_cd4',\n",
    "                   'T cells CD8+': 't_cd8',\n",
    "                   'T regulatory cells': 't_reg'}"
   ]
  },
  {
   "cell_type": "code",
   "execution_count": 4,
   "id": "cee06ab3-ffd7-454d-8990-dc0d4e14e902",
   "metadata": {},
   "outputs": [],
   "source": [
    "if not os.path.exists('../../results/PerturbNet/deep_tf_v2'):\n",
    "    os.makedirs('../../results/PerturbNet/deep_tf_v2')"
   ]
  },
  {
   "cell_type": "code",
   "execution_count": 5,
   "id": "570a84a9-e6df-4f0b-94e6-7e7e5e55fefe",
   "metadata": {},
   "outputs": [],
   "source": [
    "# get embedding for cell type, compound, and gene\n",
    "state_dict = torch.load('/data/pinello/PROJECTS/2023_08_ZL/kaggle_scp/model/deep_tf_v2/model.pth')\n",
    "cell_type_embedding = state_dict['state_dict']['cell_type_embedding.weight'].cpu()\n",
    "compound_embedding = state_dict['state_dict']['compound_embedding.weight'].cpu()\n",
    "gene_embedding = state_dict['state_dict']['gene_embedding.weight'].cpu()"
   ]
  },
  {
   "cell_type": "code",
   "execution_count": 6,
   "id": "515261ed-ca4c-4e0c-b124-6590d439700f",
   "metadata": {},
   "outputs": [],
   "source": [
    "df = pd.read_parquet('/data/pinello/PROJECTS/2023_08_ZL/kaggle_scp/data/de_train.parquet')"
   ]
  },
  {
   "cell_type": "code",
   "execution_count": 7,
   "id": "01cf7f58-4714-4b5a-8c13-8848dccc7db5",
   "metadata": {},
   "outputs": [
    {
     "name": "stdout",
     "output_type": "stream",
     "text": [
      "nk\n"
     ]
    },
    {
     "name": "stderr",
     "output_type": "stream",
     "text": [
      "100%|██████████| 9742885/9742885 [21:32<00:00, 7539.82it/s] \n",
      "100%|██████████| 1438669/1438669 [03:11<00:00, 7528.54it/s]\n"
     ]
    },
    {
     "name": "stdout",
     "output_type": "stream",
     "text": [
      "t_cd4\n"
     ]
    },
    {
     "name": "stderr",
     "output_type": "stream",
     "text": [
      "100%|██████████| 9742885/9742885 [21:36<00:00, 7512.28it/s] \n",
      "100%|██████████| 1438669/1438669 [03:12<00:00, 7482.04it/s]\n"
     ]
    },
    {
     "name": "stdout",
     "output_type": "stream",
     "text": [
      "t_cd8\n"
     ]
    },
    {
     "name": "stderr",
     "output_type": "stream",
     "text": [
      "100%|██████████| 9779307/9779307 [21:39<00:00, 7525.33it/s] \n",
      "100%|██████████| 1402247/1402247 [03:07<00:00, 7472.46it/s]\n"
     ]
    },
    {
     "name": "stdout",
     "output_type": "stream",
     "text": [
      "t_reg\n"
     ]
    },
    {
     "name": "stderr",
     "output_type": "stream",
     "text": [
      "100%|██████████| 9742885/9742885 [21:39<00:00, 7499.23it/s] \n",
      "100%|██████████| 1438669/1438669 [03:12<00:00, 7455.61it/s]\n"
     ]
    }
   ],
   "source": [
    "for key, cell_type in cell_type_names.items():\n",
    "    print(cell_type)\n",
    "    \n",
    "    df_train = pd.read_csv(f'../../results/PerturbNet/splited_data/train_{cell_type}.csv')\n",
    "    df_valid = pd.read_csv(f'../../results/PerturbNet/splited_data/valid_{cell_type}.csv')\n",
    "    \n",
    "    # training data\n",
    "    x, y, cell_type_idxs, compound_idxs, gene_idxs  = get_data(df=df_train,\n",
    "                                                               cell_type_embedding=cell_type_embedding,\n",
    "                                                               compound_embedding=compound_embedding,\n",
    "                                                               gene_embedding=gene_embedding,\n",
    "                                                               cell_types=cell_types,\n",
    "                                                               compounds=compounds,\n",
    "                                                               genes=genes)\n",
    "    \n",
    "    np.savez(f'../../results/PerturbNet/deep_tf_v2/train_{cell_type}.npz', \n",
    "             x=x, y=y, \n",
    "             cell_types=cell_type_idxs,\n",
    "             compounds=compound_idxs,\n",
    "             genes=gene_idxs)\n",
    "    \n",
    "    # validation data\n",
    "    x, y, cell_type_idxs, compound_idxs, gene_idxs = get_data(df=df_valid,\n",
    "                                                              cell_type_embedding=cell_type_embedding,\n",
    "                                                              compound_embedding=compound_embedding,\n",
    "                                                              gene_embedding=gene_embedding,\n",
    "                                                              cell_types=cell_types,\n",
    "                                                              compounds=compounds,\n",
    "                                                              genes=genes)\n",
    "    np.savez(f'../../results/PerturbNet/deep_tf_v2/valid_{cell_type}.npz', \n",
    "             x=x, y=y,\n",
    "             cell_types=cell_type_idxs,\n",
    "             compounds=compound_idxs,\n",
    "             genes=gene_idxs)"
   ]
  },
  {
   "cell_type": "code",
   "execution_count": 8,
   "id": "42d1d73d-263e-4125-b4ec-8114be01de17",
   "metadata": {},
   "outputs": [
    {
     "name": "stderr",
     "output_type": "stream",
     "text": [
      "100%|██████████| 4643805/4643805 [10:17<00:00, 7520.74it/s] \n"
     ]
    }
   ],
   "source": [
    "df_test = pd.read_csv(f'../../results/PerturbNet/splited_data/test.csv')\n",
    "\n",
    "x, cell_type_idxs, compound_idxs, gene_idxs = get_data(\n",
    "    df = df_test,\n",
    "    cell_type_embedding=cell_type_embedding,\n",
    "    compound_embedding=compound_embedding,\n",
    "    gene_embedding=gene_embedding,\n",
    "    cell_types=cell_types,\n",
    "    compounds=compounds,\n",
    "    genes=genes,\n",
    "    get_target=False)  \n",
    "\n",
    "np.savez(f'../../results/PerturbNet/deep_tf_v2/test.npz', \n",
    "         x=x, \n",
    "         cell_types=cell_type_idxs, \n",
    "         compounds=compound_idxs, \n",
    "         genes=gene_idxs)"
   ]
  },
  {
   "cell_type": "code",
   "execution_count": null,
   "id": "c2d76dc4-b366-4cff-adca-e0db1677c29b",
   "metadata": {},
   "outputs": [],
   "source": []
  },
  {
   "cell_type": "code",
   "execution_count": null,
   "id": "4c6d10a7-b27b-432f-a817-ef55989df6a7",
   "metadata": {},
   "outputs": [],
   "source": []
  }
 ],
 "metadata": {
  "kernelspec": {
   "display_name": "Python [conda env:zl_scp]",
   "language": "python",
   "name": "conda-env-zl_scp-py"
  },
  "language_info": {
   "codemirror_mode": {
    "name": "ipython",
    "version": 3
   },
   "file_extension": ".py",
   "mimetype": "text/x-python",
   "name": "python",
   "nbconvert_exporter": "python",
   "pygments_lexer": "ipython3",
   "version": "3.10.12"
  }
 },
 "nbformat": 4,
 "nbformat_minor": 5
}
