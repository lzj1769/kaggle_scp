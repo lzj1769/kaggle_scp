{
 "cells": [
  {
   "cell_type": "code",
   "execution_count": 1,
   "id": "bb186145-812f-42ff-a2e3-81617f0b8a59",
   "metadata": {},
   "outputs": [],
   "source": [
    "import os\n",
    "import pandas as pd"
   ]
  },
  {
   "cell_type": "code",
   "execution_count": 2,
   "id": "f8c1665c-f998-4694-8eae-2a4bbc599162",
   "metadata": {},
   "outputs": [],
   "source": [
    "RESULTS_DIR = \"/data/pinello/PROJECTS/2023_08_ZL/kaggle_scp/results/deep_tensor_factorization\"\n",
    "DE_TRAIN = \"/data/pinello/PROJECTS/2023_08_ZL/kaggle_scp/data/de_train.parquet\"\n",
    "ID_MAP_CSV = \"/data/pinello/PROJECTS/2023_08_ZL/kaggle_scp/data/id_map.csv\""
   ]
  },
  {
   "cell_type": "code",
   "execution_count": 3,
   "id": "b6d92394-fb0d-472a-995d-cb2c4bfa911f",
   "metadata": {},
   "outputs": [],
   "source": [
    "if not os.path.exists(RESULTS_DIR):\n",
    "    os.makedirs(RESULTS_DIR)"
   ]
  },
  {
   "cell_type": "code",
   "execution_count": 4,
   "id": "ad21ea76-6f11-493c-a79d-c0ef374dc6a0",
   "metadata": {},
   "outputs": [],
   "source": [
    "df = pd.read_parquet(DE_TRAIN)"
   ]
  },
  {
   "cell_type": "code",
   "execution_count": 5,
   "id": "ba898332-eddf-43a8-a39c-0ab08c1c26b2",
   "metadata": {},
   "outputs": [
    {
     "data": {
      "text/html": [
       "<div>\n",
       "<style scoped>\n",
       "    .dataframe tbody tr th:only-of-type {\n",
       "        vertical-align: middle;\n",
       "    }\n",
       "\n",
       "    .dataframe tbody tr th {\n",
       "        vertical-align: top;\n",
       "    }\n",
       "\n",
       "    .dataframe thead th {\n",
       "        text-align: right;\n",
       "    }\n",
       "</style>\n",
       "<table border=\"1\" class=\"dataframe\">\n",
       "  <thead>\n",
       "    <tr style=\"text-align: right;\">\n",
       "      <th></th>\n",
       "      <th>cell_type</th>\n",
       "      <th>sm_name</th>\n",
       "      <th>sm_lincs_id</th>\n",
       "      <th>SMILES</th>\n",
       "      <th>control</th>\n",
       "      <th>A1BG</th>\n",
       "      <th>A1BG-AS1</th>\n",
       "      <th>A2M</th>\n",
       "      <th>A2M-AS1</th>\n",
       "      <th>A2MP1</th>\n",
       "      <th>...</th>\n",
       "      <th>ZUP1</th>\n",
       "      <th>ZW10</th>\n",
       "      <th>ZWILCH</th>\n",
       "      <th>ZWINT</th>\n",
       "      <th>ZXDA</th>\n",
       "      <th>ZXDB</th>\n",
       "      <th>ZXDC</th>\n",
       "      <th>ZYG11B</th>\n",
       "      <th>ZYX</th>\n",
       "      <th>ZZEF1</th>\n",
       "    </tr>\n",
       "  </thead>\n",
       "  <tbody>\n",
       "    <tr>\n",
       "      <th>0</th>\n",
       "      <td>NK cells</td>\n",
       "      <td>Clotrimazole</td>\n",
       "      <td>LSM-5341</td>\n",
       "      <td>Clc1ccccc1C(c1ccccc1)(c1ccccc1)n1ccnc1</td>\n",
       "      <td>False</td>\n",
       "      <td>0.104720</td>\n",
       "      <td>-0.077524</td>\n",
       "      <td>-1.625596</td>\n",
       "      <td>-0.144545</td>\n",
       "      <td>0.143555</td>\n",
       "      <td>...</td>\n",
       "      <td>-0.227781</td>\n",
       "      <td>-0.010752</td>\n",
       "      <td>-0.023881</td>\n",
       "      <td>0.674536</td>\n",
       "      <td>-0.453068</td>\n",
       "      <td>0.005164</td>\n",
       "      <td>-0.094959</td>\n",
       "      <td>0.034127</td>\n",
       "      <td>0.221377</td>\n",
       "      <td>0.368755</td>\n",
       "    </tr>\n",
       "    <tr>\n",
       "      <th>1</th>\n",
       "      <td>T cells CD4+</td>\n",
       "      <td>Clotrimazole</td>\n",
       "      <td>LSM-5341</td>\n",
       "      <td>Clc1ccccc1C(c1ccccc1)(c1ccccc1)n1ccnc1</td>\n",
       "      <td>False</td>\n",
       "      <td>0.915953</td>\n",
       "      <td>-0.884380</td>\n",
       "      <td>0.371834</td>\n",
       "      <td>-0.081677</td>\n",
       "      <td>-0.498266</td>\n",
       "      <td>...</td>\n",
       "      <td>-0.494985</td>\n",
       "      <td>-0.303419</td>\n",
       "      <td>0.304955</td>\n",
       "      <td>-0.333905</td>\n",
       "      <td>-0.315516</td>\n",
       "      <td>-0.369626</td>\n",
       "      <td>-0.095079</td>\n",
       "      <td>0.704780</td>\n",
       "      <td>1.096702</td>\n",
       "      <td>-0.869887</td>\n",
       "    </tr>\n",
       "    <tr>\n",
       "      <th>2</th>\n",
       "      <td>T cells CD8+</td>\n",
       "      <td>Clotrimazole</td>\n",
       "      <td>LSM-5341</td>\n",
       "      <td>Clc1ccccc1C(c1ccccc1)(c1ccccc1)n1ccnc1</td>\n",
       "      <td>False</td>\n",
       "      <td>-0.387721</td>\n",
       "      <td>-0.305378</td>\n",
       "      <td>0.567777</td>\n",
       "      <td>0.303895</td>\n",
       "      <td>-0.022653</td>\n",
       "      <td>...</td>\n",
       "      <td>-0.119422</td>\n",
       "      <td>-0.033608</td>\n",
       "      <td>-0.153123</td>\n",
       "      <td>0.183597</td>\n",
       "      <td>-0.555678</td>\n",
       "      <td>-1.494789</td>\n",
       "      <td>-0.213550</td>\n",
       "      <td>0.415768</td>\n",
       "      <td>0.078439</td>\n",
       "      <td>-0.259365</td>\n",
       "    </tr>\n",
       "    <tr>\n",
       "      <th>3</th>\n",
       "      <td>T regulatory cells</td>\n",
       "      <td>Clotrimazole</td>\n",
       "      <td>LSM-5341</td>\n",
       "      <td>Clc1ccccc1C(c1ccccc1)(c1ccccc1)n1ccnc1</td>\n",
       "      <td>False</td>\n",
       "      <td>0.232893</td>\n",
       "      <td>0.129029</td>\n",
       "      <td>0.336897</td>\n",
       "      <td>0.486946</td>\n",
       "      <td>0.767661</td>\n",
       "      <td>...</td>\n",
       "      <td>0.451679</td>\n",
       "      <td>0.704643</td>\n",
       "      <td>0.015468</td>\n",
       "      <td>-0.103868</td>\n",
       "      <td>0.865027</td>\n",
       "      <td>0.189114</td>\n",
       "      <td>0.224700</td>\n",
       "      <td>-0.048233</td>\n",
       "      <td>0.216139</td>\n",
       "      <td>-0.085024</td>\n",
       "    </tr>\n",
       "    <tr>\n",
       "      <th>4</th>\n",
       "      <td>NK cells</td>\n",
       "      <td>Mometasone Furoate</td>\n",
       "      <td>LSM-3349</td>\n",
       "      <td>C[C@@H]1C[C@H]2[C@@H]3CCC4=CC(=O)C=C[C@]4(C)[C...</td>\n",
       "      <td>False</td>\n",
       "      <td>4.290652</td>\n",
       "      <td>-0.063864</td>\n",
       "      <td>-0.017443</td>\n",
       "      <td>-0.541154</td>\n",
       "      <td>0.570982</td>\n",
       "      <td>...</td>\n",
       "      <td>0.758474</td>\n",
       "      <td>0.510762</td>\n",
       "      <td>0.607401</td>\n",
       "      <td>-0.123059</td>\n",
       "      <td>0.214366</td>\n",
       "      <td>0.487838</td>\n",
       "      <td>-0.819775</td>\n",
       "      <td>0.112365</td>\n",
       "      <td>-0.122193</td>\n",
       "      <td>0.676629</td>\n",
       "    </tr>\n",
       "  </tbody>\n",
       "</table>\n",
       "<p>5 rows × 18216 columns</p>\n",
       "</div>"
      ],
      "text/plain": [
       "            cell_type             sm_name sm_lincs_id  \\\n",
       "0            NK cells        Clotrimazole    LSM-5341   \n",
       "1        T cells CD4+        Clotrimazole    LSM-5341   \n",
       "2        T cells CD8+        Clotrimazole    LSM-5341   \n",
       "3  T regulatory cells        Clotrimazole    LSM-5341   \n",
       "4            NK cells  Mometasone Furoate    LSM-3349   \n",
       "\n",
       "                                              SMILES  control      A1BG  \\\n",
       "0             Clc1ccccc1C(c1ccccc1)(c1ccccc1)n1ccnc1    False  0.104720   \n",
       "1             Clc1ccccc1C(c1ccccc1)(c1ccccc1)n1ccnc1    False  0.915953   \n",
       "2             Clc1ccccc1C(c1ccccc1)(c1ccccc1)n1ccnc1    False -0.387721   \n",
       "3             Clc1ccccc1C(c1ccccc1)(c1ccccc1)n1ccnc1    False  0.232893   \n",
       "4  C[C@@H]1C[C@H]2[C@@H]3CCC4=CC(=O)C=C[C@]4(C)[C...    False  4.290652   \n",
       "\n",
       "   A1BG-AS1       A2M   A2M-AS1     A2MP1  ...      ZUP1      ZW10    ZWILCH  \\\n",
       "0 -0.077524 -1.625596 -0.144545  0.143555  ... -0.227781 -0.010752 -0.023881   \n",
       "1 -0.884380  0.371834 -0.081677 -0.498266  ... -0.494985 -0.303419  0.304955   \n",
       "2 -0.305378  0.567777  0.303895 -0.022653  ... -0.119422 -0.033608 -0.153123   \n",
       "3  0.129029  0.336897  0.486946  0.767661  ...  0.451679  0.704643  0.015468   \n",
       "4 -0.063864 -0.017443 -0.541154  0.570982  ...  0.758474  0.510762  0.607401   \n",
       "\n",
       "      ZWINT      ZXDA      ZXDB      ZXDC    ZYG11B       ZYX     ZZEF1  \n",
       "0  0.674536 -0.453068  0.005164 -0.094959  0.034127  0.221377  0.368755  \n",
       "1 -0.333905 -0.315516 -0.369626 -0.095079  0.704780  1.096702 -0.869887  \n",
       "2  0.183597 -0.555678 -1.494789 -0.213550  0.415768  0.078439 -0.259365  \n",
       "3 -0.103868  0.865027  0.189114  0.224700 -0.048233  0.216139 -0.085024  \n",
       "4 -0.123059  0.214366  0.487838 -0.819775  0.112365 -0.122193  0.676629  \n",
       "\n",
       "[5 rows x 18216 columns]"
      ]
     },
     "execution_count": 5,
     "metadata": {},
     "output_type": "execute_result"
    }
   ],
   "source": [
    "df.head()"
   ]
  },
  {
   "cell_type": "code",
   "execution_count": 6,
   "id": "9fe1f7b0-3bcd-46a8-bc4a-7361f66dc938",
   "metadata": {},
   "outputs": [
    {
     "data": {
      "text/plain": [
       "['NK cells',\n",
       " 'T cells CD4+',\n",
       " 'T cells CD8+',\n",
       " 'T regulatory cells',\n",
       " 'B cells',\n",
       " 'Myeloid cells']"
      ]
     },
     "execution_count": 6,
     "metadata": {},
     "output_type": "execute_result"
    }
   ],
   "source": [
    "df['cell_type'].unique().tolist()"
   ]
  },
  {
   "cell_type": "code",
   "execution_count": 7,
   "id": "99d39e4d-9e6c-4550-b474-71cc952edd0d",
   "metadata": {},
   "outputs": [],
   "source": [
    "# Create training and validate datasets \n",
    "# Here, for each cell types in NK cells, T CD4+, T reg, and T CD8+, we\n",
    "# use the test compounds as valication dataset\n",
    "df_id_map = pd.read_csv(ID_MAP_CSV)\n",
    "test_compunds = df_id_map['sm_name'].unique()\n",
    "\n",
    "#df_id_map.head()"
   ]
  },
  {
   "cell_type": "code",
   "execution_count": 8,
   "id": "3e44a37c-cfcf-4984-82c0-e88d493766b1",
   "metadata": {},
   "outputs": [],
   "source": [
    "def convert_to_long_df(df):\n",
    "    df = df.drop(['sm_lincs_id', 'SMILES', 'control'], axis=1)\n",
    "    df = pd.melt(df, id_vars=['cell_type', 'sm_name'], var_name='gene', value_name='target')\n",
    "    \n",
    "    return df"
   ]
  },
  {
   "cell_type": "code",
   "execution_count": 9,
   "id": "5662a1c2-026f-40d1-854e-0540dad6588a",
   "metadata": {},
   "outputs": [],
   "source": [
    "cell_type_names = {'NK cells': 'nk',\n",
    "                   'T cells CD4+': 't_cd4',\n",
    "                   'T cells CD8+': 't_cd8',\n",
    "                   'T regulatory cells': 't_reg'}"
   ]
  },
  {
   "cell_type": "code",
   "execution_count": 10,
   "id": "b762d582-e2ac-4c85-b7c2-765651e092c1",
   "metadata": {},
   "outputs": [
    {
     "name": "stdout",
     "output_type": "stream",
     "text": [
      "NK cells\n",
      "T cells CD4+\n",
      "T cells CD8+\n",
      "T regulatory cells\n"
     ]
    }
   ],
   "source": [
    "for key, value in cell_type_names.items():\n",
    "    print(key)\n",
    "    df_train = df[(df['cell_type'] != key) | ~df['sm_name'].isin(test_compunds)]\n",
    "    df_valid = df[(df['cell_type'] == key) & df['sm_name'].isin(test_compunds)]\n",
    "    \n",
    "    df_train = df_train.sort_values(['cell_type', 'sm_name'])\n",
    "    df_valid = df_valid.sort_values('sm_name')\n",
    "    \n",
    "    df_train = convert_to_long_df(df_train)\n",
    "    df_valid = convert_to_long_df(df_valid)\n",
    "    \n",
    "    df_train.to_csv(f'{RESULTS_DIR}/df_train_{value}.csv')\n",
    "    df_valid.to_csv(f'{RESULTS_DIR}/df_valid_{value}.csv')"
   ]
  },
  {
   "cell_type": "code",
   "execution_count": null,
   "id": "f3791f7a-865c-4fce-bd98-7ed303337b42",
   "metadata": {},
   "outputs": [],
   "source": []
  }
 ],
 "metadata": {
  "kernelspec": {
   "display_name": "Python [conda env:zl_scp]",
   "language": "python",
   "name": "conda-env-zl_scp-py"
  },
  "language_info": {
   "codemirror_mode": {
    "name": "ipython",
    "version": 3
   },
   "file_extension": ".py",
   "mimetype": "text/x-python",
   "name": "python",
   "nbconvert_exporter": "python",
   "pygments_lexer": "ipython3",
   "version": "3.10.12"
  }
 },
 "nbformat": 4,
 "nbformat_minor": 5
}
