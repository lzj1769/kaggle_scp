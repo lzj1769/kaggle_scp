{
 "cells": [
  {
   "cell_type": "code",
   "execution_count": 1,
   "id": "bb186145-812f-42ff-a2e3-81617f0b8a59",
   "metadata": {},
   "outputs": [],
   "source": [
    "import os\n",
    "import pandas as pd"
   ]
  },
  {
   "cell_type": "code",
   "execution_count": 2,
   "id": "f8c1665c-f998-4694-8eae-2a4bbc599162",
   "metadata": {},
   "outputs": [],
   "source": [
    "SAMPLE_SUBMISSION = '/data/pinello/PROJECTS/2023_08_ZL/kaggle_scp/data/sample_submission.csv'\n",
    "RESULTS_DIR = \"/data/pinello/PROJECTS/2023_08_ZL/kaggle_scp/results/deep_tensor_factorization\"\n",
    "DE_TRAIN = \"/data/pinello/PROJECTS/2023_08_ZL/kaggle_scp/data/de_train.parquet\"\n",
    "ID_MAP_CSV = \"/data/pinello/PROJECTS/2023_08_ZL/kaggle_scp/data/id_map.csv\""
   ]
  },
  {
   "cell_type": "code",
   "execution_count": 3,
   "id": "b6d92394-fb0d-472a-995d-cb2c4bfa911f",
   "metadata": {},
   "outputs": [],
   "source": [
    "if not os.path.exists(RESULTS_DIR):\n",
    "    os.makedirs(RESULTS_DIR)"
   ]
  },
  {
   "cell_type": "code",
   "execution_count": 4,
   "id": "f929ed91-1b48-4680-acf2-110b82288a48",
   "metadata": {},
   "outputs": [],
   "source": [
    "def convert_to_long_df(df):\n",
    "    df = df.drop(['sm_lincs_id', 'SMILES', 'control'], axis=1)\n",
    "    df = pd.melt(df, id_vars=['cell_type', 'sm_name'], var_name='gene', value_name='target')\n",
    "    \n",
    "    return df"
   ]
  },
  {
   "cell_type": "code",
   "execution_count": 5,
   "id": "8edea4e5-77e7-46a1-801c-59b08742c62d",
   "metadata": {},
   "outputs": [],
   "source": [
    "# prepare training and validation\n",
    "df = pd.read_parquet(DE_TRAIN)\n",
    "\n",
    "# Create training and validate datasets \n",
    "# Here, for each cell types in NK cells, T CD4+, T reg, and T CD8+, we\n",
    "# use the test compounds as valication dataset\n",
    "df_id_map = pd.read_csv(ID_MAP_CSV)\n",
    "test_compunds = df_id_map['sm_name'].unique()\n",
    "\n",
    "cell_type_names = {'NK cells': 'nk',\n",
    "                   'T cells CD4+': 't_cd4',\n",
    "                   'T cells CD8+': 't_cd8',\n",
    "                   'T regulatory cells': 't_reg'}"
   ]
  },
  {
   "cell_type": "code",
   "execution_count": 6,
   "id": "b762d582-e2ac-4c85-b7c2-765651e092c1",
   "metadata": {},
   "outputs": [
    {
     "name": "stdout",
     "output_type": "stream",
     "text": [
      "NK cells\n",
      "T cells CD4+\n",
      "T cells CD8+\n",
      "T regulatory cells\n"
     ]
    }
   ],
   "source": [
    "for key, value in cell_type_names.items():\n",
    "    print(key)\n",
    "    df_train = df[(df['cell_type'] != key) | ~df['sm_name'].isin(test_compunds)]\n",
    "    df_valid = df[(df['cell_type'] == key) & df['sm_name'].isin(test_compunds)]\n",
    "    \n",
    "    df_train = df_train.sort_values(['cell_type', 'sm_name'])\n",
    "    df_valid = df_valid.sort_values('sm_name')\n",
    "    \n",
    "    df_train = convert_to_long_df(df_train)\n",
    "    df_valid = convert_to_long_df(df_valid)\n",
    "    \n",
    "    df_train.to_csv(f'{RESULTS_DIR}/df_train_{value}.csv')\n",
    "    df_valid.to_csv(f'{RESULTS_DIR}/df_valid_{value}.csv')"
   ]
  },
  {
   "cell_type": "code",
   "execution_count": 9,
   "id": "f3791f7a-865c-4fce-bd98-7ed303337b42",
   "metadata": {},
   "outputs": [],
   "source": [
    "# prepare test dataset\n",
    "df_sample = pd.read_csv(SAMPLE_SUBMISSION, index_col=0)\n",
    "df_test = pd.read_csv(ID_MAP_CSV, index_col=0)\n",
    "\n",
    "df_sample['cell_type'] = df_test['cell_type']\n",
    "df_sample['sm_name'] = df_test['sm_name']\n",
    "\n",
    "df_test = pd.melt(df_sample, id_vars=['cell_type', 'sm_name'], var_name='gene', value_name='predict')\n",
    "\n",
    "df_test.to_csv(os.path.join(RESULTS_DIR, 'test.csv'))"
   ]
  },
  {
   "cell_type": "code",
   "execution_count": null,
   "id": "6c9c3df7-e694-48c4-94db-94061dcab6ed",
   "metadata": {},
   "outputs": [],
   "source": []
  }
 ],
 "metadata": {
  "kernelspec": {
   "display_name": "Python [conda env:zl_scp]",
   "language": "python",
   "name": "conda-env-zl_scp-py"
  },
  "language_info": {
   "codemirror_mode": {
    "name": "ipython",
    "version": 3
   },
   "file_extension": ".py",
   "mimetype": "text/x-python",
   "name": "python",
   "nbconvert_exporter": "python",
   "pygments_lexer": "ipython3",
   "version": "3.10.12"
  }
 },
 "nbformat": 4,
 "nbformat_minor": 5
}
