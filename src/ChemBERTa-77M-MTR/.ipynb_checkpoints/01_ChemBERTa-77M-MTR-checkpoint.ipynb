{
 "cells": [
  {
   "cell_type": "code",
   "execution_count": 1,
   "id": "9449638d-a004-4db2-98d0-0e15ccc600f3",
   "metadata": {},
   "outputs": [
    {
     "name": "stderr",
     "output_type": "stream",
     "text": [
      "Some weights of RobertaForMaskedLM were not initialized from the model checkpoint at DeepChem/ChemBERTa-77M-MTR and are newly initialized: ['lm_head.layer_norm.weight', 'lm_head.dense.weight', 'lm_head.bias', 'lm_head.decoder.bias', 'lm_head.dense.bias', 'lm_head.layer_norm.bias']\n",
      "You should probably TRAIN this model on a down-stream task to be able to use it for predictions and inference.\n"
     ]
    }
   ],
   "source": [
    "# https://www.kaggle.com/code/alekseytrepetsky/create-chemberta-embed\n",
    "\n",
    "from IPython.display import clear_output as clr\n",
    "import numpy as np\n",
    "import pandas as pd\n",
    "import torch\n",
    "from tqdm import tqdm\n",
    "import seaborn as sns\n",
    "from transformers import AutoModelForMaskedLM, AutoTokenizer\n",
    "\n",
    "chemberta = AutoModelForMaskedLM.from_pretrained(\"DeepChem/ChemBERTa-77M-MTR\")\n",
    "tokenizer = AutoTokenizer.from_pretrained(\"DeepChem/ChemBERTa-77M-MTR\")"
   ]
  },
  {
   "cell_type": "code",
   "execution_count": 2,
   "id": "53b1b01d-167e-400b-a4c4-3ccb5539e49a",
   "metadata": {},
   "outputs": [
    {
     "data": {
      "text/plain": [
       "RobertaForMaskedLM(\n",
       "  (roberta): RobertaModel(\n",
       "    (embeddings): RobertaEmbeddings(\n",
       "      (word_embeddings): Embedding(600, 384, padding_idx=1)\n",
       "      (position_embeddings): Embedding(515, 384, padding_idx=1)\n",
       "      (token_type_embeddings): Embedding(1, 384)\n",
       "      (LayerNorm): LayerNorm((384,), eps=1e-12, elementwise_affine=True)\n",
       "      (dropout): Dropout(p=0.144, inplace=False)\n",
       "    )\n",
       "    (encoder): RobertaEncoder(\n",
       "      (layer): ModuleList(\n",
       "        (0-2): 3 x RobertaLayer(\n",
       "          (attention): RobertaAttention(\n",
       "            (self): RobertaSelfAttention(\n",
       "              (query): Linear(in_features=384, out_features=384, bias=True)\n",
       "              (key): Linear(in_features=384, out_features=384, bias=True)\n",
       "              (value): Linear(in_features=384, out_features=384, bias=True)\n",
       "              (dropout): Dropout(p=0.109, inplace=False)\n",
       "            )\n",
       "            (output): RobertaSelfOutput(\n",
       "              (dense): Linear(in_features=384, out_features=384, bias=True)\n",
       "              (LayerNorm): LayerNorm((384,), eps=1e-12, elementwise_affine=True)\n",
       "              (dropout): Dropout(p=0.144, inplace=False)\n",
       "            )\n",
       "          )\n",
       "          (intermediate): RobertaIntermediate(\n",
       "            (dense): Linear(in_features=384, out_features=464, bias=True)\n",
       "            (intermediate_act_fn): GELUActivation()\n",
       "          )\n",
       "          (output): RobertaOutput(\n",
       "            (dense): Linear(in_features=464, out_features=384, bias=True)\n",
       "            (LayerNorm): LayerNorm((384,), eps=1e-12, elementwise_affine=True)\n",
       "            (dropout): Dropout(p=0.144, inplace=False)\n",
       "          )\n",
       "        )\n",
       "      )\n",
       "    )\n",
       "  )\n",
       "  (lm_head): RobertaLMHead(\n",
       "    (dense): Linear(in_features=384, out_features=384, bias=True)\n",
       "    (layer_norm): LayerNorm((384,), eps=1e-12, elementwise_affine=True)\n",
       "    (decoder): Linear(in_features=384, out_features=600, bias=True)\n",
       "  )\n",
       ")"
      ]
     },
     "execution_count": 2,
     "metadata": {},
     "output_type": "execute_result"
    }
   ],
   "source": [
    "chemberta.eval()"
   ]
  },
  {
   "cell_type": "code",
   "execution_count": 3,
   "id": "0c980b49-e342-4822-b962-d5799d8e1819",
   "metadata": {},
   "outputs": [],
   "source": [
    "def featurize_ChemBERTa(smiles_list, padding=True):\n",
    "    embeddings_cls = torch.zeros(len(smiles_list), 600)\n",
    "    embeddings_mean = torch.zeros(len(smiles_list), 600)\n",
    "\n",
    "    with torch.no_grad():\n",
    "        for i, smiles in enumerate(tqdm(smiles_list)):\n",
    "            encoded_input = tokenizer(smiles, return_tensors=\"pt\", padding=padding, truncation=True)\n",
    "            model_output = chemberta(**encoded_input)\n",
    "            \n",
    "            embedding = model_output[0][::,0,::]\n",
    "            embeddings_cls[i] = embedding\n",
    "            \n",
    "            embedding = torch.mean(model_output[0],1)\n",
    "            embeddings_mean[i] = embedding\n",
    "            \n",
    "    return embeddings_cls, embeddings_mean"
   ]
  },
  {
   "cell_type": "code",
   "execution_count": 4,
   "id": "d3c06288-f80d-4291-8adb-0891e2df5d7c",
   "metadata": {},
   "outputs": [],
   "source": [
    "df_de_train = pd.read_parquet('../../data/de_train.parquet')"
   ]
  },
  {
   "cell_type": "code",
   "execution_count": 5,
   "id": "84640064-e277-4581-bd89-355f86627dde",
   "metadata": {},
   "outputs": [],
   "source": [
    "df_compound = df_de_train[['sm_name', 'SMILES']].drop_duplicates()"
   ]
  },
  {
   "cell_type": "code",
   "execution_count": 6,
   "id": "2c92cd8b-e5e3-4f4b-a527-a79a15236837",
   "metadata": {},
   "outputs": [
    {
     "data": {
      "text/html": [
       "<div>\n",
       "<style scoped>\n",
       "    .dataframe tbody tr th:only-of-type {\n",
       "        vertical-align: middle;\n",
       "    }\n",
       "\n",
       "    .dataframe tbody tr th {\n",
       "        vertical-align: top;\n",
       "    }\n",
       "\n",
       "    .dataframe thead th {\n",
       "        text-align: right;\n",
       "    }\n",
       "</style>\n",
       "<table border=\"1\" class=\"dataframe\">\n",
       "  <thead>\n",
       "    <tr style=\"text-align: right;\">\n",
       "      <th></th>\n",
       "      <th>sm_name</th>\n",
       "      <th>SMILES</th>\n",
       "    </tr>\n",
       "  </thead>\n",
       "  <tbody>\n",
       "    <tr>\n",
       "      <th>0</th>\n",
       "      <td>Clotrimazole</td>\n",
       "      <td>Clc1ccccc1C(c1ccccc1)(c1ccccc1)n1ccnc1</td>\n",
       "    </tr>\n",
       "    <tr>\n",
       "      <th>4</th>\n",
       "      <td>Mometasone Furoate</td>\n",
       "      <td>C[C@@H]1C[C@H]2[C@@H]3CCC4=CC(=O)C=C[C@]4(C)[C...</td>\n",
       "    </tr>\n",
       "    <tr>\n",
       "      <th>8</th>\n",
       "      <td>Idelalisib</td>\n",
       "      <td>CC[C@H](Nc1ncnc2[nH]cnc12)c1nc2cccc(F)c2c(=O)n...</td>\n",
       "    </tr>\n",
       "    <tr>\n",
       "      <th>14</th>\n",
       "      <td>Vandetanib</td>\n",
       "      <td>COc1cc2c(Nc3ccc(Br)cc3F)ncnc2cc1OCC1CCN(C)CC1</td>\n",
       "    </tr>\n",
       "    <tr>\n",
       "      <th>18</th>\n",
       "      <td>Bosutinib</td>\n",
       "      <td>COc1cc(Nc2c(C#N)cnc3cc(OCCCN4CCN(C)CC4)c(OC)cc...</td>\n",
       "    </tr>\n",
       "    <tr>\n",
       "      <th>...</th>\n",
       "      <td>...</td>\n",
       "      <td>...</td>\n",
       "    </tr>\n",
       "    <tr>\n",
       "      <th>594</th>\n",
       "      <td>CGM-097</td>\n",
       "      <td>COc1cc2c(cc1OC(C)C)[C@H](c1ccc(Cl)cc1)N(c1ccc(...</td>\n",
       "    </tr>\n",
       "    <tr>\n",
       "      <th>598</th>\n",
       "      <td>TGX 221</td>\n",
       "      <td>Cc1cc(C(C)Nc2ccccc2)c2nc(N3CCOCC3)cc(=O)n2c1</td>\n",
       "    </tr>\n",
       "    <tr>\n",
       "      <th>602</th>\n",
       "      <td>Azacitidine</td>\n",
       "      <td>Nc1ncn([C@@H]2O[C@H](CO)[C@@H](O)[C@H]2O)c(=O)n1</td>\n",
       "    </tr>\n",
       "    <tr>\n",
       "      <th>606</th>\n",
       "      <td>Atorvastatin</td>\n",
       "      <td>CC(C)c1c(C(=O)Nc2ccccc2)c(-c2ccccc2)c(-c2ccc(F...</td>\n",
       "    </tr>\n",
       "    <tr>\n",
       "      <th>610</th>\n",
       "      <td>Riociguat</td>\n",
       "      <td>COC(=O)N(C)c1c(N)nc(-c2nn(Cc3ccccc3F)c3ncccc23...</td>\n",
       "    </tr>\n",
       "  </tbody>\n",
       "</table>\n",
       "<p>146 rows × 2 columns</p>\n",
       "</div>"
      ],
      "text/plain": [
       "                sm_name                                             SMILES\n",
       "0          Clotrimazole             Clc1ccccc1C(c1ccccc1)(c1ccccc1)n1ccnc1\n",
       "4    Mometasone Furoate  C[C@@H]1C[C@H]2[C@@H]3CCC4=CC(=O)C=C[C@]4(C)[C...\n",
       "8            Idelalisib  CC[C@H](Nc1ncnc2[nH]cnc12)c1nc2cccc(F)c2c(=O)n...\n",
       "14           Vandetanib      COc1cc2c(Nc3ccc(Br)cc3F)ncnc2cc1OCC1CCN(C)CC1\n",
       "18            Bosutinib  COc1cc(Nc2c(C#N)cnc3cc(OCCCN4CCN(C)CC4)c(OC)cc...\n",
       "..                  ...                                                ...\n",
       "594             CGM-097  COc1cc2c(cc1OC(C)C)[C@H](c1ccc(Cl)cc1)N(c1ccc(...\n",
       "598             TGX 221       Cc1cc(C(C)Nc2ccccc2)c2nc(N3CCOCC3)cc(=O)n2c1\n",
       "602         Azacitidine   Nc1ncn([C@@H]2O[C@H](CO)[C@@H](O)[C@H]2O)c(=O)n1\n",
       "606        Atorvastatin  CC(C)c1c(C(=O)Nc2ccccc2)c(-c2ccccc2)c(-c2ccc(F...\n",
       "610           Riociguat  COC(=O)N(C)c1c(N)nc(-c2nn(Cc3ccccc3F)c3ncccc23...\n",
       "\n",
       "[146 rows x 2 columns]"
      ]
     },
     "execution_count": 6,
     "metadata": {},
     "output_type": "execute_result"
    }
   ],
   "source": [
    "df_compound"
   ]
  },
  {
   "cell_type": "code",
   "execution_count": 7,
   "id": "9b4cce1d-333c-4522-8698-9298656d0b6d",
   "metadata": {},
   "outputs": [
    {
     "name": "stderr",
     "output_type": "stream",
     "text": [
      "100%|██████████| 146/146 [00:01<00:00, 141.53it/s]\n"
     ]
    }
   ],
   "source": [
    "embeddings_cls, embeddings_mean = featurize_ChemBERTa(df_compound.SMILES)"
   ]
  },
  {
   "cell_type": "code",
   "execution_count": 8,
   "id": "f1766755-7cbc-4c95-b302-83f30cfead65",
   "metadata": {},
   "outputs": [],
   "source": [
    "from sklearn.decomposition import PCA\n",
    "pca = PCA(n_components=30)"
   ]
  },
  {
   "cell_type": "code",
   "execution_count": 9,
   "id": "47841f9a-9f1b-4c63-a796-ddec5feea282",
   "metadata": {},
   "outputs": [],
   "source": [
    "embeddings_mean_pca = pca.fit_transform(embeddings_mean)"
   ]
  },
  {
   "cell_type": "code",
   "execution_count": 10,
   "id": "8afc1e58-53d8-4b4a-b3a4-3f72cf85a197",
   "metadata": {},
   "outputs": [
    {
     "data": {
      "text/plain": [
       "-15.465112428866865"
      ]
     },
     "execution_count": 10,
     "metadata": {},
     "output_type": "execute_result"
    }
   ],
   "source": [
    "np.min(embeddings_mean_pca)"
   ]
  },
  {
   "cell_type": "code",
   "execution_count": 11,
   "id": "d2855a33-08da-443f-ad52-2c7bdd69a1b2",
   "metadata": {},
   "outputs": [
    {
     "data": {
      "text/plain": [
       "array([0.20413661, 0.16370424, 0.13984939, 0.07466608, 0.06111542,\n",
       "       0.04910357, 0.03278679, 0.03122109, 0.02557054, 0.02396493,\n",
       "       0.02077645, 0.02010264, 0.01862478, 0.0164721 , 0.01354135,\n",
       "       0.01310717, 0.01047042, 0.00946308, 0.00824114, 0.0078797 ,\n",
       "       0.00687123, 0.0064571 , 0.00531966, 0.00501186, 0.0036676 ,\n",
       "       0.00314963, 0.00241343, 0.00216725, 0.00171578, 0.00122484])"
      ]
     },
     "execution_count": 11,
     "metadata": {},
     "output_type": "execute_result"
    }
   ],
   "source": [
    "pca.explained_variance_ratio_"
   ]
  },
  {
   "cell_type": "code",
   "execution_count": 12,
   "id": "d94baf42-1e7a-46b5-9d65-1e64b0727264",
   "metadata": {},
   "outputs": [],
   "source": [
    "df_embedding = pd.DataFrame(embeddings_mean_pca, columns=['ChemBERTa_' + str(i) for i in range(30)])\n",
    "df_embedding['sm_name'] = df_compound['sm_name'].values\n",
    "df_embedding['SMILES'] = df_compound['SMILES'].values"
   ]
  },
  {
   "cell_type": "code",
   "execution_count": 13,
   "id": "ce7d653e-a68a-45e6-823f-6d16f3bf4549",
   "metadata": {},
   "outputs": [
    {
     "data": {
      "text/html": [
       "<div>\n",
       "<style scoped>\n",
       "    .dataframe tbody tr th:only-of-type {\n",
       "        vertical-align: middle;\n",
       "    }\n",
       "\n",
       "    .dataframe tbody tr th {\n",
       "        vertical-align: top;\n",
       "    }\n",
       "\n",
       "    .dataframe thead th {\n",
       "        text-align: right;\n",
       "    }\n",
       "</style>\n",
       "<table border=\"1\" class=\"dataframe\">\n",
       "  <thead>\n",
       "    <tr style=\"text-align: right;\">\n",
       "      <th></th>\n",
       "      <th>ChemBERTa_0</th>\n",
       "      <th>ChemBERTa_1</th>\n",
       "      <th>ChemBERTa_2</th>\n",
       "      <th>ChemBERTa_3</th>\n",
       "      <th>ChemBERTa_4</th>\n",
       "      <th>ChemBERTa_5</th>\n",
       "      <th>ChemBERTa_6</th>\n",
       "      <th>ChemBERTa_7</th>\n",
       "      <th>ChemBERTa_8</th>\n",
       "      <th>ChemBERTa_9</th>\n",
       "      <th>...</th>\n",
       "      <th>ChemBERTa_22</th>\n",
       "      <th>ChemBERTa_23</th>\n",
       "      <th>ChemBERTa_24</th>\n",
       "      <th>ChemBERTa_25</th>\n",
       "      <th>ChemBERTa_26</th>\n",
       "      <th>ChemBERTa_27</th>\n",
       "      <th>ChemBERTa_28</th>\n",
       "      <th>ChemBERTa_29</th>\n",
       "      <th>sm_name</th>\n",
       "      <th>SMILES</th>\n",
       "    </tr>\n",
       "  </thead>\n",
       "  <tbody>\n",
       "    <tr>\n",
       "      <th>0</th>\n",
       "      <td>3.179919</td>\n",
       "      <td>-4.687706</td>\n",
       "      <td>-4.623246</td>\n",
       "      <td>1.254814</td>\n",
       "      <td>5.282465</td>\n",
       "      <td>2.970388</td>\n",
       "      <td>-0.237230</td>\n",
       "      <td>1.332898</td>\n",
       "      <td>1.294285</td>\n",
       "      <td>2.811361</td>\n",
       "      <td>...</td>\n",
       "      <td>-2.919976</td>\n",
       "      <td>-0.244050</td>\n",
       "      <td>0.865697</td>\n",
       "      <td>-0.010480</td>\n",
       "      <td>-0.303170</td>\n",
       "      <td>-0.965435</td>\n",
       "      <td>0.784266</td>\n",
       "      <td>0.361582</td>\n",
       "      <td>Clotrimazole</td>\n",
       "      <td>Clc1ccccc1C(c1ccccc1)(c1ccccc1)n1ccnc1</td>\n",
       "    </tr>\n",
       "    <tr>\n",
       "      <th>1</th>\n",
       "      <td>7.451252</td>\n",
       "      <td>0.383750</td>\n",
       "      <td>1.268539</td>\n",
       "      <td>7.552625</td>\n",
       "      <td>-1.523159</td>\n",
       "      <td>-0.082724</td>\n",
       "      <td>-2.609739</td>\n",
       "      <td>1.288590</td>\n",
       "      <td>2.002610</td>\n",
       "      <td>6.674026</td>\n",
       "      <td>...</td>\n",
       "      <td>1.402683</td>\n",
       "      <td>-0.243014</td>\n",
       "      <td>-0.378355</td>\n",
       "      <td>-0.847325</td>\n",
       "      <td>-0.024457</td>\n",
       "      <td>-0.493676</td>\n",
       "      <td>-0.507556</td>\n",
       "      <td>0.204738</td>\n",
       "      <td>Mometasone Furoate</td>\n",
       "      <td>C[C@@H]1C[C@H]2[C@@H]3CCC4=CC(=O)C=C[C@]4(C)[C...</td>\n",
       "    </tr>\n",
       "    <tr>\n",
       "      <th>2</th>\n",
       "      <td>-4.496194</td>\n",
       "      <td>5.499674</td>\n",
       "      <td>2.434648</td>\n",
       "      <td>-1.057762</td>\n",
       "      <td>-2.068403</td>\n",
       "      <td>-0.727420</td>\n",
       "      <td>-0.966918</td>\n",
       "      <td>2.025422</td>\n",
       "      <td>2.593186</td>\n",
       "      <td>1.352790</td>\n",
       "      <td>...</td>\n",
       "      <td>-1.514117</td>\n",
       "      <td>-0.516745</td>\n",
       "      <td>0.969760</td>\n",
       "      <td>0.974318</td>\n",
       "      <td>0.495002</td>\n",
       "      <td>-0.792707</td>\n",
       "      <td>0.563062</td>\n",
       "      <td>0.246157</td>\n",
       "      <td>Idelalisib</td>\n",
       "      <td>CC[C@H](Nc1ncnc2[nH]cnc12)c1nc2cccc(F)c2c(=O)n...</td>\n",
       "    </tr>\n",
       "    <tr>\n",
       "      <th>3</th>\n",
       "      <td>-6.795396</td>\n",
       "      <td>-5.836981</td>\n",
       "      <td>4.484647</td>\n",
       "      <td>-3.136359</td>\n",
       "      <td>-0.792571</td>\n",
       "      <td>3.269678</td>\n",
       "      <td>-2.416987</td>\n",
       "      <td>1.076718</td>\n",
       "      <td>-0.219331</td>\n",
       "      <td>-0.389973</td>\n",
       "      <td>...</td>\n",
       "      <td>-0.172608</td>\n",
       "      <td>0.259540</td>\n",
       "      <td>0.601946</td>\n",
       "      <td>-1.127668</td>\n",
       "      <td>0.246147</td>\n",
       "      <td>-0.332707</td>\n",
       "      <td>-0.103326</td>\n",
       "      <td>-0.253317</td>\n",
       "      <td>Vandetanib</td>\n",
       "      <td>COc1cc2c(Nc3ccc(Br)cc3F)ncnc2cc1OCC1CCN(C)CC1</td>\n",
       "    </tr>\n",
       "    <tr>\n",
       "      <th>4</th>\n",
       "      <td>2.275002</td>\n",
       "      <td>-8.121044</td>\n",
       "      <td>-0.387577</td>\n",
       "      <td>-5.903578</td>\n",
       "      <td>-0.573389</td>\n",
       "      <td>3.516201</td>\n",
       "      <td>-2.809049</td>\n",
       "      <td>0.645430</td>\n",
       "      <td>2.345354</td>\n",
       "      <td>-2.769624</td>\n",
       "      <td>...</td>\n",
       "      <td>-0.253444</td>\n",
       "      <td>0.420494</td>\n",
       "      <td>-0.422652</td>\n",
       "      <td>0.494291</td>\n",
       "      <td>-0.091421</td>\n",
       "      <td>1.653005</td>\n",
       "      <td>0.973916</td>\n",
       "      <td>-0.829430</td>\n",
       "      <td>Bosutinib</td>\n",
       "      <td>COc1cc(Nc2c(C#N)cnc3cc(OCCCN4CCN(C)CC4)c(OC)cc...</td>\n",
       "    </tr>\n",
       "  </tbody>\n",
       "</table>\n",
       "<p>5 rows × 32 columns</p>\n",
       "</div>"
      ],
      "text/plain": [
       "   ChemBERTa_0  ChemBERTa_1  ChemBERTa_2  ChemBERTa_3  ChemBERTa_4  \\\n",
       "0     3.179919    -4.687706    -4.623246     1.254814     5.282465   \n",
       "1     7.451252     0.383750     1.268539     7.552625    -1.523159   \n",
       "2    -4.496194     5.499674     2.434648    -1.057762    -2.068403   \n",
       "3    -6.795396    -5.836981     4.484647    -3.136359    -0.792571   \n",
       "4     2.275002    -8.121044    -0.387577    -5.903578    -0.573389   \n",
       "\n",
       "   ChemBERTa_5  ChemBERTa_6  ChemBERTa_7  ChemBERTa_8  ChemBERTa_9  ...  \\\n",
       "0     2.970388    -0.237230     1.332898     1.294285     2.811361  ...   \n",
       "1    -0.082724    -2.609739     1.288590     2.002610     6.674026  ...   \n",
       "2    -0.727420    -0.966918     2.025422     2.593186     1.352790  ...   \n",
       "3     3.269678    -2.416987     1.076718    -0.219331    -0.389973  ...   \n",
       "4     3.516201    -2.809049     0.645430     2.345354    -2.769624  ...   \n",
       "\n",
       "   ChemBERTa_22  ChemBERTa_23  ChemBERTa_24  ChemBERTa_25  ChemBERTa_26  \\\n",
       "0     -2.919976     -0.244050      0.865697     -0.010480     -0.303170   \n",
       "1      1.402683     -0.243014     -0.378355     -0.847325     -0.024457   \n",
       "2     -1.514117     -0.516745      0.969760      0.974318      0.495002   \n",
       "3     -0.172608      0.259540      0.601946     -1.127668      0.246147   \n",
       "4     -0.253444      0.420494     -0.422652      0.494291     -0.091421   \n",
       "\n",
       "   ChemBERTa_27  ChemBERTa_28  ChemBERTa_29             sm_name  \\\n",
       "0     -0.965435      0.784266      0.361582        Clotrimazole   \n",
       "1     -0.493676     -0.507556      0.204738  Mometasone Furoate   \n",
       "2     -0.792707      0.563062      0.246157          Idelalisib   \n",
       "3     -0.332707     -0.103326     -0.253317          Vandetanib   \n",
       "4      1.653005      0.973916     -0.829430           Bosutinib   \n",
       "\n",
       "                                              SMILES  \n",
       "0             Clc1ccccc1C(c1ccccc1)(c1ccccc1)n1ccnc1  \n",
       "1  C[C@@H]1C[C@H]2[C@@H]3CCC4=CC(=O)C=C[C@]4(C)[C...  \n",
       "2  CC[C@H](Nc1ncnc2[nH]cnc12)c1nc2cccc(F)c2c(=O)n...  \n",
       "3      COc1cc2c(Nc3ccc(Br)cc3F)ncnc2cc1OCC1CCN(C)CC1  \n",
       "4  COc1cc(Nc2c(C#N)cnc3cc(OCCCN4CCN(C)CC4)c(OC)cc...  \n",
       "\n",
       "[5 rows x 32 columns]"
      ]
     },
     "execution_count": 13,
     "metadata": {},
     "output_type": "execute_result"
    }
   ],
   "source": [
    "df_embedding.head()"
   ]
  },
  {
   "cell_type": "code",
   "execution_count": 14,
   "id": "9ac0b229-6139-4156-a9a2-4e799e06b052",
   "metadata": {},
   "outputs": [
    {
     "name": "stderr",
     "output_type": "stream",
     "text": [
      "/data/pinello/SHARED_SOFTWARE/anaconda_latest/envs/zl_scp/lib/python3.10/site-packages/seaborn/_oldcore.py:1498: FutureWarning: is_categorical_dtype is deprecated and will be removed in a future version. Use isinstance(dtype, CategoricalDtype) instead\n",
      "  if pd.api.types.is_categorical_dtype(vector):\n",
      "/data/pinello/SHARED_SOFTWARE/anaconda_latest/envs/zl_scp/lib/python3.10/site-packages/seaborn/_oldcore.py:1498: FutureWarning: is_categorical_dtype is deprecated and will be removed in a future version. Use isinstance(dtype, CategoricalDtype) instead\n",
      "  if pd.api.types.is_categorical_dtype(vector):\n"
     ]
    },
    {
     "data": {
      "text/plain": [
       "<Axes: xlabel='ChemBERTa_0', ylabel='ChemBERTa_1'>"
      ]
     },
     "execution_count": 14,
     "metadata": {},
     "output_type": "execute_result"
    },
    {
     "data": {
      "image/png": "[encoded data removed]",
      "text/plain": [
       "<Figure size 640x480 with 1 Axes>"
      ]
     },
     "metadata": {},
     "output_type": "display_data"
    }
   ],
   "source": [
    "sns.scatterplot(df_embedding, x='ChemBERTa_0', y='ChemBERTa_1')"
   ]
  },
  {
   "cell_type": "code",
   "execution_count": 15,
   "id": "8168aa1c-f724-474b-8e6b-1bc5bccef750",
   "metadata": {},
   "outputs": [],
   "source": [
    "df_embedding.to_csv('../../results/ChemBERTa-77M-MTR/df_embedding.csv')"
   ]
  },
  {
   "cell_type": "code",
   "execution_count": null,
   "id": "a25873bc-06f6-4045-a5ab-07687113f8db",
   "metadata": {},
   "outputs": [],
   "source": []
  }
 ],
 "metadata": {
  "kernelspec": {
   "display_name": "Python [conda env:zl_scp]",
   "language": "python",
   "name": "conda-env-zl_scp-py"
  },
  "language_info": {
   "codemirror_mode": {
    "name": "ipython",
    "version": 3
   },
   "file_extension": ".py",
   "mimetype": "text/x-python",
   "name": "python",
   "nbconvert_exporter": "python",
   "pygments_lexer": "ipython3",
   "version": "3.10.12"
  }
 },
 "nbformat": 4,
 "nbformat_minor": 5
}
