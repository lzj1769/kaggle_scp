{
 "cells": [
  {
   "cell_type": "code",
   "execution_count": 19,
   "id": "9449638d-a004-4db2-98d0-0e15ccc600f3",
   "metadata": {},
   "outputs": [
    {
     "name": "stderr",
     "output_type": "stream",
     "text": [
      "Some weights of RobertaForMaskedLM were not initialized from the model checkpoint at DeepChem/ChemBERTa-77M-MTR and are newly initialized: ['lm_head.dense.weight', 'lm_head.decoder.bias', 'lm_head.dense.bias', 'lm_head.layer_norm.weight', 'lm_head.bias', 'lm_head.layer_norm.bias']\n",
      "You should probably TRAIN this model on a down-stream task to be able to use it for predictions and inference.\n",
      "/data/pinello/SHARED_SOFTWARE/anaconda_latest/envs/zl_scp/lib/python3.10/site-packages/umap/plot.py:203: NumbaDeprecationWarning: The keyword argument 'nopython=False' was supplied. From Numba 0.59.0 the default is being changed to True and use of 'nopython=False' will raise a warning as the argument will have no effect. See https://numba.readthedocs.io/en/stable/reference/deprecation.html#deprecation-of-object-mode-fall-back-behaviour-when-using-jit for details.\n",
      "  @numba.jit(nopython=False)\n"
     ]
    }
   ],
   "source": [
    "# https://www.kaggle.com/code/alekseytrepetsky/create-chemberta-embed\n",
    "\n",
    "from IPython.display import clear_output as clr\n",
    "import numpy as np\n",
    "import pandas as pd\n",
    "import torch\n",
    "import torch.nn as nn\n",
    "from tqdm import tqdm\n",
    "import seaborn as sns\n",
    "from transformers import AutoModelForMaskedLM, AutoTokenizer\n",
    "\n",
    "chemberta = AutoModelForMaskedLM.from_pretrained(\"DeepChem/ChemBERTa-77M-MTR\")\n",
    "tokenizer = AutoTokenizer.from_pretrained(\"DeepChem/ChemBERTa-77M-MTR\")\n",
    "\n",
    "chemberta._modules[\"lm_head\"] = nn.Identity()\n",
    "\n",
    "import umap\n",
    "import umap.plot"
   ]
  },
  {
   "cell_type": "code",
   "execution_count": 20,
   "id": "53b1b01d-167e-400b-a4c4-3ccb5539e49a",
   "metadata": {},
   "outputs": [
    {
     "data": {
      "text/plain": [
       "RobertaForMaskedLM(\n",
       "  (roberta): RobertaModel(\n",
       "    (embeddings): RobertaEmbeddings(\n",
       "      (word_embeddings): Embedding(600, 384, padding_idx=1)\n",
       "      (position_embeddings): Embedding(515, 384, padding_idx=1)\n",
       "      (token_type_embeddings): Embedding(1, 384)\n",
       "      (LayerNorm): LayerNorm((384,), eps=1e-12, elementwise_affine=True)\n",
       "      (dropout): Dropout(p=0.144, inplace=False)\n",
       "    )\n",
       "    (encoder): RobertaEncoder(\n",
       "      (layer): ModuleList(\n",
       "        (0-2): 3 x RobertaLayer(\n",
       "          (attention): RobertaAttention(\n",
       "            (self): RobertaSelfAttention(\n",
       "              (query): Linear(in_features=384, out_features=384, bias=True)\n",
       "              (key): Linear(in_features=384, out_features=384, bias=True)\n",
       "              (value): Linear(in_features=384, out_features=384, bias=True)\n",
       "              (dropout): Dropout(p=0.109, inplace=False)\n",
       "            )\n",
       "            (output): RobertaSelfOutput(\n",
       "              (dense): Linear(in_features=384, out_features=384, bias=True)\n",
       "              (LayerNorm): LayerNorm((384,), eps=1e-12, elementwise_affine=True)\n",
       "              (dropout): Dropout(p=0.144, inplace=False)\n",
       "            )\n",
       "          )\n",
       "          (intermediate): RobertaIntermediate(\n",
       "            (dense): Linear(in_features=384, out_features=464, bias=True)\n",
       "            (intermediate_act_fn): GELUActivation()\n",
       "          )\n",
       "          (output): RobertaOutput(\n",
       "            (dense): Linear(in_features=464, out_features=384, bias=True)\n",
       "            (LayerNorm): LayerNorm((384,), eps=1e-12, elementwise_affine=True)\n",
       "            (dropout): Dropout(p=0.144, inplace=False)\n",
       "          )\n",
       "        )\n",
       "      )\n",
       "    )\n",
       "  )\n",
       "  (lm_head): Identity()\n",
       ")"
      ]
     },
     "execution_count": 20,
     "metadata": {},
     "output_type": "execute_result"
    }
   ],
   "source": [
    "chemberta.eval()"
   ]
  },
  {
   "cell_type": "code",
   "execution_count": 33,
   "id": "0c980b49-e342-4822-b962-d5799d8e1819",
   "metadata": {},
   "outputs": [],
   "source": [
    "def featurize_ChemBERTa(smiles_list, padding=True):\n",
    "    embeddings_cls = torch.zeros(len(smiles_list), 384)\n",
    "    embeddings_mean = torch.zeros(len(smiles_list), 384)\n",
    "\n",
    "    with torch.no_grad():\n",
    "        for i, smiles in enumerate(tqdm(smiles_list)):\n",
    "            encoded_input = tokenizer(smiles, return_tensors=\"pt\", padding=padding, truncation=True)\n",
    "            model_output = chemberta(**encoded_input)\n",
    "            \n",
    "            embedding = model_output[0][::,0,::]\n",
    "            embeddings_cls[i] = embedding\n",
    "            \n",
    "            embedding = torch.mean(model_output[0],1)\n",
    "            embeddings_mean[i] = embedding\n",
    "            \n",
    "    return embeddings_cls, embeddings_mean"
   ]
  },
  {
   "cell_type": "code",
   "execution_count": 5,
   "id": "d3c06288-f80d-4291-8adb-0891e2df5d7c",
   "metadata": {},
   "outputs": [],
   "source": [
    "df_de_train = pd.read_parquet('../../data/de_train.parquet')"
   ]
  },
  {
   "cell_type": "code",
   "execution_count": 6,
   "id": "84640064-e277-4581-bd89-355f86627dde",
   "metadata": {},
   "outputs": [],
   "source": [
    "df_compound = df_de_train[['sm_name', 'SMILES']].drop_duplicates()"
   ]
  },
  {
   "cell_type": "code",
   "execution_count": 7,
   "id": "2c92cd8b-e5e3-4f4b-a527-a79a15236837",
   "metadata": {},
   "outputs": [
    {
     "data": {
      "text/html": [
       "<div>\n",
       "<style scoped>\n",
       "    .dataframe tbody tr th:only-of-type {\n",
       "        vertical-align: middle;\n",
       "    }\n",
       "\n",
       "    .dataframe tbody tr th {\n",
       "        vertical-align: top;\n",
       "    }\n",
       "\n",
       "    .dataframe thead th {\n",
       "        text-align: right;\n",
       "    }\n",
       "</style>\n",
       "<table border=\"1\" class=\"dataframe\">\n",
       "  <thead>\n",
       "    <tr style=\"text-align: right;\">\n",
       "      <th></th>\n",
       "      <th>sm_name</th>\n",
       "      <th>SMILES</th>\n",
       "    </tr>\n",
       "  </thead>\n",
       "  <tbody>\n",
       "    <tr>\n",
       "      <th>0</th>\n",
       "      <td>Clotrimazole</td>\n",
       "      <td>Clc1ccccc1C(c1ccccc1)(c1ccccc1)n1ccnc1</td>\n",
       "    </tr>\n",
       "    <tr>\n",
       "      <th>4</th>\n",
       "      <td>Mometasone Furoate</td>\n",
       "      <td>C[C@@H]1C[C@H]2[C@@H]3CCC4=CC(=O)C=C[C@]4(C)[C...</td>\n",
       "    </tr>\n",
       "    <tr>\n",
       "      <th>8</th>\n",
       "      <td>Idelalisib</td>\n",
       "      <td>CC[C@H](Nc1ncnc2[nH]cnc12)c1nc2cccc(F)c2c(=O)n...</td>\n",
       "    </tr>\n",
       "    <tr>\n",
       "      <th>14</th>\n",
       "      <td>Vandetanib</td>\n",
       "      <td>COc1cc2c(Nc3ccc(Br)cc3F)ncnc2cc1OCC1CCN(C)CC1</td>\n",
       "    </tr>\n",
       "    <tr>\n",
       "      <th>18</th>\n",
       "      <td>Bosutinib</td>\n",
       "      <td>COc1cc(Nc2c(C#N)cnc3cc(OCCCN4CCN(C)CC4)c(OC)cc...</td>\n",
       "    </tr>\n",
       "    <tr>\n",
       "      <th>...</th>\n",
       "      <td>...</td>\n",
       "      <td>...</td>\n",
       "    </tr>\n",
       "    <tr>\n",
       "      <th>594</th>\n",
       "      <td>CGM-097</td>\n",
       "      <td>COc1cc2c(cc1OC(C)C)[C@H](c1ccc(Cl)cc1)N(c1ccc(...</td>\n",
       "    </tr>\n",
       "    <tr>\n",
       "      <th>598</th>\n",
       "      <td>TGX 221</td>\n",
       "      <td>Cc1cc(C(C)Nc2ccccc2)c2nc(N3CCOCC3)cc(=O)n2c1</td>\n",
       "    </tr>\n",
       "    <tr>\n",
       "      <th>602</th>\n",
       "      <td>Azacitidine</td>\n",
       "      <td>Nc1ncn([C@@H]2O[C@H](CO)[C@@H](O)[C@H]2O)c(=O)n1</td>\n",
       "    </tr>\n",
       "    <tr>\n",
       "      <th>606</th>\n",
       "      <td>Atorvastatin</td>\n",
       "      <td>CC(C)c1c(C(=O)Nc2ccccc2)c(-c2ccccc2)c(-c2ccc(F...</td>\n",
       "    </tr>\n",
       "    <tr>\n",
       "      <th>610</th>\n",
       "      <td>Riociguat</td>\n",
       "      <td>COC(=O)N(C)c1c(N)nc(-c2nn(Cc3ccccc3F)c3ncccc23...</td>\n",
       "    </tr>\n",
       "  </tbody>\n",
       "</table>\n",
       "<p>146 rows × 2 columns</p>\n",
       "</div>"
      ],
      "text/plain": [
       "                sm_name                                             SMILES\n",
       "0          Clotrimazole             Clc1ccccc1C(c1ccccc1)(c1ccccc1)n1ccnc1\n",
       "4    Mometasone Furoate  C[C@@H]1C[C@H]2[C@@H]3CCC4=CC(=O)C=C[C@]4(C)[C...\n",
       "8            Idelalisib  CC[C@H](Nc1ncnc2[nH]cnc12)c1nc2cccc(F)c2c(=O)n...\n",
       "14           Vandetanib      COc1cc2c(Nc3ccc(Br)cc3F)ncnc2cc1OCC1CCN(C)CC1\n",
       "18            Bosutinib  COc1cc(Nc2c(C#N)cnc3cc(OCCCN4CCN(C)CC4)c(OC)cc...\n",
       "..                  ...                                                ...\n",
       "594             CGM-097  COc1cc2c(cc1OC(C)C)[C@H](c1ccc(Cl)cc1)N(c1ccc(...\n",
       "598             TGX 221       Cc1cc(C(C)Nc2ccccc2)c2nc(N3CCOCC3)cc(=O)n2c1\n",
       "602         Azacitidine   Nc1ncn([C@@H]2O[C@H](CO)[C@@H](O)[C@H]2O)c(=O)n1\n",
       "606        Atorvastatin  CC(C)c1c(C(=O)Nc2ccccc2)c(-c2ccccc2)c(-c2ccc(F...\n",
       "610           Riociguat  COC(=O)N(C)c1c(N)nc(-c2nn(Cc3ccccc3F)c3ncccc23...\n",
       "\n",
       "[146 rows x 2 columns]"
      ]
     },
     "execution_count": 7,
     "metadata": {},
     "output_type": "execute_result"
    }
   ],
   "source": [
    "df_compound"
   ]
  },
  {
   "cell_type": "code",
   "execution_count": 34,
   "id": "9b4cce1d-333c-4522-8698-9298656d0b6d",
   "metadata": {},
   "outputs": [
    {
     "name": "stderr",
     "output_type": "stream",
     "text": [
      "100%|██████████| 146/146 [00:13<00:00, 10.52it/s]\n"
     ]
    }
   ],
   "source": [
    "embeddings_cls, embeddings_mean = featurize_ChemBERTa(df_compound.SMILES)"
   ]
  },
  {
   "cell_type": "code",
   "execution_count": 35,
   "id": "3e1a1e3e-4f2e-4996-a1eb-abbb54d1b596",
   "metadata": {},
   "outputs": [
    {
     "name": "stderr",
     "output_type": "stream",
     "text": [
      "/data/pinello/SHARED_SOFTWARE/anaconda_latest/envs/zl_scp/lib/python3.10/site-packages/umap/plot.py:449: UserWarning: *c* argument looks like a single numeric RGB or RGBA sequence, which should be avoided as value-mapping will have precedence in case its length matches with *x* & *y*.  Please use the *color* keyword-argument or provide a 2D array with a single row if you intend to specify the same RGB or RGBA value for all points.\n",
      "  ax.scatter(points[:, 0], points[:, 1], s=point_size, c=color)\n"
     ]
    },
    {
     "data": {
      "text/plain": [
       "<Axes: >"
      ]
     },
     "execution_count": 35,
     "metadata": {},
     "output_type": "execute_result"
    },
    {
     "data": {
      "image/png": "[encoded data removed]",
      "text/plain": [
       "<Figure size 800x800 with 1 Axes>"
      ]
     },
     "metadata": {},
     "output_type": "display_data"
    }
   ],
   "source": [
    "embeddings_cls_pca = pca.fit_transform(embeddings_cls)\n",
    "embedding = umap.UMAP(n_neighbors=5).fit(embeddings_cls_pca)\n",
    "umap.plot.points(embedding)"
   ]
  },
  {
   "cell_type": "code",
   "execution_count": 36,
   "id": "47841f9a-9f1b-4c63-a796-ddec5feea282",
   "metadata": {},
   "outputs": [
    {
     "name": "stderr",
     "output_type": "stream",
     "text": [
      "/data/pinello/SHARED_SOFTWARE/anaconda_latest/envs/zl_scp/lib/python3.10/site-packages/umap/plot.py:449: UserWarning: *c* argument looks like a single numeric RGB or RGBA sequence, which should be avoided as value-mapping will have precedence in case its length matches with *x* & *y*.  Please use the *color* keyword-argument or provide a 2D array with a single row if you intend to specify the same RGB or RGBA value for all points.\n",
      "  ax.scatter(points[:, 0], points[:, 1], s=point_size, c=color)\n"
     ]
    },
    {
     "data": {
      "text/plain": [
       "<Axes: >"
      ]
     },
     "execution_count": 36,
     "metadata": {},
     "output_type": "execute_result"
    },
    {
     "data": {
      "image/png": "[encoded data removed]",
      "text/plain": [
       "<Figure size 800x800 with 1 Axes>"
      ]
     },
     "metadata": {},
     "output_type": "display_data"
    }
   ],
   "source": [
    "embeddings_mean_pca = pca.fit_transform(embeddings_mean)\n",
    "embedding = umap.UMAP(n_neighbors=5).fit(embeddings_mean_pca)\n",
    "umap.plot.points(embedding)"
   ]
  },
  {
   "cell_type": "code",
   "execution_count": 37,
   "id": "d2855a33-08da-443f-ad52-2c7bdd69a1b2",
   "metadata": {},
   "outputs": [
    {
     "data": {
      "text/plain": [
       "array([0.17516744, 0.16631981, 0.08598431, 0.04858799, 0.03695107,\n",
       "       0.03537204, 0.02688338, 0.02438725, 0.0204954 , 0.01972992,\n",
       "       0.01928628, 0.01686256, 0.01673535, 0.01528863, 0.01380646,\n",
       "       0.01330296, 0.01186924, 0.01143547, 0.01095395, 0.01047066,\n",
       "       0.00965515, 0.00935036, 0.00873085, 0.00812376, 0.0079632 ,\n",
       "       0.00757921, 0.00725931, 0.00699774, 0.00680844, 0.00642063])"
      ]
     },
     "execution_count": 37,
     "metadata": {},
     "output_type": "execute_result"
    }
   ],
   "source": [
    "pca.explained_variance_ratio_"
   ]
  },
  {
   "cell_type": "code",
   "execution_count": 38,
   "id": "d94baf42-1e7a-46b5-9d65-1e64b0727264",
   "metadata": {},
   "outputs": [],
   "source": [
    "df_embedding = pd.DataFrame(embeddings_mean_pca, columns=['ChemBERTa_' + str(i) for i in range(30)])\n",
    "df_embedding['sm_name'] = df_compound['sm_name'].values\n",
    "df_embedding['SMILES'] = df_compound['SMILES'].values"
   ]
  },
  {
   "cell_type": "code",
   "execution_count": 39,
   "id": "ce7d653e-a68a-45e6-823f-6d16f3bf4549",
   "metadata": {},
   "outputs": [
    {
     "data": {
      "text/html": [
       "<div>\n",
       "<style scoped>\n",
       "    .dataframe tbody tr th:only-of-type {\n",
       "        vertical-align: middle;\n",
       "    }\n",
       "\n",
       "    .dataframe tbody tr th {\n",
       "        vertical-align: top;\n",
       "    }\n",
       "\n",
       "    .dataframe thead th {\n",
       "        text-align: right;\n",
       "    }\n",
       "</style>\n",
       "<table border=\"1\" class=\"dataframe\">\n",
       "  <thead>\n",
       "    <tr style=\"text-align: right;\">\n",
       "      <th></th>\n",
       "      <th>ChemBERTa_0</th>\n",
       "      <th>ChemBERTa_1</th>\n",
       "      <th>ChemBERTa_2</th>\n",
       "      <th>ChemBERTa_3</th>\n",
       "      <th>ChemBERTa_4</th>\n",
       "      <th>ChemBERTa_5</th>\n",
       "      <th>ChemBERTa_6</th>\n",
       "      <th>ChemBERTa_7</th>\n",
       "      <th>ChemBERTa_8</th>\n",
       "      <th>ChemBERTa_9</th>\n",
       "      <th>...</th>\n",
       "      <th>ChemBERTa_22</th>\n",
       "      <th>ChemBERTa_23</th>\n",
       "      <th>ChemBERTa_24</th>\n",
       "      <th>ChemBERTa_25</th>\n",
       "      <th>ChemBERTa_26</th>\n",
       "      <th>ChemBERTa_27</th>\n",
       "      <th>ChemBERTa_28</th>\n",
       "      <th>ChemBERTa_29</th>\n",
       "      <th>sm_name</th>\n",
       "      <th>SMILES</th>\n",
       "    </tr>\n",
       "  </thead>\n",
       "  <tbody>\n",
       "    <tr>\n",
       "      <th>0</th>\n",
       "      <td>1.400530</td>\n",
       "      <td>-0.852967</td>\n",
       "      <td>-0.582822</td>\n",
       "      <td>-0.809206</td>\n",
       "      <td>-0.051650</td>\n",
       "      <td>-0.673735</td>\n",
       "      <td>-0.543063</td>\n",
       "      <td>-0.660368</td>\n",
       "      <td>0.011960</td>\n",
       "      <td>0.141631</td>\n",
       "      <td>...</td>\n",
       "      <td>0.018228</td>\n",
       "      <td>0.553002</td>\n",
       "      <td>-0.175593</td>\n",
       "      <td>-0.205938</td>\n",
       "      <td>0.328213</td>\n",
       "      <td>0.289953</td>\n",
       "      <td>0.234009</td>\n",
       "      <td>0.165885</td>\n",
       "      <td>Clotrimazole</td>\n",
       "      <td>Clc1ccccc1C(c1ccccc1)(c1ccccc1)n1ccnc1</td>\n",
       "    </tr>\n",
       "    <tr>\n",
       "      <th>1</th>\n",
       "      <td>-0.247881</td>\n",
       "      <td>-0.686762</td>\n",
       "      <td>2.044995</td>\n",
       "      <td>0.078853</td>\n",
       "      <td>0.865587</td>\n",
       "      <td>-0.765618</td>\n",
       "      <td>0.861688</td>\n",
       "      <td>0.086517</td>\n",
       "      <td>-0.369891</td>\n",
       "      <td>1.574609</td>\n",
       "      <td>...</td>\n",
       "      <td>0.302191</td>\n",
       "      <td>0.119016</td>\n",
       "      <td>-0.175393</td>\n",
       "      <td>0.700034</td>\n",
       "      <td>-0.119779</td>\n",
       "      <td>0.639626</td>\n",
       "      <td>-0.500860</td>\n",
       "      <td>-0.085684</td>\n",
       "      <td>Mometasone Furoate</td>\n",
       "      <td>C[C@@H]1C[C@H]2[C@@H]3CCC4=CC(=O)C=C[C@]4(C)[C...</td>\n",
       "    </tr>\n",
       "    <tr>\n",
       "      <th>2</th>\n",
       "      <td>0.670710</td>\n",
       "      <td>1.404434</td>\n",
       "      <td>-0.350441</td>\n",
       "      <td>0.681979</td>\n",
       "      <td>0.513530</td>\n",
       "      <td>-0.035814</td>\n",
       "      <td>0.481072</td>\n",
       "      <td>-0.070070</td>\n",
       "      <td>0.734374</td>\n",
       "      <td>0.036481</td>\n",
       "      <td>...</td>\n",
       "      <td>0.149629</td>\n",
       "      <td>0.552633</td>\n",
       "      <td>0.380843</td>\n",
       "      <td>-0.258679</td>\n",
       "      <td>-0.051670</td>\n",
       "      <td>0.087329</td>\n",
       "      <td>0.028335</td>\n",
       "      <td>0.122858</td>\n",
       "      <td>Idelalisib</td>\n",
       "      <td>CC[C@H](Nc1ncnc2[nH]cnc12)c1nc2cccc(F)c2c(=O)n...</td>\n",
       "    </tr>\n",
       "    <tr>\n",
       "      <th>3</th>\n",
       "      <td>0.129725</td>\n",
       "      <td>3.352361</td>\n",
       "      <td>-0.134575</td>\n",
       "      <td>-0.368495</td>\n",
       "      <td>-0.298542</td>\n",
       "      <td>-0.087963</td>\n",
       "      <td>0.307502</td>\n",
       "      <td>0.352310</td>\n",
       "      <td>0.078964</td>\n",
       "      <td>0.040327</td>\n",
       "      <td>...</td>\n",
       "      <td>0.203761</td>\n",
       "      <td>-0.079327</td>\n",
       "      <td>0.146406</td>\n",
       "      <td>-0.680816</td>\n",
       "      <td>-0.070553</td>\n",
       "      <td>-0.308131</td>\n",
       "      <td>-0.536454</td>\n",
       "      <td>-0.168424</td>\n",
       "      <td>Vandetanib</td>\n",
       "      <td>COc1cc2c(Nc3ccc(Br)cc3F)ncnc2cc1OCC1CCN(C)CC1</td>\n",
       "    </tr>\n",
       "    <tr>\n",
       "      <th>4</th>\n",
       "      <td>-1.494508</td>\n",
       "      <td>0.461034</td>\n",
       "      <td>0.683080</td>\n",
       "      <td>-1.333416</td>\n",
       "      <td>-1.421309</td>\n",
       "      <td>0.386542</td>\n",
       "      <td>0.504409</td>\n",
       "      <td>0.444664</td>\n",
       "      <td>-0.396418</td>\n",
       "      <td>0.183564</td>\n",
       "      <td>...</td>\n",
       "      <td>0.144295</td>\n",
       "      <td>-0.267623</td>\n",
       "      <td>-0.411353</td>\n",
       "      <td>-0.441758</td>\n",
       "      <td>0.199405</td>\n",
       "      <td>-0.368794</td>\n",
       "      <td>-0.197889</td>\n",
       "      <td>-0.037703</td>\n",
       "      <td>Bosutinib</td>\n",
       "      <td>COc1cc(Nc2c(C#N)cnc3cc(OCCCN4CCN(C)CC4)c(OC)cc...</td>\n",
       "    </tr>\n",
       "  </tbody>\n",
       "</table>\n",
       "<p>5 rows × 32 columns</p>\n",
       "</div>"
      ],
      "text/plain": [
       "   ChemBERTa_0  ChemBERTa_1  ChemBERTa_2  ChemBERTa_3  ChemBERTa_4  \\\n",
       "0     1.400530    -0.852967    -0.582822    -0.809206    -0.051650   \n",
       "1    -0.247881    -0.686762     2.044995     0.078853     0.865587   \n",
       "2     0.670710     1.404434    -0.350441     0.681979     0.513530   \n",
       "3     0.129725     3.352361    -0.134575    -0.368495    -0.298542   \n",
       "4    -1.494508     0.461034     0.683080    -1.333416    -1.421309   \n",
       "\n",
       "   ChemBERTa_5  ChemBERTa_6  ChemBERTa_7  ChemBERTa_8  ChemBERTa_9  ...  \\\n",
       "0    -0.673735    -0.543063    -0.660368     0.011960     0.141631  ...   \n",
       "1    -0.765618     0.861688     0.086517    -0.369891     1.574609  ...   \n",
       "2    -0.035814     0.481072    -0.070070     0.734374     0.036481  ...   \n",
       "3    -0.087963     0.307502     0.352310     0.078964     0.040327  ...   \n",
       "4     0.386542     0.504409     0.444664    -0.396418     0.183564  ...   \n",
       "\n",
       "   ChemBERTa_22  ChemBERTa_23  ChemBERTa_24  ChemBERTa_25  ChemBERTa_26  \\\n",
       "0      0.018228      0.553002     -0.175593     -0.205938      0.328213   \n",
       "1      0.302191      0.119016     -0.175393      0.700034     -0.119779   \n",
       "2      0.149629      0.552633      0.380843     -0.258679     -0.051670   \n",
       "3      0.203761     -0.079327      0.146406     -0.680816     -0.070553   \n",
       "4      0.144295     -0.267623     -0.411353     -0.441758      0.199405   \n",
       "\n",
       "   ChemBERTa_27  ChemBERTa_28  ChemBERTa_29             sm_name  \\\n",
       "0      0.289953      0.234009      0.165885        Clotrimazole   \n",
       "1      0.639626     -0.500860     -0.085684  Mometasone Furoate   \n",
       "2      0.087329      0.028335      0.122858          Idelalisib   \n",
       "3     -0.308131     -0.536454     -0.168424          Vandetanib   \n",
       "4     -0.368794     -0.197889     -0.037703           Bosutinib   \n",
       "\n",
       "                                              SMILES  \n",
       "0             Clc1ccccc1C(c1ccccc1)(c1ccccc1)n1ccnc1  \n",
       "1  C[C@@H]1C[C@H]2[C@@H]3CCC4=CC(=O)C=C[C@]4(C)[C...  \n",
       "2  CC[C@H](Nc1ncnc2[nH]cnc12)c1nc2cccc(F)c2c(=O)n...  \n",
       "3      COc1cc2c(Nc3ccc(Br)cc3F)ncnc2cc1OCC1CCN(C)CC1  \n",
       "4  COc1cc(Nc2c(C#N)cnc3cc(OCCCN4CCN(C)CC4)c(OC)cc...  \n",
       "\n",
       "[5 rows x 32 columns]"
      ]
     },
     "execution_count": 39,
     "metadata": {},
     "output_type": "execute_result"
    }
   ],
   "source": [
    "df_embedding.head()"
   ]
  },
  {
   "cell_type": "code",
   "execution_count": 41,
   "id": "8168aa1c-f724-474b-8e6b-1bc5bccef750",
   "metadata": {},
   "outputs": [],
   "source": [
    "df_embedding.to_csv('../../results/ChemBERTa-77M-MTR/df_embedding.csv')"
   ]
  },
  {
   "cell_type": "code",
   "execution_count": null,
   "id": "a25873bc-06f6-4045-a5ab-07687113f8db",
   "metadata": {},
   "outputs": [],
   "source": []
  }
 ],
 "metadata": {
  "kernelspec": {
   "display_name": "Python [conda env:zl_scp]",
   "language": "python",
   "name": "conda-env-zl_scp-py"
  },
  "language_info": {
   "codemirror_mode": {
    "name": "ipython",
    "version": 3
   },
   "file_extension": ".py",
   "mimetype": "text/x-python",
   "name": "python",
   "nbconvert_exporter": "python",
   "pygments_lexer": "ipython3",
   "version": "3.10.12"
  }
 },
 "nbformat": 4,
 "nbformat_minor": 5
}
