{
 "cells": [
  {
   "cell_type": "code",
   "execution_count": 1,
   "id": "9449638d-a004-4db2-98d0-0e15ccc600f3",
   "metadata": {},
   "outputs": [
    {
     "name": "stderr",
     "output_type": "stream",
     "text": [
      "Some weights of RobertaForMaskedLM were not initialized from the model checkpoint at DeepChem/ChemBERTa-77M-MTR and are newly initialized: ['lm_head.dense.weight', 'lm_head.bias', 'lm_head.layer_norm.weight', 'lm_head.decoder.bias', 'lm_head.layer_norm.bias', 'lm_head.dense.bias']\n",
      "You should probably TRAIN this model on a down-stream task to be able to use it for predictions and inference.\n"
     ]
    }
   ],
   "source": [
    "# https://www.kaggle.com/code/alekseytrepetsky/create-chemberta-embed\n",
    "\n",
    "from IPython.display import clear_output as clr\n",
    "import numpy as np\n",
    "import pandas as pd\n",
    "import torch\n",
    "from tqdm import tqdm\n",
    "import seaborn as sns\n",
    "from transformers import AutoModelForMaskedLM, AutoTokenizer\n",
    "\n",
    "chemberta = AutoModelForMaskedLM.from_pretrained(\"DeepChem/ChemBERTa-77M-MTR\")\n",
    "tokenizer = AutoTokenizer.from_pretrained(\"DeepChem/ChemBERTa-77M-MTR\")"
   ]
  },
  {
   "cell_type": "code",
   "execution_count": 2,
   "id": "53b1b01d-167e-400b-a4c4-3ccb5539e49a",
   "metadata": {},
   "outputs": [
    {
     "data": {
      "text/plain": [
       "RobertaForMaskedLM(\n",
       "  (roberta): RobertaModel(\n",
       "    (embeddings): RobertaEmbeddings(\n",
       "      (word_embeddings): Embedding(600, 384, padding_idx=1)\n",
       "      (position_embeddings): Embedding(515, 384, padding_idx=1)\n",
       "      (token_type_embeddings): Embedding(1, 384)\n",
       "      (LayerNorm): LayerNorm((384,), eps=1e-12, elementwise_affine=True)\n",
       "      (dropout): Dropout(p=0.144, inplace=False)\n",
       "    )\n",
       "    (encoder): RobertaEncoder(\n",
       "      (layer): ModuleList(\n",
       "        (0-2): 3 x RobertaLayer(\n",
       "          (attention): RobertaAttention(\n",
       "            (self): RobertaSelfAttention(\n",
       "              (query): Linear(in_features=384, out_features=384, bias=True)\n",
       "              (key): Linear(in_features=384, out_features=384, bias=True)\n",
       "              (value): Linear(in_features=384, out_features=384, bias=True)\n",
       "              (dropout): Dropout(p=0.109, inplace=False)\n",
       "            )\n",
       "            (output): RobertaSelfOutput(\n",
       "              (dense): Linear(in_features=384, out_features=384, bias=True)\n",
       "              (LayerNorm): LayerNorm((384,), eps=1e-12, elementwise_affine=True)\n",
       "              (dropout): Dropout(p=0.144, inplace=False)\n",
       "            )\n",
       "          )\n",
       "          (intermediate): RobertaIntermediate(\n",
       "            (dense): Linear(in_features=384, out_features=464, bias=True)\n",
       "            (intermediate_act_fn): GELUActivation()\n",
       "          )\n",
       "          (output): RobertaOutput(\n",
       "            (dense): Linear(in_features=464, out_features=384, bias=True)\n",
       "            (LayerNorm): LayerNorm((384,), eps=1e-12, elementwise_affine=True)\n",
       "            (dropout): Dropout(p=0.144, inplace=False)\n",
       "          )\n",
       "        )\n",
       "      )\n",
       "    )\n",
       "  )\n",
       "  (lm_head): RobertaLMHead(\n",
       "    (dense): Linear(in_features=384, out_features=384, bias=True)\n",
       "    (layer_norm): LayerNorm((384,), eps=1e-12, elementwise_affine=True)\n",
       "    (decoder): Linear(in_features=384, out_features=600, bias=True)\n",
       "  )\n",
       ")"
      ]
     },
     "execution_count": 2,
     "metadata": {},
     "output_type": "execute_result"
    }
   ],
   "source": [
    "chemberta.eval()"
   ]
  },
  {
   "cell_type": "code",
   "execution_count": 3,
   "id": "0c980b49-e342-4822-b962-d5799d8e1819",
   "metadata": {},
   "outputs": [],
   "source": [
    "def featurize_ChemBERTa(smiles_list, padding=True):\n",
    "    embeddings_cls = torch.zeros(len(smiles_list), 600)\n",
    "    embeddings_mean = torch.zeros(len(smiles_list), 600)\n",
    "\n",
    "    with torch.no_grad():\n",
    "        for i, smiles in enumerate(tqdm(smiles_list)):\n",
    "            encoded_input = tokenizer(smiles, return_tensors=\"pt\", padding=padding, truncation=True)\n",
    "            model_output = chemberta(**encoded_input)\n",
    "            \n",
    "            embedding = model_output[0][::,0,::]\n",
    "            embeddings_cls[i] = embedding\n",
    "            \n",
    "            embedding = torch.mean(model_output[0],1)\n",
    "            embeddings_mean[i] = embedding\n",
    "            \n",
    "    return embeddings_cls, embeddings_mean"
   ]
  },
  {
   "cell_type": "code",
   "execution_count": 4,
   "id": "d3c06288-f80d-4291-8adb-0891e2df5d7c",
   "metadata": {},
   "outputs": [],
   "source": [
    "df_de_train = pd.read_parquet('../../data/de_train.parquet')"
   ]
  },
  {
   "cell_type": "code",
   "execution_count": 5,
   "id": "84640064-e277-4581-bd89-355f86627dde",
   "metadata": {},
   "outputs": [],
   "source": [
    "df_compound = df_de_train[['sm_name', 'SMILES']].drop_duplicates()"
   ]
  },
  {
   "cell_type": "code",
   "execution_count": 6,
   "id": "2c92cd8b-e5e3-4f4b-a527-a79a15236837",
   "metadata": {},
   "outputs": [
    {
     "data": {
      "text/html": [
       "<div>\n",
       "<style scoped>\n",
       "    .dataframe tbody tr th:only-of-type {\n",
       "        vertical-align: middle;\n",
       "    }\n",
       "\n",
       "    .dataframe tbody tr th {\n",
       "        vertical-align: top;\n",
       "    }\n",
       "\n",
       "    .dataframe thead th {\n",
       "        text-align: right;\n",
       "    }\n",
       "</style>\n",
       "<table border=\"1\" class=\"dataframe\">\n",
       "  <thead>\n",
       "    <tr style=\"text-align: right;\">\n",
       "      <th></th>\n",
       "      <th>sm_name</th>\n",
       "      <th>SMILES</th>\n",
       "    </tr>\n",
       "  </thead>\n",
       "  <tbody>\n",
       "    <tr>\n",
       "      <th>0</th>\n",
       "      <td>Clotrimazole</td>\n",
       "      <td>Clc1ccccc1C(c1ccccc1)(c1ccccc1)n1ccnc1</td>\n",
       "    </tr>\n",
       "    <tr>\n",
       "      <th>4</th>\n",
       "      <td>Mometasone Furoate</td>\n",
       "      <td>C[C@@H]1C[C@H]2[C@@H]3CCC4=CC(=O)C=C[C@]4(C)[C...</td>\n",
       "    </tr>\n",
       "    <tr>\n",
       "      <th>8</th>\n",
       "      <td>Idelalisib</td>\n",
       "      <td>CC[C@H](Nc1ncnc2[nH]cnc12)c1nc2cccc(F)c2c(=O)n...</td>\n",
       "    </tr>\n",
       "    <tr>\n",
       "      <th>14</th>\n",
       "      <td>Vandetanib</td>\n",
       "      <td>COc1cc2c(Nc3ccc(Br)cc3F)ncnc2cc1OCC1CCN(C)CC1</td>\n",
       "    </tr>\n",
       "    <tr>\n",
       "      <th>18</th>\n",
       "      <td>Bosutinib</td>\n",
       "      <td>COc1cc(Nc2c(C#N)cnc3cc(OCCCN4CCN(C)CC4)c(OC)cc...</td>\n",
       "    </tr>\n",
       "    <tr>\n",
       "      <th>...</th>\n",
       "      <td>...</td>\n",
       "      <td>...</td>\n",
       "    </tr>\n",
       "    <tr>\n",
       "      <th>594</th>\n",
       "      <td>CGM-097</td>\n",
       "      <td>COc1cc2c(cc1OC(C)C)[C@H](c1ccc(Cl)cc1)N(c1ccc(...</td>\n",
       "    </tr>\n",
       "    <tr>\n",
       "      <th>598</th>\n",
       "      <td>TGX 221</td>\n",
       "      <td>Cc1cc(C(C)Nc2ccccc2)c2nc(N3CCOCC3)cc(=O)n2c1</td>\n",
       "    </tr>\n",
       "    <tr>\n",
       "      <th>602</th>\n",
       "      <td>Azacitidine</td>\n",
       "      <td>Nc1ncn([C@@H]2O[C@H](CO)[C@@H](O)[C@H]2O)c(=O)n1</td>\n",
       "    </tr>\n",
       "    <tr>\n",
       "      <th>606</th>\n",
       "      <td>Atorvastatin</td>\n",
       "      <td>CC(C)c1c(C(=O)Nc2ccccc2)c(-c2ccccc2)c(-c2ccc(F...</td>\n",
       "    </tr>\n",
       "    <tr>\n",
       "      <th>610</th>\n",
       "      <td>Riociguat</td>\n",
       "      <td>COC(=O)N(C)c1c(N)nc(-c2nn(Cc3ccccc3F)c3ncccc23...</td>\n",
       "    </tr>\n",
       "  </tbody>\n",
       "</table>\n",
       "<p>146 rows × 2 columns</p>\n",
       "</div>"
      ],
      "text/plain": [
       "                sm_name                                             SMILES\n",
       "0          Clotrimazole             Clc1ccccc1C(c1ccccc1)(c1ccccc1)n1ccnc1\n",
       "4    Mometasone Furoate  C[C@@H]1C[C@H]2[C@@H]3CCC4=CC(=O)C=C[C@]4(C)[C...\n",
       "8            Idelalisib  CC[C@H](Nc1ncnc2[nH]cnc12)c1nc2cccc(F)c2c(=O)n...\n",
       "14           Vandetanib      COc1cc2c(Nc3ccc(Br)cc3F)ncnc2cc1OCC1CCN(C)CC1\n",
       "18            Bosutinib  COc1cc(Nc2c(C#N)cnc3cc(OCCCN4CCN(C)CC4)c(OC)cc...\n",
       "..                  ...                                                ...\n",
       "594             CGM-097  COc1cc2c(cc1OC(C)C)[C@H](c1ccc(Cl)cc1)N(c1ccc(...\n",
       "598             TGX 221       Cc1cc(C(C)Nc2ccccc2)c2nc(N3CCOCC3)cc(=O)n2c1\n",
       "602         Azacitidine   Nc1ncn([C@@H]2O[C@H](CO)[C@@H](O)[C@H]2O)c(=O)n1\n",
       "606        Atorvastatin  CC(C)c1c(C(=O)Nc2ccccc2)c(-c2ccccc2)c(-c2ccc(F...\n",
       "610           Riociguat  COC(=O)N(C)c1c(N)nc(-c2nn(Cc3ccccc3F)c3ncccc23...\n",
       "\n",
       "[146 rows x 2 columns]"
      ]
     },
     "execution_count": 6,
     "metadata": {},
     "output_type": "execute_result"
    }
   ],
   "source": [
    "df_compound"
   ]
  },
  {
   "cell_type": "code",
   "execution_count": 7,
   "id": "9b4cce1d-333c-4522-8698-9298656d0b6d",
   "metadata": {},
   "outputs": [
    {
     "name": "stderr",
     "output_type": "stream",
     "text": [
      "100%|██████████| 146/146 [00:01<00:00, 131.12it/s]\n"
     ]
    }
   ],
   "source": [
    "embeddings_cls, embeddings_mean = featurize_ChemBERTa(df_compound.SMILES)"
   ]
  },
  {
   "cell_type": "code",
   "execution_count": 9,
   "id": "f1766755-7cbc-4c95-b302-83f30cfead65",
   "metadata": {},
   "outputs": [],
   "source": [
    "from sklearn.decomposition import PCA\n",
    "pca = PCA(n_components=30)"
   ]
  },
  {
   "cell_type": "code",
   "execution_count": 10,
   "id": "47841f9a-9f1b-4c63-a796-ddec5feea282",
   "metadata": {},
   "outputs": [],
   "source": [
    "#embeddings_mean_pca = pca.fit_transform(embeddings_mean)\n",
    "embeddings_cls_pca = pca.fit_transform(embeddings_cls)"
   ]
  },
  {
   "cell_type": "code",
   "execution_count": 15,
   "id": "8afc1e58-53d8-4b4a-b3a4-3f72cf85a197",
   "metadata": {},
   "outputs": [
    {
     "data": {
      "text/plain": [
       "-38.847092346052285"
      ]
     },
     "execution_count": 15,
     "metadata": {},
     "output_type": "execute_result"
    }
   ],
   "source": [
    "np.min(embeddings_cls_pca)"
   ]
  },
  {
   "cell_type": "code",
   "execution_count": 11,
   "id": "d2855a33-08da-443f-ad52-2c7bdd69a1b2",
   "metadata": {},
   "outputs": [
    {
     "data": {
      "text/plain": [
       "array([0.20380415, 0.13063523, 0.10383128, 0.07577443, 0.0698151 ,\n",
       "       0.04789969, 0.04472284, 0.03580502, 0.03019933, 0.02757263,\n",
       "       0.02527578, 0.02192862, 0.0188756 , 0.01672523, 0.01524296,\n",
       "       0.01388122, 0.01352752, 0.01095414, 0.01029098, 0.00887522,\n",
       "       0.00821924, 0.00748386, 0.00642706, 0.00635805, 0.00560553,\n",
       "       0.0047648 , 0.00373004, 0.0027281 , 0.0021796 , 0.00186453])"
      ]
     },
     "execution_count": 11,
     "metadata": {},
     "output_type": "execute_result"
    }
   ],
   "source": [
    "pca.explained_variance_ratio_"
   ]
  },
  {
   "cell_type": "code",
   "execution_count": 16,
   "id": "d94baf42-1e7a-46b5-9d65-1e64b0727264",
   "metadata": {},
   "outputs": [],
   "source": [
    "df_embedding = pd.DataFrame(embeddings_cls_pca, columns=['ChemBERTa_' + str(i) for i in range(30)])\n",
    "df_embedding['sm_name'] = df_compound['sm_name'].values\n",
    "df_embedding['SMILES'] = df_compound['SMILES'].values"
   ]
  },
  {
   "cell_type": "code",
   "execution_count": 18,
   "id": "ce7d653e-a68a-45e6-823f-6d16f3bf4549",
   "metadata": {},
   "outputs": [
    {
     "data": {
      "text/html": [
       "<div>\n",
       "<style scoped>\n",
       "    .dataframe tbody tr th:only-of-type {\n",
       "        vertical-align: middle;\n",
       "    }\n",
       "\n",
       "    .dataframe tbody tr th {\n",
       "        vertical-align: top;\n",
       "    }\n",
       "\n",
       "    .dataframe thead th {\n",
       "        text-align: right;\n",
       "    }\n",
       "</style>\n",
       "<table border=\"1\" class=\"dataframe\">\n",
       "  <thead>\n",
       "    <tr style=\"text-align: right;\">\n",
       "      <th></th>\n",
       "      <th>ChemBERTa_0</th>\n",
       "      <th>ChemBERTa_1</th>\n",
       "      <th>ChemBERTa_2</th>\n",
       "      <th>ChemBERTa_3</th>\n",
       "      <th>ChemBERTa_4</th>\n",
       "      <th>ChemBERTa_5</th>\n",
       "      <th>ChemBERTa_6</th>\n",
       "      <th>ChemBERTa_7</th>\n",
       "      <th>ChemBERTa_8</th>\n",
       "      <th>ChemBERTa_9</th>\n",
       "      <th>...</th>\n",
       "      <th>ChemBERTa_22</th>\n",
       "      <th>ChemBERTa_23</th>\n",
       "      <th>ChemBERTa_24</th>\n",
       "      <th>ChemBERTa_25</th>\n",
       "      <th>ChemBERTa_26</th>\n",
       "      <th>ChemBERTa_27</th>\n",
       "      <th>ChemBERTa_28</th>\n",
       "      <th>ChemBERTa_29</th>\n",
       "      <th>sm_name</th>\n",
       "      <th>SMILES</th>\n",
       "    </tr>\n",
       "  </thead>\n",
       "  <tbody>\n",
       "    <tr>\n",
       "      <th>0</th>\n",
       "      <td>-26.396606</td>\n",
       "      <td>3.781904</td>\n",
       "      <td>-3.794836</td>\n",
       "      <td>6.126082</td>\n",
       "      <td>7.789183</td>\n",
       "      <td>-2.642302</td>\n",
       "      <td>10.613822</td>\n",
       "      <td>-3.259075</td>\n",
       "      <td>-10.484459</td>\n",
       "      <td>-3.221471</td>\n",
       "      <td>...</td>\n",
       "      <td>-0.271095</td>\n",
       "      <td>-3.102530</td>\n",
       "      <td>1.199491</td>\n",
       "      <td>2.185620</td>\n",
       "      <td>-3.034105</td>\n",
       "      <td>-2.273264</td>\n",
       "      <td>3.353531</td>\n",
       "      <td>-0.673744</td>\n",
       "      <td>Clotrimazole</td>\n",
       "      <td>Clc1ccccc1C(c1ccccc1)(c1ccccc1)n1ccnc1</td>\n",
       "    </tr>\n",
       "    <tr>\n",
       "      <th>1</th>\n",
       "      <td>-6.902428</td>\n",
       "      <td>-9.161135</td>\n",
       "      <td>12.374636</td>\n",
       "      <td>27.731103</td>\n",
       "      <td>-8.398232</td>\n",
       "      <td>-4.694759</td>\n",
       "      <td>-5.085621</td>\n",
       "      <td>4.224731</td>\n",
       "      <td>4.276329</td>\n",
       "      <td>-2.101512</td>\n",
       "      <td>...</td>\n",
       "      <td>1.393597</td>\n",
       "      <td>-1.126589</td>\n",
       "      <td>-2.625752</td>\n",
       "      <td>1.995746</td>\n",
       "      <td>-1.403212</td>\n",
       "      <td>-0.577265</td>\n",
       "      <td>0.667796</td>\n",
       "      <td>0.669735</td>\n",
       "      <td>Mometasone Furoate</td>\n",
       "      <td>C[C@@H]1C[C@H]2[C@@H]3CCC4=CC(=O)C=C[C@]4(C)[C...</td>\n",
       "    </tr>\n",
       "    <tr>\n",
       "      <th>2</th>\n",
       "      <td>8.838518</td>\n",
       "      <td>20.196775</td>\n",
       "      <td>7.326188</td>\n",
       "      <td>-9.842280</td>\n",
       "      <td>-8.597044</td>\n",
       "      <td>-0.021851</td>\n",
       "      <td>0.049294</td>\n",
       "      <td>-7.721121</td>\n",
       "      <td>-2.173719</td>\n",
       "      <td>7.198613</td>\n",
       "      <td>...</td>\n",
       "      <td>5.043533</td>\n",
       "      <td>-0.283188</td>\n",
       "      <td>-5.525115</td>\n",
       "      <td>-1.512054</td>\n",
       "      <td>-2.703574</td>\n",
       "      <td>-1.499841</td>\n",
       "      <td>0.505216</td>\n",
       "      <td>-1.369162</td>\n",
       "      <td>Idelalisib</td>\n",
       "      <td>CC[C@H](Nc1ncnc2[nH]cnc12)c1nc2cccc(F)c2c(=O)n...</td>\n",
       "    </tr>\n",
       "    <tr>\n",
       "      <th>3</th>\n",
       "      <td>29.596586</td>\n",
       "      <td>6.497838</td>\n",
       "      <td>-17.425090</td>\n",
       "      <td>2.930788</td>\n",
       "      <td>0.901803</td>\n",
       "      <td>-11.208278</td>\n",
       "      <td>-4.566928</td>\n",
       "      <td>-2.712417</td>\n",
       "      <td>-5.935264</td>\n",
       "      <td>6.486342</td>\n",
       "      <td>...</td>\n",
       "      <td>-3.307351</td>\n",
       "      <td>-0.593157</td>\n",
       "      <td>-0.146563</td>\n",
       "      <td>0.990611</td>\n",
       "      <td>-1.132671</td>\n",
       "      <td>2.459634</td>\n",
       "      <td>-2.917565</td>\n",
       "      <td>-0.133048</td>\n",
       "      <td>Vandetanib</td>\n",
       "      <td>COc1cc2c(Nc3ccc(Br)cc3F)ncnc2cc1OCC1CCN(C)CC1</td>\n",
       "    </tr>\n",
       "    <tr>\n",
       "      <th>4</th>\n",
       "      <td>19.027305</td>\n",
       "      <td>-11.693061</td>\n",
       "      <td>-11.386534</td>\n",
       "      <td>6.413034</td>\n",
       "      <td>2.012917</td>\n",
       "      <td>-7.814810</td>\n",
       "      <td>-4.369872</td>\n",
       "      <td>5.563375</td>\n",
       "      <td>-2.905856</td>\n",
       "      <td>-1.874374</td>\n",
       "      <td>...</td>\n",
       "      <td>-5.306634</td>\n",
       "      <td>2.424226</td>\n",
       "      <td>1.610544</td>\n",
       "      <td>3.149763</td>\n",
       "      <td>0.823814</td>\n",
       "      <td>1.275901</td>\n",
       "      <td>0.472547</td>\n",
       "      <td>-0.708633</td>\n",
       "      <td>Bosutinib</td>\n",
       "      <td>COc1cc(Nc2c(C#N)cnc3cc(OCCCN4CCN(C)CC4)c(OC)cc...</td>\n",
       "    </tr>\n",
       "  </tbody>\n",
       "</table>\n",
       "<p>5 rows × 32 columns</p>\n",
       "</div>"
      ],
      "text/plain": [
       "   ChemBERTa_0  ChemBERTa_1  ChemBERTa_2  ChemBERTa_3  ChemBERTa_4  \\\n",
       "0   -26.396606     3.781904    -3.794836     6.126082     7.789183   \n",
       "1    -6.902428    -9.161135    12.374636    27.731103    -8.398232   \n",
       "2     8.838518    20.196775     7.326188    -9.842280    -8.597044   \n",
       "3    29.596586     6.497838   -17.425090     2.930788     0.901803   \n",
       "4    19.027305   -11.693061   -11.386534     6.413034     2.012917   \n",
       "\n",
       "   ChemBERTa_5  ChemBERTa_6  ChemBERTa_7  ChemBERTa_8  ChemBERTa_9  ...  \\\n",
       "0    -2.642302    10.613822    -3.259075   -10.484459    -3.221471  ...   \n",
       "1    -4.694759    -5.085621     4.224731     4.276329    -2.101512  ...   \n",
       "2    -0.021851     0.049294    -7.721121    -2.173719     7.198613  ...   \n",
       "3   -11.208278    -4.566928    -2.712417    -5.935264     6.486342  ...   \n",
       "4    -7.814810    -4.369872     5.563375    -2.905856    -1.874374  ...   \n",
       "\n",
       "   ChemBERTa_22  ChemBERTa_23  ChemBERTa_24  ChemBERTa_25  ChemBERTa_26  \\\n",
       "0     -0.271095     -3.102530      1.199491      2.185620     -3.034105   \n",
       "1      1.393597     -1.126589     -2.625752      1.995746     -1.403212   \n",
       "2      5.043533     -0.283188     -5.525115     -1.512054     -2.703574   \n",
       "3     -3.307351     -0.593157     -0.146563      0.990611     -1.132671   \n",
       "4     -5.306634      2.424226      1.610544      3.149763      0.823814   \n",
       "\n",
       "   ChemBERTa_27  ChemBERTa_28  ChemBERTa_29             sm_name  \\\n",
       "0     -2.273264      3.353531     -0.673744        Clotrimazole   \n",
       "1     -0.577265      0.667796      0.669735  Mometasone Furoate   \n",
       "2     -1.499841      0.505216     -1.369162          Idelalisib   \n",
       "3      2.459634     -2.917565     -0.133048          Vandetanib   \n",
       "4      1.275901      0.472547     -0.708633           Bosutinib   \n",
       "\n",
       "                                              SMILES  \n",
       "0             Clc1ccccc1C(c1ccccc1)(c1ccccc1)n1ccnc1  \n",
       "1  C[C@@H]1C[C@H]2[C@@H]3CCC4=CC(=O)C=C[C@]4(C)[C...  \n",
       "2  CC[C@H](Nc1ncnc2[nH]cnc12)c1nc2cccc(F)c2c(=O)n...  \n",
       "3      COc1cc2c(Nc3ccc(Br)cc3F)ncnc2cc1OCC1CCN(C)CC1  \n",
       "4  COc1cc(Nc2c(C#N)cnc3cc(OCCCN4CCN(C)CC4)c(OC)cc...  \n",
       "\n",
       "[5 rows x 32 columns]"
      ]
     },
     "execution_count": 18,
     "metadata": {},
     "output_type": "execute_result"
    }
   ],
   "source": [
    "df_embedding.head()"
   ]
  },
  {
   "cell_type": "code",
   "execution_count": 19,
   "id": "9ac0b229-6139-4156-a9a2-4e799e06b052",
   "metadata": {},
   "outputs": [
    {
     "name": "stderr",
     "output_type": "stream",
     "text": [
      "/data/pinello/SHARED_SOFTWARE/anaconda_latest/envs/zl_scp/lib/python3.10/site-packages/seaborn/_oldcore.py:1498: FutureWarning: is_categorical_dtype is deprecated and will be removed in a future version. Use isinstance(dtype, CategoricalDtype) instead\n",
      "  if pd.api.types.is_categorical_dtype(vector):\n",
      "/data/pinello/SHARED_SOFTWARE/anaconda_latest/envs/zl_scp/lib/python3.10/site-packages/seaborn/_oldcore.py:1498: FutureWarning: is_categorical_dtype is deprecated and will be removed in a future version. Use isinstance(dtype, CategoricalDtype) instead\n",
      "  if pd.api.types.is_categorical_dtype(vector):\n"
     ]
    },
    {
     "data": {
      "text/plain": [
       "<Axes: xlabel='ChemBERTa_0', ylabel='ChemBERTa_1'>"
      ]
     },
     "execution_count": 19,
     "metadata": {},
     "output_type": "execute_result"
    },
    {
     "data": {
      "image/png": "[encoded data removed]",
      "text/plain": [
       "<Figure size 640x480 with 1 Axes>"
      ]
     },
     "metadata": {},
     "output_type": "display_data"
    }
   ],
   "source": [
    "sns.scatterplot(df_embedding, x='ChemBERTa_0', y='ChemBERTa_1')"
   ]
  },
  {
   "cell_type": "code",
   "execution_count": 20,
   "id": "8168aa1c-f724-474b-8e6b-1bc5bccef750",
   "metadata": {},
   "outputs": [],
   "source": [
    "df_embedding.to_csv('../../results/ChemBERTa-77M-MTR/df_embedding.csv')"
   ]
  },
  {
   "cell_type": "code",
   "execution_count": null,
   "id": "a25873bc-06f6-4045-a5ab-07687113f8db",
   "metadata": {},
   "outputs": [],
   "source": []
  }
 ],
 "metadata": {
  "kernelspec": {
   "display_name": "Python [conda env:zl_scp]",
   "language": "python",
   "name": "conda-env-zl_scp-py"
  },
  "language_info": {
   "codemirror_mode": {
    "name": "ipython",
    "version": 3
   },
   "file_extension": ".py",
   "mimetype": "text/x-python",
   "name": "python",
   "nbconvert_exporter": "python",
   "pygments_lexer": "ipython3",
   "version": "3.10.12"
  }
 },
 "nbformat": 4,
 "nbformat_minor": 5
}
