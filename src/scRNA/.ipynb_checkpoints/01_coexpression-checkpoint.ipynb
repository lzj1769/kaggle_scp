{
 "cells": [
  {
   "cell_type": "code",
   "execution_count": 1,
   "id": "123b9df1-92c0-4270-9425-0121edff1c8d",
   "metadata": {},
   "outputs": [],
   "source": [
    "import os\n",
    "import pandas as pd\n",
    "\n",
    "import numpy as np\n",
    "import scanpy as sc\n",
    "import mudata as md\n",
    "import anndata as ad\n",
    "\n",
    "import warnings\n",
    "warnings.filterwarnings('ignore')\n",
    "from scipy import sparse"
   ]
  },
  {
   "cell_type": "code",
   "execution_count": 2,
   "id": "d4eae044-8633-4c70-b803-c2dcc2ab73ec",
   "metadata": {},
   "outputs": [],
   "source": [
    "mdata = md.read_h5mu('../../results/preprocessing_data/multiome_train.h5mu')"
   ]
  },
  {
   "cell_type": "code",
   "execution_count": 3,
   "id": "24253a56-ee04-4f25-9d77-34d1b0498694",
   "metadata": {},
   "outputs": [
    {
     "data": {
      "text/html": [
       "<pre>MuData object with n_obs × n_vars = 25551 × 158205\n",
       "  var:\t&#x27;gene_id&#x27;, &#x27;feature_type&#x27;, &#x27;genome&#x27;, &#x27;interval&#x27;\n",
       "  2 modalities\n",
       "    rna:\t25551 x 22787\n",
       "      obs:\t&#x27;cell_type&#x27;, &#x27;donor_id&#x27;\n",
       "      var:\t&#x27;gene_id&#x27;, &#x27;feature_type&#x27;, &#x27;genome&#x27;, &#x27;interval&#x27;\n",
       "      layers:\t&#x27;counts&#x27;, &#x27;normalized_count&#x27;\n",
       "    atac:\t25551 x 135418\n",
       "      obs:\t&#x27;cell_type&#x27;, &#x27;donor_id&#x27;\n",
       "      var:\t&#x27;gene_id&#x27;, &#x27;feature_type&#x27;, &#x27;genome&#x27;, &#x27;interval&#x27;\n",
       "      layers:\t&#x27;counts&#x27;, &#x27;normalized_count&#x27;</pre>"
      ],
      "text/plain": [
       "MuData object with n_obs × n_vars = 25551 × 158205\n",
       "  var:\t'gene_id', 'feature_type', 'genome', 'interval'\n",
       "  2 modalities\n",
       "    rna:\t25551 x 22787\n",
       "      obs:\t'cell_type', 'donor_id'\n",
       "      var:\t'gene_id', 'feature_type', 'genome', 'interval'\n",
       "      layers:\t'counts', 'normalized_count'\n",
       "    atac:\t25551 x 135418\n",
       "      obs:\t'cell_type', 'donor_id'\n",
       "      var:\t'gene_id', 'feature_type', 'genome', 'interval'\n",
       "      layers:\t'counts', 'normalized_count'"
      ]
     },
     "execution_count": 3,
     "metadata": {},
     "output_type": "execute_result"
    }
   ],
   "source": [
    "mdata"
   ]
  },
  {
   "cell_type": "code",
   "execution_count": 4,
   "id": "1db58328-2d97-4956-90c8-67f6b745bb66",
   "metadata": {},
   "outputs": [],
   "source": [
    "adata = mdata['rna']"
   ]
  },
  {
   "cell_type": "code",
   "execution_count": 5,
   "id": "72b068c3-4c4e-4d7e-87c7-29a19b57ceed",
   "metadata": {},
   "outputs": [
    {
     "data": {
      "text/html": [
       "<div>\n",
       "<style scoped>\n",
       "    .dataframe tbody tr th:only-of-type {\n",
       "        vertical-align: middle;\n",
       "    }\n",
       "\n",
       "    .dataframe tbody tr th {\n",
       "        vertical-align: top;\n",
       "    }\n",
       "\n",
       "    .dataframe thead th {\n",
       "        text-align: right;\n",
       "    }\n",
       "</style>\n",
       "<table border=\"1\" class=\"dataframe\">\n",
       "  <thead>\n",
       "    <tr style=\"text-align: right;\">\n",
       "      <th></th>\n",
       "      <th>cell_type</th>\n",
       "      <th>donor_id</th>\n",
       "    </tr>\n",
       "    <tr>\n",
       "      <th>obs_id</th>\n",
       "      <th></th>\n",
       "      <th></th>\n",
       "    </tr>\n",
       "  </thead>\n",
       "  <tbody>\n",
       "    <tr>\n",
       "      <th>000225c1151ab841</th>\n",
       "      <td>B cells</td>\n",
       "      <td>donor_0</td>\n",
       "    </tr>\n",
       "    <tr>\n",
       "      <th>0003c40a54367871</th>\n",
       "      <td>T cells CD4+</td>\n",
       "      <td>donor_2</td>\n",
       "    </tr>\n",
       "    <tr>\n",
       "      <th>0004bf574b822c3c</th>\n",
       "      <td>T cells CD4+</td>\n",
       "      <td>donor_2</td>\n",
       "    </tr>\n",
       "    <tr>\n",
       "      <th>000d59b5478f28e2</th>\n",
       "      <td>B cells</td>\n",
       "      <td>donor_0</td>\n",
       "    </tr>\n",
       "    <tr>\n",
       "      <th>0011b7473923d7b5</th>\n",
       "      <td>NK cells</td>\n",
       "      <td>donor_2</td>\n",
       "    </tr>\n",
       "    <tr>\n",
       "      <th>...</th>\n",
       "      <td>...</td>\n",
       "      <td>...</td>\n",
       "    </tr>\n",
       "    <tr>\n",
       "      <th>fff2ca1f64c10339</th>\n",
       "      <td>T cells CD4+</td>\n",
       "      <td>donor_0</td>\n",
       "    </tr>\n",
       "    <tr>\n",
       "      <th>fff87e64f509b570</th>\n",
       "      <td>T cells CD4+</td>\n",
       "      <td>donor_0</td>\n",
       "    </tr>\n",
       "    <tr>\n",
       "      <th>fff9778b31bc2539</th>\n",
       "      <td>Myeloid cells</td>\n",
       "      <td>donor_2</td>\n",
       "    </tr>\n",
       "    <tr>\n",
       "      <th>fffa92f71d2440de</th>\n",
       "      <td>NK cells</td>\n",
       "      <td>donor_1</td>\n",
       "    </tr>\n",
       "    <tr>\n",
       "      <th>ffffeba9dbf2bab1</th>\n",
       "      <td>T cells CD4+</td>\n",
       "      <td>donor_1</td>\n",
       "    </tr>\n",
       "  </tbody>\n",
       "</table>\n",
       "<p>25551 rows × 2 columns</p>\n",
       "</div>"
      ],
      "text/plain": [
       "                      cell_type donor_id\n",
       "obs_id                                  \n",
       "000225c1151ab841        B cells  donor_0\n",
       "0003c40a54367871   T cells CD4+  donor_2\n",
       "0004bf574b822c3c   T cells CD4+  donor_2\n",
       "000d59b5478f28e2        B cells  donor_0\n",
       "0011b7473923d7b5       NK cells  donor_2\n",
       "...                         ...      ...\n",
       "fff2ca1f64c10339   T cells CD4+  donor_0\n",
       "fff87e64f509b570   T cells CD4+  donor_0\n",
       "fff9778b31bc2539  Myeloid cells  donor_2\n",
       "fffa92f71d2440de       NK cells  donor_1\n",
       "ffffeba9dbf2bab1   T cells CD4+  donor_1\n",
       "\n",
       "[25551 rows x 2 columns]"
      ]
     },
     "execution_count": 5,
     "metadata": {},
     "output_type": "execute_result"
    }
   ],
   "source": [
    "adata.obs"
   ]
  },
  {
   "cell_type": "code",
   "execution_count": 6,
   "id": "1e3e4559-555d-4a3b-9686-32ffedae8ed4",
   "metadata": {},
   "outputs": [],
   "source": [
    "def sum_by(adata: ad.AnnData, col: str) -> ad.AnnData:\n",
    "    \"\"\"\n",
    "    Adapted from this forum post: \n",
    "    https://discourse.scverse.org/t/group-sum-rows-based-on-jobs-feature/371/4\n",
    "    \"\"\"\n",
    "    \n",
    "    assert pd.api.types.is_categorical_dtype(adata.obs[col])\n",
    "\n",
    "    # sum `.X` entries for each unique value in `col`\n",
    "    cat = adata.obs[col].values\n",
    "    indicator = sparse.coo_matrix(\n",
    "        (\n",
    "            np.broadcast_to(True, adata.n_obs),\n",
    "            (cat.codes, np.arange(adata.n_obs))\n",
    "        ),\n",
    "        shape=(len(cat.categories), adata.n_obs),\n",
    "    )\n",
    "    sum_adata = ad.AnnData(\n",
    "        indicator @ adata.X,\n",
    "        var=adata.var,\n",
    "        obs=pd.DataFrame(index=cat.categories),\n",
    "        dtype=adata.X.dtype,\n",
    "    )\n",
    "    \n",
    "    # copy over `.obs` values that have a one-to-one-mapping with `.obs[col]`\n",
    "    obs_cols = adata.obs.columns\n",
    "    obs_cols = list(set(adata.obs.columns) - set([col]))\n",
    "    \n",
    "    one_to_one_mapped_obs_cols = []\n",
    "    nunique_in_col = adata.obs[col].nunique()\n",
    "    for other_col in obs_cols:\n",
    "        if len(adata.obs[[col, other_col]].drop_duplicates()) == nunique_in_col:\n",
    "            one_to_one_mapped_obs_cols.append(other_col)\n",
    "\n",
    "    joining_df = adata.obs[[col] + one_to_one_mapped_obs_cols].drop_duplicates().set_index(col)\n",
    "    assert (sum_adata.obs.index == sum_adata.obs.join(joining_df).index).all()\n",
    "    sum_adata.obs = sum_adata.obs.join(joining_df)\n",
    "    sum_adata.obs.index.name = col\n",
    "    sum_adata.obs = sum_adata.obs.reset_index()\n",
    "    sum_adata.obs.index = sum_adata.obs.index.astype('str')\n",
    "\n",
    "    return sum_adata"
   ]
  },
  {
   "cell_type": "code",
   "execution_count": 7,
   "id": "63134dc2-2ea8-4ff6-9453-1515df2c1563",
   "metadata": {},
   "outputs": [],
   "source": [
    "adata.obs['donor_id_cell_type'] = adata.obs['donor_id'].astype('str') + '_' + adata.obs['cell_type'].astype('str')\n",
    "adata.obs['donor_id_cell_type'] = adata.obs['donor_id_cell_type'].astype('category')\n",
    "\n",
    "bulk_adata = sum_by(adata, 'donor_id_cell_type')\n",
    "bulk_adata.obs = bulk_adata.obs.drop(columns=['donor_id_cell_type'])\n",
    "bulk_adata.X = np.array(bulk_adata.X.todense())\n",
    "bulk_adata.X = bulk_adata.X.astype('float64')\n",
    "bulk_adata = bulk_adata.copy()"
   ]
  },
  {
   "cell_type": "code",
   "execution_count": 18,
   "id": "855df767-6ace-4a93-accc-ecf47c986182",
   "metadata": {},
   "outputs": [],
   "source": [
    "sc.pp.normalize_total(bulk_adata)\n",
    "sc.pp.log1p(bulk_adata)"
   ]
  },
  {
   "cell_type": "code",
   "execution_count": 19,
   "id": "5bd6e70e-d925-4002-a073-50599bd020e6",
   "metadata": {},
   "outputs": [
    {
     "data": {
      "text/plain": [
       "AnnData object with n_obs × n_vars = 18 × 22787\n",
       "    obs: 'cell_type', 'donor_id'\n",
       "    var: 'gene_id', 'feature_type', 'genome', 'interval'\n",
       "    uns: 'log1p'"
      ]
     },
     "execution_count": 19,
     "metadata": {},
     "output_type": "execute_result"
    }
   ],
   "source": [
    "bulk_adata"
   ]
  },
  {
   "cell_type": "code",
   "execution_count": 20,
   "id": "ce772e1a-d02f-4de4-8ee3-6e0218d2464d",
   "metadata": {},
   "outputs": [
    {
     "data": {
      "text/plain": [
       "array([[4.37172094, 4.9164097 , 3.2178806 , ..., 5.30917139, 4.56286929,\n",
       "        5.83745702],\n",
       "       [4.45324852, 4.1591306 , 5.53101532, ..., 5.39315989, 6.25456548,\n",
       "        6.53215626],\n",
       "       [4.42667607, 4.8281485 , 6.72776423, ..., 4.90757553, 5.49631904,\n",
       "        6.23913446],\n",
       "       ...,\n",
       "       [4.36812201, 4.2575074 , 5.81590758, ..., 5.53796327, 5.2827902 ,\n",
       "        6.19482625],\n",
       "       [4.31898228, 3.92015183, 4.7560489 , ..., 4.88850477, 5.33207643,\n",
       "        6.06193119],\n",
       "       [4.6074159 , 4.6074159 , 4.10321997, ..., 5.47704739, 4.867475  ,\n",
       "        6.26699477]])"
      ]
     },
     "execution_count": 20,
     "metadata": {},
     "output_type": "execute_result"
    }
   ],
   "source": [
    "bulk_adata.X"
   ]
  },
  {
   "cell_type": "code",
   "execution_count": 23,
   "id": "b623feb2-ec79-474b-82c7-ba5824d23257",
   "metadata": {},
   "outputs": [],
   "source": [
    "co_exp = np.corrcoef(bulk_adata.X.transpose())"
   ]
  },
  {
   "cell_type": "code",
   "execution_count": 24,
   "id": "62f0d384-9863-4e47-b28f-07b8c30553b4",
   "metadata": {},
   "outputs": [
    {
     "data": {
      "text/plain": [
       "(22787, 22787)"
      ]
     },
     "execution_count": 24,
     "metadata": {},
     "output_type": "execute_result"
    }
   ],
   "source": [
    "co_exp.shape"
   ]
  },
  {
   "cell_type": "code",
   "execution_count": 26,
   "id": "3cb6661f-8c2e-4107-b103-40faa2d6a188",
   "metadata": {},
   "outputs": [
    {
     "data": {
      "text/plain": [
       "array([[ 1.        ,  0.3845928 , -0.27820491, -0.35130291, -0.33729904],\n",
       "       [ 0.3845928 ,  1.        , -0.05219028, -0.17901279, -0.24170707],\n",
       "       [-0.27820491, -0.05219028,  1.        ,  0.6811595 ,  0.36590315],\n",
       "       [-0.35130291, -0.17901279,  0.6811595 ,  1.        , -0.18578469],\n",
       "       [-0.33729904, -0.24170707,  0.36590315, -0.18578469,  1.        ]])"
      ]
     },
     "execution_count": 26,
     "metadata": {},
     "output_type": "execute_result"
    }
   ],
   "source": [
    "co_exp[:5, :5]"
   ]
  },
  {
   "cell_type": "code",
   "execution_count": 27,
   "id": "1d7946a6-c7aa-4a8c-a899-ed96a425768a",
   "metadata": {},
   "outputs": [],
   "source": [
    "# keep important edges\n",
    "co_exp[abs(co_exp) < 0.5] = 0"
   ]
  },
  {
   "cell_type": "code",
   "execution_count": 28,
   "id": "5eb3caf3-1122-45de-9a75-779dcf508da2",
   "metadata": {},
   "outputs": [
    {
     "data": {
      "text/plain": [
       "array([[1.       , 0.       , 0.       , 0.       , 0.       ],\n",
       "       [0.       , 1.       , 0.       , 0.       , 0.       ],\n",
       "       [0.       , 0.       , 1.       , 0.6811595, 0.       ],\n",
       "       [0.       , 0.       , 0.6811595, 1.       , 0.       ],\n",
       "       [0.       , 0.       , 0.       , 0.       , 1.       ]])"
      ]
     },
     "execution_count": 28,
     "metadata": {},
     "output_type": "execute_result"
    }
   ],
   "source": [
    "co_exp[:5, :5]"
   ]
  },
  {
   "cell_type": "code",
   "execution_count": 30,
   "id": "ea959e7e-f268-4a78-b47b-11b6e4a3284c",
   "metadata": {},
   "outputs": [
    {
     "data": {
      "text/plain": [
       "array([[ 1.        ,  0.        ,  0.        ,  0.        ,  0.        ,\n",
       "         0.        ,  0.        ,  0.        , -0.53041956,  0.        ,\n",
       "         0.        ,  0.        ,  0.        ,  0.51385217,  0.        ,\n",
       "         0.        ,  0.        , -0.67180718,  0.        ,  0.        ,\n",
       "         0.64900548,  0.        ,  0.        ,  0.        ,  0.        ,\n",
       "         0.        ,  0.        ,  0.        ,  0.        ,  0.        ],\n",
       "       [ 0.        ,  1.        ,  0.        ,  0.        ,  0.        ,\n",
       "         0.        ,  0.        ,  0.        ,  0.        ,  0.63614731,\n",
       "         0.        ,  0.        ,  0.        ,  0.50707365,  0.        ,\n",
       "         0.        ,  0.        , -0.51875425,  0.51936079,  0.        ,\n",
       "         0.        ,  0.        ,  0.        ,  0.        ,  0.        ,\n",
       "         0.        ,  0.        ,  0.        ,  0.        ,  0.        ],\n",
       "       [ 0.        ,  0.        ,  1.        ,  0.6811595 ,  0.        ,\n",
       "         0.        ,  0.61702018,  0.        ,  0.        ,  0.        ,\n",
       "         0.        ,  0.        ,  0.        ,  0.        ,  0.        ,\n",
       "         0.        ,  0.        ,  0.        ,  0.        ,  0.        ,\n",
       "         0.        ,  0.        ,  0.        ,  0.        ,  0.        ,\n",
       "         0.        ,  0.5019137 ,  0.59163611,  0.        ,  0.        ],\n",
       "       [ 0.        ,  0.        ,  0.6811595 ,  1.        ,  0.        ,\n",
       "         0.        ,  0.        ,  0.        ,  0.        ,  0.        ,\n",
       "         0.        ,  0.        ,  0.        ,  0.        ,  0.        ,\n",
       "         0.        ,  0.        ,  0.        ,  0.        ,  0.        ,\n",
       "         0.        ,  0.        ,  0.        ,  0.        ,  0.        ,\n",
       "         0.        ,  0.        ,  0.58202203,  0.60570478,  0.        ],\n",
       "       [ 0.        ,  0.        ,  0.        ,  0.        ,  1.        ,\n",
       "         0.        ,  0.54404553,  0.55861002,  0.        ,  0.        ,\n",
       "         0.        , -0.60232154,  0.        ,  0.        ,  0.        ,\n",
       "         0.        ,  0.        ,  0.        ,  0.        , -0.56325706,\n",
       "         0.        ,  0.        ,  0.        , -0.53533143,  0.76979031,\n",
       "         0.        ,  0.        ,  0.        ,  0.        ,  0.59329282],\n",
       "       [ 0.        ,  0.        ,  0.        ,  0.        ,  0.        ,\n",
       "         1.        ,  0.        ,  0.        ,  0.        ,  0.57418505,\n",
       "         0.        ,  0.        ,  0.        ,  0.        ,  0.        ,\n",
       "         0.        ,  0.        ,  0.        ,  0.        ,  0.        ,\n",
       "         0.        ,  0.        ,  0.        ,  0.        ,  0.        ,\n",
       "         0.        ,  0.        ,  0.        ,  0.        ,  0.        ],\n",
       "       [ 0.        ,  0.        ,  0.61702018,  0.        ,  0.54404553,\n",
       "         0.        ,  1.        ,  0.56215722,  0.        ,  0.        ,\n",
       "         0.        ,  0.        ,  0.        ,  0.        ,  0.        ,\n",
       "         0.        ,  0.        ,  0.        ,  0.        , -0.68032275,\n",
       "         0.        ,  0.        ,  0.        ,  0.        ,  0.69832801,\n",
       "         0.        ,  0.68760897,  0.55049444,  0.        ,  0.61954932],\n",
       "       [ 0.        ,  0.        ,  0.        ,  0.        ,  0.55861002,\n",
       "         0.        ,  0.56215722,  1.        ,  0.        ,  0.        ,\n",
       "         0.        , -0.52379395,  0.        ,  0.        ,  0.        ,\n",
       "         0.        ,  0.        ,  0.        ,  0.        , -0.64403999,\n",
       "         0.        ,  0.        ,  0.        ,  0.        ,  0.62128874,\n",
       "         0.        ,  0.62339656,  0.        ,  0.        ,  0.61508033],\n",
       "       [-0.53041956,  0.        ,  0.        ,  0.        ,  0.        ,\n",
       "         0.        ,  0.        ,  0.        ,  1.        ,  0.        ,\n",
       "         0.        ,  0.        ,  0.        , -0.53100929,  0.        ,\n",
       "         0.        ,  0.        ,  0.        ,  0.        ,  0.        ,\n",
       "         0.        ,  0.        ,  0.        ,  0.        ,  0.        ,\n",
       "         0.        ,  0.        ,  0.        ,  0.        ,  0.        ],\n",
       "       [ 0.        ,  0.63614731,  0.        ,  0.        ,  0.        ,\n",
       "         0.57418505,  0.        ,  0.        ,  0.        ,  1.        ,\n",
       "         0.        ,  0.        ,  0.        ,  0.        , -0.5015655 ,\n",
       "         0.        ,  0.76769334,  0.        ,  0.        ,  0.        ,\n",
       "         0.        ,  0.        ,  0.        ,  0.        ,  0.        ,\n",
       "         0.        ,  0.        ,  0.        ,  0.        ,  0.        ],\n",
       "       [ 0.        ,  0.        ,  0.        ,  0.        ,  0.        ,\n",
       "         0.        ,  0.        ,  0.        ,  0.        ,  0.        ,\n",
       "         1.        ,  0.        ,  0.        ,  0.        ,  0.        ,\n",
       "         0.6575407 ,  0.        ,  0.        ,  0.        ,  0.        ,\n",
       "         0.        ,  0.        ,  0.        ,  0.        ,  0.        ,\n",
       "         0.        ,  0.        ,  0.        ,  0.        ,  0.        ],\n",
       "       [ 0.        ,  0.        ,  0.        ,  0.        , -0.60232154,\n",
       "         0.        ,  0.        , -0.52379395,  0.        ,  0.        ,\n",
       "         0.        ,  1.        ,  0.60875566,  0.75780906,  0.        ,\n",
       "         0.        ,  0.        ,  0.        ,  0.        ,  0.5781518 ,\n",
       "         0.        ,  0.        ,  0.        ,  0.        , -0.77727366,\n",
       "         0.        , -0.53823947,  0.        ,  0.54359983, -0.82557324],\n",
       "       [ 0.        ,  0.        ,  0.        ,  0.        ,  0.        ,\n",
       "         0.        ,  0.        ,  0.        ,  0.        ,  0.        ,\n",
       "         0.        ,  0.60875566,  1.        ,  0.        ,  0.        ,\n",
       "         0.        ,  0.        ,  0.        ,  0.        ,  0.        ,\n",
       "         0.        ,  0.        ,  0.        ,  0.        ,  0.        ,\n",
       "         0.        ,  0.        ,  0.        ,  0.        ,  0.        ],\n",
       "       [ 0.51385217,  0.50707365,  0.        ,  0.        ,  0.        ,\n",
       "         0.        ,  0.        ,  0.        , -0.53100929,  0.        ,\n",
       "         0.        ,  0.75780906,  0.        ,  1.        ,  0.        ,\n",
       "         0.        ,  0.        ,  0.        ,  0.        ,  0.        ,\n",
       "         0.        ,  0.        ,  0.        ,  0.        , -0.66599068,\n",
       "         0.        ,  0.        ,  0.        ,  0.        , -0.65549504],\n",
       "       [ 0.        ,  0.        ,  0.        ,  0.        ,  0.        ,\n",
       "         0.        ,  0.        ,  0.        ,  0.        , -0.5015655 ,\n",
       "         0.        ,  0.        ,  0.        ,  0.        ,  1.        ,\n",
       "         0.        ,  0.        ,  0.        ,  0.        ,  0.        ,\n",
       "         0.        ,  0.        ,  0.        ,  0.        ,  0.        ,\n",
       "         0.78702689,  0.        ,  0.        ,  0.        ,  0.        ],\n",
       "       [ 0.        ,  0.        ,  0.        ,  0.        ,  0.        ,\n",
       "         0.        ,  0.        ,  0.        ,  0.        ,  0.        ,\n",
       "         0.6575407 ,  0.        ,  0.        ,  0.        ,  0.        ,\n",
       "         1.        ,  0.        ,  0.        ,  0.        ,  0.        ,\n",
       "         0.        ,  0.        ,  0.        ,  0.        ,  0.        ,\n",
       "         0.        ,  0.        ,  0.54573893,  0.        ,  0.        ],\n",
       "       [ 0.        ,  0.        ,  0.        ,  0.        ,  0.        ,\n",
       "         0.        ,  0.        ,  0.        ,  0.        ,  0.76769334,\n",
       "         0.        ,  0.        ,  0.        ,  0.        ,  0.        ,\n",
       "         0.        ,  1.        ,  0.        ,  0.        ,  0.        ,\n",
       "         0.        ,  0.        ,  0.        ,  0.        ,  0.        ,\n",
       "         0.        ,  0.        ,  0.        ,  0.        ,  0.        ],\n",
       "       [-0.67180718, -0.51875425,  0.        ,  0.        ,  0.        ,\n",
       "         0.        ,  0.        ,  0.        ,  0.        ,  0.        ,\n",
       "         0.        ,  0.        ,  0.        ,  0.        ,  0.        ,\n",
       "         0.        ,  0.        ,  1.        ,  0.        ,  0.        ,\n",
       "        -0.65110067,  0.        ,  0.        ,  0.        ,  0.        ,\n",
       "         0.        ,  0.        ,  0.        ,  0.        ,  0.        ],\n",
       "       [ 0.        ,  0.51936079,  0.        ,  0.        ,  0.        ,\n",
       "         0.        ,  0.        ,  0.        ,  0.        ,  0.        ,\n",
       "         0.        ,  0.        ,  0.        ,  0.        ,  0.        ,\n",
       "         0.        ,  0.        ,  0.        ,  1.        , -0.62806529,\n",
       "         0.        ,  0.        ,  0.        ,  0.        ,  0.        ,\n",
       "        -0.50774914,  0.        ,  0.        , -0.5776453 ,  0.        ],\n",
       "       [ 0.        ,  0.        ,  0.        ,  0.        , -0.56325706,\n",
       "         0.        , -0.68032275, -0.64403999,  0.        ,  0.        ,\n",
       "         0.        ,  0.5781518 ,  0.        ,  0.        ,  0.        ,\n",
       "         0.        ,  0.        ,  0.        , -0.62806529,  1.        ,\n",
       "         0.        ,  0.        ,  0.        ,  0.        , -0.67784226,\n",
       "         0.        , -0.67675332,  0.        ,  0.        , -0.55802662],\n",
       "       [ 0.64900548,  0.        ,  0.        ,  0.        ,  0.        ,\n",
       "         0.        ,  0.        ,  0.        ,  0.        ,  0.        ,\n",
       "         0.        ,  0.        ,  0.        ,  0.        ,  0.        ,\n",
       "         0.        ,  0.        , -0.65110067,  0.        ,  0.        ,\n",
       "         1.        ,  0.        , -0.52011779,  0.        ,  0.        ,\n",
       "         0.        ,  0.        ,  0.        ,  0.        ,  0.        ],\n",
       "       [ 0.        ,  0.        ,  0.        ,  0.        ,  0.        ,\n",
       "         0.        ,  0.        ,  0.        ,  0.        ,  0.        ,\n",
       "         0.        ,  0.        ,  0.        ,  0.        ,  0.        ,\n",
       "         0.        ,  0.        ,  0.        ,  0.        ,  0.        ,\n",
       "         0.        ,  1.        ,  0.        ,  0.        ,  0.        ,\n",
       "         0.        , -0.53715695,  0.        ,  0.        ,  0.        ],\n",
       "       [ 0.        ,  0.        ,  0.        ,  0.        ,  0.        ,\n",
       "         0.        ,  0.        ,  0.        ,  0.        ,  0.        ,\n",
       "         0.        ,  0.        ,  0.        ,  0.        ,  0.        ,\n",
       "         0.        ,  0.        ,  0.        ,  0.        ,  0.        ,\n",
       "        -0.52011779,  0.        ,  1.        ,  0.        ,  0.        ,\n",
       "         0.        ,  0.        ,  0.        ,  0.        ,  0.        ],\n",
       "       [ 0.        ,  0.        ,  0.        ,  0.        , -0.53533143,\n",
       "         0.        ,  0.        ,  0.        ,  0.        ,  0.        ,\n",
       "         0.        ,  0.        ,  0.        ,  0.        ,  0.        ,\n",
       "         0.        ,  0.        ,  0.        ,  0.        ,  0.        ,\n",
       "         0.        ,  0.        ,  0.        ,  1.        , -0.58884131,\n",
       "         0.        ,  0.        ,  0.        ,  0.        ,  0.        ],\n",
       "       [ 0.        ,  0.        ,  0.        ,  0.        ,  0.76979031,\n",
       "         0.        ,  0.69832801,  0.62128874,  0.        ,  0.        ,\n",
       "         0.        , -0.77727366,  0.        , -0.66599068,  0.        ,\n",
       "         0.        ,  0.        ,  0.        ,  0.        , -0.67784226,\n",
       "         0.        ,  0.        ,  0.        , -0.58884131,  1.        ,\n",
       "         0.        ,  0.5717064 ,  0.        ,  0.        ,  0.79567547],\n",
       "       [ 0.        ,  0.        ,  0.        ,  0.        ,  0.        ,\n",
       "         0.        ,  0.        ,  0.        ,  0.        ,  0.        ,\n",
       "         0.        ,  0.        ,  0.        ,  0.        ,  0.78702689,\n",
       "         0.        ,  0.        ,  0.        , -0.50774914,  0.        ,\n",
       "         0.        ,  0.        ,  0.        ,  0.        ,  0.        ,\n",
       "         1.        ,  0.        ,  0.        ,  0.        ,  0.        ],\n",
       "       [ 0.        ,  0.        ,  0.5019137 ,  0.        ,  0.        ,\n",
       "         0.        ,  0.68760897,  0.62339656,  0.        ,  0.        ,\n",
       "         0.        , -0.53823947,  0.        ,  0.        ,  0.        ,\n",
       "         0.        ,  0.        ,  0.        ,  0.        , -0.67675332,\n",
       "         0.        , -0.53715695,  0.        ,  0.        ,  0.5717064 ,\n",
       "         0.        ,  1.        ,  0.        ,  0.        ,  0.62779089],\n",
       "       [ 0.        ,  0.        ,  0.59163611,  0.58202203,  0.        ,\n",
       "         0.        ,  0.55049444,  0.        ,  0.        ,  0.        ,\n",
       "         0.        ,  0.        ,  0.        ,  0.        ,  0.        ,\n",
       "         0.54573893,  0.        ,  0.        ,  0.        ,  0.        ,\n",
       "         0.        ,  0.        ,  0.        ,  0.        ,  0.        ,\n",
       "         0.        ,  0.        ,  1.        ,  0.        ,  0.        ],\n",
       "       [ 0.        ,  0.        ,  0.        ,  0.60570478,  0.        ,\n",
       "         0.        ,  0.        ,  0.        ,  0.        ,  0.        ,\n",
       "         0.        ,  0.54359983,  0.        ,  0.        ,  0.        ,\n",
       "         0.        ,  0.        ,  0.        , -0.5776453 ,  0.        ,\n",
       "         0.        ,  0.        ,  0.        ,  0.        ,  0.        ,\n",
       "         0.        ,  0.        ,  0.        ,  1.        ,  0.        ],\n",
       "       [ 0.        ,  0.        ,  0.        ,  0.        ,  0.59329282,\n",
       "         0.        ,  0.61954932,  0.61508033,  0.        ,  0.        ,\n",
       "         0.        , -0.82557324,  0.        , -0.65549504,  0.        ,\n",
       "         0.        ,  0.        ,  0.        ,  0.        , -0.55802662,\n",
       "         0.        ,  0.        ,  0.        ,  0.        ,  0.79567547,\n",
       "         0.        ,  0.62779089,  0.        ,  0.        ,  1.        ]])"
      ]
     },
     "execution_count": 30,
     "metadata": {},
     "output_type": "execute_result"
    }
   ],
   "source": [
    "co_exp[:30, :30]"
   ]
  },
  {
   "cell_type": "code",
   "execution_count": null,
   "id": "e0ece8ef-5691-4d62-8ec5-9058d7ca8206",
   "metadata": {},
   "outputs": [],
   "source": []
  }
 ],
 "metadata": {
  "kernelspec": {
   "display_name": "Python [conda env:zl_scp]",
   "language": "python",
   "name": "conda-env-zl_scp-py"
  },
  "language_info": {
   "codemirror_mode": {
    "name": "ipython",
    "version": 3
   },
   "file_extension": ".py",
   "mimetype": "text/x-python",
   "name": "python",
   "nbconvert_exporter": "python",
   "pygments_lexer": "ipython3",
   "version": "3.10.12"
  }
 },
 "nbformat": 4,
 "nbformat_minor": 5
}
