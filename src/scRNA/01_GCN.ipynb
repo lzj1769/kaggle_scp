{
 "cells": [
  {
   "cell_type": "code",
   "execution_count": 13,
   "id": "123b9df1-92c0-4270-9425-0121edff1c8d",
   "metadata": {},
   "outputs": [],
   "source": [
    "import os\n",
    "import pandas as pd\n",
    "\n",
    "import numpy as np\n",
    "import scanpy as sc\n",
    "import mudata as md\n",
    "import torch\n",
    "import torch.nn.functional as F\n",
    "from torch_geometric.nn import GCNConv"
   ]
  },
  {
   "cell_type": "code",
   "execution_count": 5,
   "id": "d4eae044-8633-4c70-b803-c2dcc2ab73ec",
   "metadata": {},
   "outputs": [],
   "source": [
    "mdata = md.read_h5mu('../../results/preprocessing_data/multiome_train.h5mu')"
   ]
  },
  {
   "cell_type": "code",
   "execution_count": 6,
   "id": "da2abbd2-f9d7-47ed-b07a-86d233f1f18c",
   "metadata": {},
   "outputs": [
    {
     "data": {
      "text/html": [
       "<pre>MuData object with n_obs × n_vars = 25551 × 158205\n",
       "  var:\t&#x27;gene_id&#x27;, &#x27;feature_type&#x27;, &#x27;genome&#x27;, &#x27;interval&#x27;\n",
       "  2 modalities\n",
       "    rna:\t25551 x 22787\n",
       "      obs:\t&#x27;cell_type&#x27;, &#x27;donor_id&#x27;\n",
       "      var:\t&#x27;gene_id&#x27;, &#x27;feature_type&#x27;, &#x27;genome&#x27;, &#x27;interval&#x27;\n",
       "      layers:\t&#x27;counts&#x27;, &#x27;normalized_count&#x27;\n",
       "    atac:\t25551 x 135418\n",
       "      obs:\t&#x27;cell_type&#x27;, &#x27;donor_id&#x27;\n",
       "      var:\t&#x27;gene_id&#x27;, &#x27;feature_type&#x27;, &#x27;genome&#x27;, &#x27;interval&#x27;\n",
       "      layers:\t&#x27;counts&#x27;, &#x27;normalized_count&#x27;</pre>"
      ],
      "text/plain": [
       "MuData object with n_obs × n_vars = 25551 × 158205\n",
       "  var:\t'gene_id', 'feature_type', 'genome', 'interval'\n",
       "  2 modalities\n",
       "    rna:\t25551 x 22787\n",
       "      obs:\t'cell_type', 'donor_id'\n",
       "      var:\t'gene_id', 'feature_type', 'genome', 'interval'\n",
       "      layers:\t'counts', 'normalized_count'\n",
       "    atac:\t25551 x 135418\n",
       "      obs:\t'cell_type', 'donor_id'\n",
       "      var:\t'gene_id', 'feature_type', 'genome', 'interval'\n",
       "      layers:\t'counts', 'normalized_count'"
      ]
     },
     "execution_count": 6,
     "metadata": {},
     "output_type": "execute_result"
    }
   ],
   "source": [
    "mdata"
   ]
  },
  {
   "cell_type": "code",
   "execution_count": 45,
   "id": "8ed50a6c-4b14-483b-bf28-4fe54967d009",
   "metadata": {},
   "outputs": [],
   "source": [
    "def get_pesudo_bulk(adata, by):\n",
    "    grouped = adata.obs.groupby(by)\n",
    "    \n",
    "    df_bulk = pd.DataFrame(\n",
    "        np.zeros((adata.shape[1], len(grouped)), dtype=np.float32),\n",
    "        columns=list(grouped.groups.keys()),\n",
    "        index=adata.var_names\n",
    "    )\n",
    "    \n",
    "    for group, idx in grouped.indices.items():\n",
    "        X = adata.layers['counts'][idx]\n",
    "        df_bulk[group] = np.ravel(X.mean(axis=0, dtype=np.float32))\n",
    "    \n",
    "    return df_bulk.transpose()"
   ]
  },
  {
   "cell_type": "code",
   "execution_count": 46,
   "id": "441ebf24-3b96-4560-a309-82bc68f59f69",
   "metadata": {},
   "outputs": [
    {
     "name": "stderr",
     "output_type": "stream",
     "text": [
      "/tmp/ipykernel_177796/1882208799.py:2: FutureWarning: The default of observed=False is deprecated and will be changed to True in a future version of pandas. Pass observed=False to retain current behavior or observed=True to adopt the future default and silence this warning.\n",
      "  grouped = adata.obs.groupby(by)\n"
     ]
    }
   ],
   "source": [
    "df_bulk = get_pesudo_bulk(adata=adata_rna, by=['cell_type', 'donor_id'])"
   ]
  },
  {
   "cell_type": "code",
   "execution_count": 47,
   "id": "6eb041ec-c590-47a4-b250-4c50b9074d8c",
   "metadata": {},
   "outputs": [
    {
     "data": {
      "text/html": [
       "<div>\n",
       "<style scoped>\n",
       "    .dataframe tbody tr th:only-of-type {\n",
       "        vertical-align: middle;\n",
       "    }\n",
       "\n",
       "    .dataframe tbody tr th {\n",
       "        vertical-align: top;\n",
       "    }\n",
       "\n",
       "    .dataframe thead th {\n",
       "        text-align: right;\n",
       "    }\n",
       "</style>\n",
       "<table border=\"1\" class=\"dataframe\">\n",
       "  <thead>\n",
       "    <tr style=\"text-align: right;\">\n",
       "      <th>location</th>\n",
       "      <th>A1BG</th>\n",
       "      <th>A1BG-AS1</th>\n",
       "      <th>A2M</th>\n",
       "      <th>A2M-AS1</th>\n",
       "      <th>A2ML1</th>\n",
       "      <th>A2ML1-AS1</th>\n",
       "      <th>A3GALT2</th>\n",
       "      <th>A4GALT</th>\n",
       "      <th>AAAS</th>\n",
       "      <th>AACS</th>\n",
       "      <th>...</th>\n",
       "      <th>ZW10</th>\n",
       "      <th>ZWILCH</th>\n",
       "      <th>ZWINT</th>\n",
       "      <th>ZXDA</th>\n",
       "      <th>ZXDB</th>\n",
       "      <th>ZXDC</th>\n",
       "      <th>ZYG11A</th>\n",
       "      <th>ZYG11B</th>\n",
       "      <th>ZYX</th>\n",
       "      <th>ZZEF1</th>\n",
       "    </tr>\n",
       "  </thead>\n",
       "  <tbody>\n",
       "    <tr>\n",
       "      <th>(B cells, donor_0)</th>\n",
       "      <td>0.042955</td>\n",
       "      <td>0.074456</td>\n",
       "      <td>0.013173</td>\n",
       "      <td>0.001718</td>\n",
       "      <td>0.000573</td>\n",
       "      <td>0.011455</td>\n",
       "      <td>0.000000</td>\n",
       "      <td>0.001145</td>\n",
       "      <td>0.028637</td>\n",
       "      <td>0.027491</td>\n",
       "      <td>...</td>\n",
       "      <td>0.031501</td>\n",
       "      <td>0.021191</td>\n",
       "      <td>0.001718</td>\n",
       "      <td>0.004582</td>\n",
       "      <td>0.005155</td>\n",
       "      <td>0.250860</td>\n",
       "      <td>0.003436</td>\n",
       "      <td>0.110539</td>\n",
       "      <td>0.052119</td>\n",
       "      <td>0.187859</td>\n",
       "    </tr>\n",
       "    <tr>\n",
       "      <th>(B cells, donor_1)</th>\n",
       "      <td>0.080740</td>\n",
       "      <td>0.070648</td>\n",
       "      <td>0.064760</td>\n",
       "      <td>0.009251</td>\n",
       "      <td>0.005046</td>\n",
       "      <td>0.016821</td>\n",
       "      <td>0.001682</td>\n",
       "      <td>0.000841</td>\n",
       "      <td>0.037006</td>\n",
       "      <td>0.046257</td>\n",
       "      <td>...</td>\n",
       "      <td>0.064760</td>\n",
       "      <td>0.038688</td>\n",
       "      <td>0.003364</td>\n",
       "      <td>0.004205</td>\n",
       "      <td>0.023549</td>\n",
       "      <td>0.432296</td>\n",
       "      <td>0.016821</td>\n",
       "      <td>0.210260</td>\n",
       "      <td>0.130362</td>\n",
       "      <td>0.352397</td>\n",
       "    </tr>\n",
       "    <tr>\n",
       "      <th>(B cells, donor_2)</th>\n",
       "      <td>0.037757</td>\n",
       "      <td>0.049199</td>\n",
       "      <td>0.035469</td>\n",
       "      <td>0.016018</td>\n",
       "      <td>0.000000</td>\n",
       "      <td>0.010297</td>\n",
       "      <td>0.000000</td>\n",
       "      <td>0.000000</td>\n",
       "      <td>0.021739</td>\n",
       "      <td>0.035469</td>\n",
       "      <td>...</td>\n",
       "      <td>0.034325</td>\n",
       "      <td>0.022883</td>\n",
       "      <td>0.001144</td>\n",
       "      <td>0.000000</td>\n",
       "      <td>0.004577</td>\n",
       "      <td>0.240275</td>\n",
       "      <td>0.003432</td>\n",
       "      <td>0.145309</td>\n",
       "      <td>0.077803</td>\n",
       "      <td>0.205950</td>\n",
       "    </tr>\n",
       "    <tr>\n",
       "      <th>(Myeloid cells, donor_0)</th>\n",
       "      <td>0.091756</td>\n",
       "      <td>0.068100</td>\n",
       "      <td>0.271685</td>\n",
       "      <td>0.002867</td>\n",
       "      <td>0.007885</td>\n",
       "      <td>0.007885</td>\n",
       "      <td>0.006452</td>\n",
       "      <td>0.001434</td>\n",
       "      <td>0.075986</td>\n",
       "      <td>0.015771</td>\n",
       "      <td>...</td>\n",
       "      <td>0.076702</td>\n",
       "      <td>0.029391</td>\n",
       "      <td>0.005018</td>\n",
       "      <td>0.002151</td>\n",
       "      <td>0.006452</td>\n",
       "      <td>0.370609</td>\n",
       "      <td>0.002867</td>\n",
       "      <td>0.236559</td>\n",
       "      <td>0.561290</td>\n",
       "      <td>0.741219</td>\n",
       "    </tr>\n",
       "    <tr>\n",
       "      <th>(Myeloid cells, donor_1)</th>\n",
       "      <td>0.136185</td>\n",
       "      <td>0.077708</td>\n",
       "      <td>0.390111</td>\n",
       "      <td>0.012559</td>\n",
       "      <td>0.015699</td>\n",
       "      <td>0.012559</td>\n",
       "      <td>0.003532</td>\n",
       "      <td>0.038462</td>\n",
       "      <td>0.081240</td>\n",
       "      <td>0.035714</td>\n",
       "      <td>...</td>\n",
       "      <td>0.195448</td>\n",
       "      <td>0.071429</td>\n",
       "      <td>0.006279</td>\n",
       "      <td>0.006672</td>\n",
       "      <td>0.010597</td>\n",
       "      <td>0.619701</td>\n",
       "      <td>0.000392</td>\n",
       "      <td>0.463110</td>\n",
       "      <td>0.626763</td>\n",
       "      <td>1.187585</td>\n",
       "    </tr>\n",
       "  </tbody>\n",
       "</table>\n",
       "<p>5 rows × 22787 columns</p>\n",
       "</div>"
      ],
      "text/plain": [
       "location                      A1BG  A1BG-AS1       A2M   A2M-AS1     A2ML1  \\\n",
       "(B cells, donor_0)        0.042955  0.074456  0.013173  0.001718  0.000573   \n",
       "(B cells, donor_1)        0.080740  0.070648  0.064760  0.009251  0.005046   \n",
       "(B cells, donor_2)        0.037757  0.049199  0.035469  0.016018  0.000000   \n",
       "(Myeloid cells, donor_0)  0.091756  0.068100  0.271685  0.002867  0.007885   \n",
       "(Myeloid cells, donor_1)  0.136185  0.077708  0.390111  0.012559  0.015699   \n",
       "\n",
       "location                  A2ML1-AS1   A3GALT2    A4GALT      AAAS      AACS  \\\n",
       "(B cells, donor_0)         0.011455  0.000000  0.001145  0.028637  0.027491   \n",
       "(B cells, donor_1)         0.016821  0.001682  0.000841  0.037006  0.046257   \n",
       "(B cells, donor_2)         0.010297  0.000000  0.000000  0.021739  0.035469   \n",
       "(Myeloid cells, donor_0)   0.007885  0.006452  0.001434  0.075986  0.015771   \n",
       "(Myeloid cells, donor_1)   0.012559  0.003532  0.038462  0.081240  0.035714   \n",
       "\n",
       "location                  ...      ZW10    ZWILCH     ZWINT      ZXDA  \\\n",
       "(B cells, donor_0)        ...  0.031501  0.021191  0.001718  0.004582   \n",
       "(B cells, donor_1)        ...  0.064760  0.038688  0.003364  0.004205   \n",
       "(B cells, donor_2)        ...  0.034325  0.022883  0.001144  0.000000   \n",
       "(Myeloid cells, donor_0)  ...  0.076702  0.029391  0.005018  0.002151   \n",
       "(Myeloid cells, donor_1)  ...  0.195448  0.071429  0.006279  0.006672   \n",
       "\n",
       "location                      ZXDB      ZXDC    ZYG11A    ZYG11B       ZYX  \\\n",
       "(B cells, donor_0)        0.005155  0.250860  0.003436  0.110539  0.052119   \n",
       "(B cells, donor_1)        0.023549  0.432296  0.016821  0.210260  0.130362   \n",
       "(B cells, donor_2)        0.004577  0.240275  0.003432  0.145309  0.077803   \n",
       "(Myeloid cells, donor_0)  0.006452  0.370609  0.002867  0.236559  0.561290   \n",
       "(Myeloid cells, donor_1)  0.010597  0.619701  0.000392  0.463110  0.626763   \n",
       "\n",
       "location                     ZZEF1  \n",
       "(B cells, donor_0)        0.187859  \n",
       "(B cells, donor_1)        0.352397  \n",
       "(B cells, donor_2)        0.205950  \n",
       "(Myeloid cells, donor_0)  0.741219  \n",
       "(Myeloid cells, donor_1)  1.187585  \n",
       "\n",
       "[5 rows x 22787 columns]"
      ]
     },
     "execution_count": 47,
     "metadata": {},
     "output_type": "execute_result"
    }
   ],
   "source": [
    "df_bulk.head()"
   ]
  },
  {
   "cell_type": "code",
   "execution_count": 48,
   "id": "7deaafcc-7e65-4ee9-9e63-4546f18cedc2",
   "metadata": {},
   "outputs": [],
   "source": [
    "# filter genes by training data\n",
    "df_de_train = pd.read_parquet('../../data/de_train.parquet')\n",
    "sel_genes = df_de_train.columns.values.tolist()[5:]"
   ]
  },
  {
   "cell_type": "code",
   "execution_count": 54,
   "id": "de4dd979-36e6-4bbe-8a3d-c7f23fa54d11",
   "metadata": {},
   "outputs": [
    {
     "data": {
      "text/plain": [
       "['A1BG',\n",
       " 'A1BG-AS1',\n",
       " 'A2M',\n",
       " 'A2M-AS1',\n",
       " 'A2MP1',\n",
       " 'A4GALT',\n",
       " 'AAAS',\n",
       " 'AACS',\n",
       " 'AAGAB',\n",
       " 'AAK1']"
      ]
     },
     "execution_count": 54,
     "metadata": {},
     "output_type": "execute_result"
    }
   ],
   "source": [
    "sel_genes[:10]"
   ]
  },
  {
   "cell_type": "code",
   "execution_count": 55,
   "id": "0af23234-716f-4d2f-b457-10d27f4543cd",
   "metadata": {},
   "outputs": [
    {
     "ename": "KeyError",
     "evalue": "\"['A2MP1'] not in index\"",
     "output_type": "error",
     "traceback": [
      "\u001b[0;31m---------------------------------------------------------------------------\u001b[0m",
      "\u001b[0;31mKeyError\u001b[0m                                  Traceback (most recent call last)",
      "Cell \u001b[0;32mIn[55], line 1\u001b[0m\n\u001b[0;32m----> 1\u001b[0m \u001b[43mdf_bulk\u001b[49m\u001b[38;5;241;43m.\u001b[39;49m\u001b[43mloc\u001b[49m\u001b[43m[\u001b[49m\u001b[43m:\u001b[49m\u001b[43m,\u001b[49m\u001b[43m \u001b[49m\u001b[43msel_genes\u001b[49m\u001b[43m[\u001b[49m\u001b[43m:\u001b[49m\u001b[38;5;241;43m10\u001b[39;49m\u001b[43m]\u001b[49m\u001b[43m]\u001b[49m\n",
      "File \u001b[0;32m/data/pinello/SHARED_SOFTWARE/anaconda_latest/envs/zl_scp/lib/python3.10/site-packages/pandas/core/indexing.py:1147\u001b[0m, in \u001b[0;36m_LocationIndexer.__getitem__\u001b[0;34m(self, key)\u001b[0m\n\u001b[1;32m   1145\u001b[0m     \u001b[38;5;28;01mif\u001b[39;00m \u001b[38;5;28mself\u001b[39m\u001b[38;5;241m.\u001b[39m_is_scalar_access(key):\n\u001b[1;32m   1146\u001b[0m         \u001b[38;5;28;01mreturn\u001b[39;00m \u001b[38;5;28mself\u001b[39m\u001b[38;5;241m.\u001b[39mobj\u001b[38;5;241m.\u001b[39m_get_value(\u001b[38;5;241m*\u001b[39mkey, takeable\u001b[38;5;241m=\u001b[39m\u001b[38;5;28mself\u001b[39m\u001b[38;5;241m.\u001b[39m_takeable)\n\u001b[0;32m-> 1147\u001b[0m     \u001b[38;5;28;01mreturn\u001b[39;00m \u001b[38;5;28;43mself\u001b[39;49m\u001b[38;5;241;43m.\u001b[39;49m\u001b[43m_getitem_tuple\u001b[49m\u001b[43m(\u001b[49m\u001b[43mkey\u001b[49m\u001b[43m)\u001b[49m\n\u001b[1;32m   1148\u001b[0m \u001b[38;5;28;01melse\u001b[39;00m:\n\u001b[1;32m   1149\u001b[0m     \u001b[38;5;66;03m# we by definition only have the 0th axis\u001b[39;00m\n\u001b[1;32m   1150\u001b[0m     axis \u001b[38;5;241m=\u001b[39m \u001b[38;5;28mself\u001b[39m\u001b[38;5;241m.\u001b[39maxis \u001b[38;5;129;01mor\u001b[39;00m \u001b[38;5;241m0\u001b[39m\n",
      "File \u001b[0;32m/data/pinello/SHARED_SOFTWARE/anaconda_latest/envs/zl_scp/lib/python3.10/site-packages/pandas/core/indexing.py:1339\u001b[0m, in \u001b[0;36m_LocIndexer._getitem_tuple\u001b[0;34m(self, tup)\u001b[0m\n\u001b[1;32m   1336\u001b[0m \u001b[38;5;28;01mif\u001b[39;00m \u001b[38;5;28mself\u001b[39m\u001b[38;5;241m.\u001b[39m_multi_take_opportunity(tup):\n\u001b[1;32m   1337\u001b[0m     \u001b[38;5;28;01mreturn\u001b[39;00m \u001b[38;5;28mself\u001b[39m\u001b[38;5;241m.\u001b[39m_multi_take(tup)\n\u001b[0;32m-> 1339\u001b[0m \u001b[38;5;28;01mreturn\u001b[39;00m \u001b[38;5;28;43mself\u001b[39;49m\u001b[38;5;241;43m.\u001b[39;49m\u001b[43m_getitem_tuple_same_dim\u001b[49m\u001b[43m(\u001b[49m\u001b[43mtup\u001b[49m\u001b[43m)\u001b[49m\n",
      "File \u001b[0;32m/data/pinello/SHARED_SOFTWARE/anaconda_latest/envs/zl_scp/lib/python3.10/site-packages/pandas/core/indexing.py:994\u001b[0m, in \u001b[0;36m_LocationIndexer._getitem_tuple_same_dim\u001b[0;34m(self, tup)\u001b[0m\n\u001b[1;32m    991\u001b[0m \u001b[38;5;28;01mif\u001b[39;00m com\u001b[38;5;241m.\u001b[39mis_null_slice(key):\n\u001b[1;32m    992\u001b[0m     \u001b[38;5;28;01mcontinue\u001b[39;00m\n\u001b[0;32m--> 994\u001b[0m retval \u001b[38;5;241m=\u001b[39m \u001b[38;5;28;43mgetattr\u001b[39;49m\u001b[43m(\u001b[49m\u001b[43mretval\u001b[49m\u001b[43m,\u001b[49m\u001b[43m \u001b[49m\u001b[38;5;28;43mself\u001b[39;49m\u001b[38;5;241;43m.\u001b[39;49m\u001b[43mname\u001b[49m\u001b[43m)\u001b[49m\u001b[38;5;241;43m.\u001b[39;49m\u001b[43m_getitem_axis\u001b[49m\u001b[43m(\u001b[49m\u001b[43mkey\u001b[49m\u001b[43m,\u001b[49m\u001b[43m \u001b[49m\u001b[43maxis\u001b[49m\u001b[38;5;241;43m=\u001b[39;49m\u001b[43mi\u001b[49m\u001b[43m)\u001b[49m\n\u001b[1;32m    995\u001b[0m \u001b[38;5;66;03m# We should never have retval.ndim < self.ndim, as that should\u001b[39;00m\n\u001b[1;32m    996\u001b[0m \u001b[38;5;66;03m#  be handled by the _getitem_lowerdim call above.\u001b[39;00m\n\u001b[1;32m    997\u001b[0m \u001b[38;5;28;01massert\u001b[39;00m retval\u001b[38;5;241m.\u001b[39mndim \u001b[38;5;241m==\u001b[39m \u001b[38;5;28mself\u001b[39m\u001b[38;5;241m.\u001b[39mndim\n",
      "File \u001b[0;32m/data/pinello/SHARED_SOFTWARE/anaconda_latest/envs/zl_scp/lib/python3.10/site-packages/pandas/core/indexing.py:1382\u001b[0m, in \u001b[0;36m_LocIndexer._getitem_axis\u001b[0;34m(self, key, axis)\u001b[0m\n\u001b[1;32m   1379\u001b[0m     \u001b[38;5;28;01mif\u001b[39;00m \u001b[38;5;28mhasattr\u001b[39m(key, \u001b[38;5;124m\"\u001b[39m\u001b[38;5;124mndim\u001b[39m\u001b[38;5;124m\"\u001b[39m) \u001b[38;5;129;01mand\u001b[39;00m key\u001b[38;5;241m.\u001b[39mndim \u001b[38;5;241m>\u001b[39m \u001b[38;5;241m1\u001b[39m:\n\u001b[1;32m   1380\u001b[0m         \u001b[38;5;28;01mraise\u001b[39;00m \u001b[38;5;167;01mValueError\u001b[39;00m(\u001b[38;5;124m\"\u001b[39m\u001b[38;5;124mCannot index with multidimensional key\u001b[39m\u001b[38;5;124m\"\u001b[39m)\n\u001b[0;32m-> 1382\u001b[0m     \u001b[38;5;28;01mreturn\u001b[39;00m \u001b[38;5;28;43mself\u001b[39;49m\u001b[38;5;241;43m.\u001b[39;49m\u001b[43m_getitem_iterable\u001b[49m\u001b[43m(\u001b[49m\u001b[43mkey\u001b[49m\u001b[43m,\u001b[49m\u001b[43m \u001b[49m\u001b[43maxis\u001b[49m\u001b[38;5;241;43m=\u001b[39;49m\u001b[43maxis\u001b[49m\u001b[43m)\u001b[49m\n\u001b[1;32m   1384\u001b[0m \u001b[38;5;66;03m# nested tuple slicing\u001b[39;00m\n\u001b[1;32m   1385\u001b[0m \u001b[38;5;28;01mif\u001b[39;00m is_nested_tuple(key, labels):\n",
      "File \u001b[0;32m/data/pinello/SHARED_SOFTWARE/anaconda_latest/envs/zl_scp/lib/python3.10/site-packages/pandas/core/indexing.py:1322\u001b[0m, in \u001b[0;36m_LocIndexer._getitem_iterable\u001b[0;34m(self, key, axis)\u001b[0m\n\u001b[1;32m   1319\u001b[0m \u001b[38;5;28mself\u001b[39m\u001b[38;5;241m.\u001b[39m_validate_key(key, axis)\n\u001b[1;32m   1321\u001b[0m \u001b[38;5;66;03m# A collection of keys\u001b[39;00m\n\u001b[0;32m-> 1322\u001b[0m keyarr, indexer \u001b[38;5;241m=\u001b[39m \u001b[38;5;28;43mself\u001b[39;49m\u001b[38;5;241;43m.\u001b[39;49m\u001b[43m_get_listlike_indexer\u001b[49m\u001b[43m(\u001b[49m\u001b[43mkey\u001b[49m\u001b[43m,\u001b[49m\u001b[43m \u001b[49m\u001b[43maxis\u001b[49m\u001b[43m)\u001b[49m\n\u001b[1;32m   1323\u001b[0m \u001b[38;5;28;01mreturn\u001b[39;00m \u001b[38;5;28mself\u001b[39m\u001b[38;5;241m.\u001b[39mobj\u001b[38;5;241m.\u001b[39m_reindex_with_indexers(\n\u001b[1;32m   1324\u001b[0m     {axis: [keyarr, indexer]}, copy\u001b[38;5;241m=\u001b[39m\u001b[38;5;28;01mTrue\u001b[39;00m, allow_dups\u001b[38;5;241m=\u001b[39m\u001b[38;5;28;01mTrue\u001b[39;00m\n\u001b[1;32m   1325\u001b[0m )\n",
      "File \u001b[0;32m/data/pinello/SHARED_SOFTWARE/anaconda_latest/envs/zl_scp/lib/python3.10/site-packages/pandas/core/indexing.py:1520\u001b[0m, in \u001b[0;36m_LocIndexer._get_listlike_indexer\u001b[0;34m(self, key, axis)\u001b[0m\n\u001b[1;32m   1517\u001b[0m ax \u001b[38;5;241m=\u001b[39m \u001b[38;5;28mself\u001b[39m\u001b[38;5;241m.\u001b[39mobj\u001b[38;5;241m.\u001b[39m_get_axis(axis)\n\u001b[1;32m   1518\u001b[0m axis_name \u001b[38;5;241m=\u001b[39m \u001b[38;5;28mself\u001b[39m\u001b[38;5;241m.\u001b[39mobj\u001b[38;5;241m.\u001b[39m_get_axis_name(axis)\n\u001b[0;32m-> 1520\u001b[0m keyarr, indexer \u001b[38;5;241m=\u001b[39m \u001b[43max\u001b[49m\u001b[38;5;241;43m.\u001b[39;49m\u001b[43m_get_indexer_strict\u001b[49m\u001b[43m(\u001b[49m\u001b[43mkey\u001b[49m\u001b[43m,\u001b[49m\u001b[43m \u001b[49m\u001b[43maxis_name\u001b[49m\u001b[43m)\u001b[49m\n\u001b[1;32m   1522\u001b[0m \u001b[38;5;28;01mreturn\u001b[39;00m keyarr, indexer\n",
      "File \u001b[0;32m/data/pinello/SHARED_SOFTWARE/anaconda_latest/envs/zl_scp/lib/python3.10/site-packages/pandas/core/indexes/base.py:6114\u001b[0m, in \u001b[0;36mIndex._get_indexer_strict\u001b[0;34m(self, key, axis_name)\u001b[0m\n\u001b[1;32m   6111\u001b[0m \u001b[38;5;28;01melse\u001b[39;00m:\n\u001b[1;32m   6112\u001b[0m     keyarr, indexer, new_indexer \u001b[38;5;241m=\u001b[39m \u001b[38;5;28mself\u001b[39m\u001b[38;5;241m.\u001b[39m_reindex_non_unique(keyarr)\n\u001b[0;32m-> 6114\u001b[0m \u001b[38;5;28;43mself\u001b[39;49m\u001b[38;5;241;43m.\u001b[39;49m\u001b[43m_raise_if_missing\u001b[49m\u001b[43m(\u001b[49m\u001b[43mkeyarr\u001b[49m\u001b[43m,\u001b[49m\u001b[43m \u001b[49m\u001b[43mindexer\u001b[49m\u001b[43m,\u001b[49m\u001b[43m \u001b[49m\u001b[43maxis_name\u001b[49m\u001b[43m)\u001b[49m\n\u001b[1;32m   6116\u001b[0m keyarr \u001b[38;5;241m=\u001b[39m \u001b[38;5;28mself\u001b[39m\u001b[38;5;241m.\u001b[39mtake(indexer)\n\u001b[1;32m   6117\u001b[0m \u001b[38;5;28;01mif\u001b[39;00m \u001b[38;5;28misinstance\u001b[39m(key, Index):\n\u001b[1;32m   6118\u001b[0m     \u001b[38;5;66;03m# GH 42790 - Preserve name from an Index\u001b[39;00m\n",
      "File \u001b[0;32m/data/pinello/SHARED_SOFTWARE/anaconda_latest/envs/zl_scp/lib/python3.10/site-packages/pandas/core/indexes/base.py:6178\u001b[0m, in \u001b[0;36mIndex._raise_if_missing\u001b[0;34m(self, key, indexer, axis_name)\u001b[0m\n\u001b[1;32m   6175\u001b[0m     \u001b[38;5;28;01mraise\u001b[39;00m \u001b[38;5;167;01mKeyError\u001b[39;00m(\u001b[38;5;124mf\u001b[39m\u001b[38;5;124m\"\u001b[39m\u001b[38;5;124mNone of [\u001b[39m\u001b[38;5;132;01m{\u001b[39;00mkey\u001b[38;5;132;01m}\u001b[39;00m\u001b[38;5;124m] are in the [\u001b[39m\u001b[38;5;132;01m{\u001b[39;00maxis_name\u001b[38;5;132;01m}\u001b[39;00m\u001b[38;5;124m]\u001b[39m\u001b[38;5;124m\"\u001b[39m)\n\u001b[1;32m   6177\u001b[0m not_found \u001b[38;5;241m=\u001b[39m \u001b[38;5;28mlist\u001b[39m(ensure_index(key)[missing_mask\u001b[38;5;241m.\u001b[39mnonzero()[\u001b[38;5;241m0\u001b[39m]]\u001b[38;5;241m.\u001b[39munique())\n\u001b[0;32m-> 6178\u001b[0m \u001b[38;5;28;01mraise\u001b[39;00m \u001b[38;5;167;01mKeyError\u001b[39;00m(\u001b[38;5;124mf\u001b[39m\u001b[38;5;124m\"\u001b[39m\u001b[38;5;132;01m{\u001b[39;00mnot_found\u001b[38;5;132;01m}\u001b[39;00m\u001b[38;5;124m not in index\u001b[39m\u001b[38;5;124m\"\u001b[39m)\n",
      "\u001b[0;31mKeyError\u001b[0m: \"['A2MP1'] not in index\""
     ]
    }
   ],
   "source": [
    "df_bulk.loc[:, sel_genes[:10]]"
   ]
  },
  {
   "cell_type": "code",
   "execution_count": null,
   "id": "ce772e1a-d02f-4de4-8ee3-6e0218d2464d",
   "metadata": {},
   "outputs": [],
   "source": []
  }
 ],
 "metadata": {
  "kernelspec": {
   "display_name": "Python [conda env:zl_scp]",
   "language": "python",
   "name": "conda-env-zl_scp-py"
  },
  "language_info": {
   "codemirror_mode": {
    "name": "ipython",
    "version": 3
   },
   "file_extension": ".py",
   "mimetype": "text/x-python",
   "name": "python",
   "nbconvert_exporter": "python",
   "pygments_lexer": "ipython3",
   "version": "3.10.12"
  }
 },
 "nbformat": 4,
 "nbformat_minor": 5
}
